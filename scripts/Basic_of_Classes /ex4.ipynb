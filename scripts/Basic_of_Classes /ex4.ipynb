{
 "cells": [
  {
   "cell_type": "markdown",
   "metadata": {},
   "source": [
    "## Answer the following theoretical questions in Python classes. Give structured information and usage examples code snippets.\n"
   ]
  },
  {
   "cell_type": "markdown",
   "metadata": {},
   "source": [
    "##### 1. What is the difference between the __init__() and __new__() methods in Python classes? Provide an example to illustrate their usage.\n",
    "\n",
    "* **__init__:** it is the initializer of an object. Serves to instantiate an object from a given Class and provide the attributes of that class"
   ]
  },
  {
   "cell_type": "code",
   "execution_count": 1,
   "metadata": {},
   "outputs": [],
   "source": [
    "class Vector2D:\n",
    "\n",
    "    def __init__(self, x: float, y: float) -> None:\n",
    "        self.x = x\n",
    "        self.y = y\n",
    "\n",
    "\n",
    "vector_2d = Vector2D(2,3)"
   ]
  },
  {
   "cell_type": "markdown",
   "metadata": {},
   "source": [
    "The code above instantiates a `Vector2D` object called `vector_2d`"
   ]
  },
  {
   "cell_type": "markdown",
   "metadata": {},
   "source": [
    "* **__new__:** it is the constructor of an object. Serves to create the object. It is rarely used, unless we want to customize some behaviour\n",
    "\n",
    "When we instantiate an object as above:\n",
    "\n",
    "`vector_2d = Vector2D(2,3)`\n",
    "\n",
    "we are inmediatly calling for both `new` and `init`"
   ]
  },
  {
   "cell_type": "markdown",
   "metadata": {},
   "source": []
  },
  {
   "cell_type": "markdown",
   "metadata": {},
   "source": [
    "##### 2. Under what circumstances would you override the __new__() method in a Python class? Provide a real-world scenario and explain how overriding __new__() would be beneficial.\n"
   ]
  },
  {
   "cell_type": "markdown",
   "metadata": {},
   "source": [
    "In the code above, suppose we want to give the vector as a tuple:"
   ]
  },
  {
   "cell_type": "code",
   "execution_count": 2,
   "metadata": {},
   "outputs": [
    {
     "ename": "TypeError",
     "evalue": "tuple expected at most 1 argument, got 2",
     "output_type": "error",
     "traceback": [
      "\u001b[0;31m---------------------------------------------------------------------------\u001b[0m",
      "\u001b[0;31mTypeError\u001b[0m                                 Traceback (most recent call last)",
      "Cell \u001b[0;32mIn[2], line 8\u001b[0m\n\u001b[1;32m      4\u001b[0m         \u001b[38;5;28mself\u001b[39m\u001b[38;5;241m.\u001b[39mx \u001b[38;5;241m=\u001b[39m x\n\u001b[1;32m      5\u001b[0m         \u001b[38;5;28mself\u001b[39m\u001b[38;5;241m.\u001b[39my \u001b[38;5;241m=\u001b[39m y\n\u001b[0;32m----> 8\u001b[0m vector_2d \u001b[38;5;241m=\u001b[39m \u001b[43mVector2D\u001b[49m\u001b[43m(\u001b[49m\u001b[38;5;241;43m2\u001b[39;49m\u001b[43m,\u001b[49m\u001b[38;5;241;43m3\u001b[39;49m\u001b[43m)\u001b[49m\n",
      "\u001b[0;31mTypeError\u001b[0m: tuple expected at most 1 argument, got 2"
     ]
    }
   ],
   "source": [
    "class Vector2D(tuple):\n",
    "\n",
    "    def __init__(self, x: float, y: float) -> None:\n",
    "        self.x = x\n",
    "        self.y = y\n",
    "\n",
    "\n",
    "vector_2d = Vector2D(2,3)"
   ]
  },
  {
   "cell_type": "markdown",
   "metadata": {},
   "source": [
    "If we try to do it, we get an error because the `tuple` class only receives one argument, not two. Instead, we need to modify the behavior of the `tuple` class:"
   ]
  },
  {
   "cell_type": "code",
   "execution_count": 3,
   "metadata": {},
   "outputs": [],
   "source": [
    "class Vector2D(tuple):\n",
    "\n",
    "    def __new__(cls, *args, **kwargs):\n",
    "        x, y = args\n",
    "        return super().__new__(cls, (x, y))\n",
    "\n",
    "    def __init__(self, x: float, y: float) -> None:\n",
    "        self.x = x\n",
    "        self.y = y\n",
    "\n",
    "vector_2d = Vector2D(2,3)"
   ]
  },
  {
   "cell_type": "markdown",
   "metadata": {},
   "source": [
    "Now the class works because we modify the expected behaviour. In the following line:\n",
    "\n",
    "`super().__new__(cls, (x, y))`\n",
    "\n",
    "we have told the constructor of `Vector2D` that we are inheriting from the `tuple` class but modify the behavior to get two-number tuples `(x, y)`.\n",
    "\n",
    "Note also that the arguments for `new` are `(cls, *args, **kwargs)`. We include `args` and `kwargs` to be able to give the constructor an indefinite number of positional and keyword arguments. For this case we only use two arguments (namely `x` and `y`) but it is good practice to always give `(cls, *args, **kwargs)`."
   ]
  },
  {
   "cell_type": "markdown",
   "metadata": {},
   "source": []
  }
 ],
 "metadata": {
  "kernelspec": {
   "display_name": "jcrosas-Python_meetings",
   "language": "python",
   "name": "python3"
  },
  "language_info": {
   "codemirror_mode": {
    "name": "ipython",
    "version": 3
   },
   "file_extension": ".py",
   "mimetype": "text/x-python",
   "name": "python",
   "nbconvert_exporter": "python",
   "pygments_lexer": "ipython3",
   "version": "3.9.18"
  }
 },
 "nbformat": 4,
 "nbformat_minor": 2
}

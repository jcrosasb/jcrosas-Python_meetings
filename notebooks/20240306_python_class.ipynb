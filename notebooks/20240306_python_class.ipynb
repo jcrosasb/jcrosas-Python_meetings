{
 "cells": [
  {
   "cell_type": "markdown",
   "metadata": {},
   "source": [
    "## Object-Oriented Programming (OOP)\n",
    "Programming paradigm that provides a means of structuring programs so that properties and behaviors are bundled into individual objects\n",
    "\n",
    "* ***OBJECT:*** models of something that can do certaing things and have certain things done to them. <u>FORMALLY, an object is a collection of data and associated behaviours.</u>. An objects has:\n",
    "    1. Attributes (properties)\n",
    "    2. Behaviours (methods)\n",
    "\n",
    "* ***CLASS:*** classes are blueprints for creating an object. \n",
    "\n",
    "* ***INSTANCE:*** an object that is built from a class and contains real data. <u>Objects are instances of a class.</u>"
   ]
  },
  {
   "cell_type": "code",
   "execution_count": 1,
   "metadata": {},
   "outputs": [],
   "source": [
    "# To defines a class\n",
    "class Dog:\n",
    "    pass"
   ]
  },
  {
   "cell_type": "markdown",
   "metadata": {},
   "source": [
    "#### The `__init__` method:\n",
    "Special method in Python classes, also known as the ***initializer***. Every time you create a new object, .__init__() sets the initial state of the object by assigning the values of the object’s properties. That is, .__init__() initializes each new instance of the class. The first parameter will always be a variable called `self`. When you create a new class instance, then Python automatically passes the instance to the self parameter in .__init__() so that Python can define the new attributes on the object.\n",
    "\n",
    "#### What is `self`?\n",
    "Represents the instance of the class. By using it we can access the attributes and methods of the class."
   ]
  },
  {
   "cell_type": "code",
   "execution_count": 2,
   "metadata": {},
   "outputs": [],
   "source": [
    "class Dog:\n",
    "    def __init__(self, name, age):\n",
    "        self.name = name\n",
    "        self.age = age"
   ]
  },
  {
   "cell_type": "markdown",
   "metadata": {},
   "source": [
    "#### Instance attributes\n",
    "\n",
    " `self.<variable> = <variable>` creates an attribute called `<variable>`.\n",
    "\n",
    " Attributes created in .__init__() are called ***instance attributes***. An instance attribute’s value is specific to a particular instance of the class.\n",
    "\n",
    " #### Class attributes\n",
    "\n",
    " Class attributes are attributes that have the same value for all class instances. You can define a class attribute by assigning a value to a variable name outside of .__init__(). You define class attributes directly beneath the first line of the class name and indent them by four spaces. You always need to assign them an initial value. When you create an instance of the class, then Python automatically creates and assigns class attributes to their initial values.\n",
    "\n",
    "***Use class attributes to define properties that should have the same value for every class instance. Use instance attributes for properties that vary from one instance to another.***"
   ]
  },
  {
   "cell_type": "code",
   "execution_count": 3,
   "metadata": {},
   "outputs": [],
   "source": [
    "class Dog:\n",
    "    species = \"Canis familiaris\"  # Class attribute\n",
    "\n",
    "    def __init__(self, name, age):\n",
    "        self.name = name  # Instance attribute\n",
    "        self.age = age  # Instance attribute"
   ]
  },
  {
   "cell_type": "markdown",
   "metadata": {},
   "source": [
    "## How to instantiate a class?"
   ]
  },
  {
   "cell_type": "code",
   "execution_count": 5,
   "metadata": {},
   "outputs": [],
   "source": [
    "# Two Dog instances\n",
    "miles = Dog(\"Miles\", 4)\n",
    "buddy = Dog(\"Buddy\", 9)"
   ]
  },
  {
   "cell_type": "markdown",
   "metadata": {},
   "source": [
    "Python both creates and initializes a new object when you use this syntaxm but `init` only initializes. The method `__new__()` is the actual ***constructor***"
   ]
  },
  {
   "cell_type": "markdown",
   "metadata": {},
   "source": [
    "## Instantiation Process\n",
    "1. ***Create a new instance of the target class:***\n",
    "\n",
    "    The `__new__()` method is responsible for creating and returning a new empty object.\n",
    "2. ***Initialize the new instance with an appropriate initial state:***\n",
    "\n",
    "    The `__init__()` method takes the resulting object, along with the class arguments."
   ]
  },
  {
   "cell_type": "code",
   "execution_count": 6,
   "metadata": {},
   "outputs": [],
   "source": [
    "class Point:\n",
    "\n",
    "    def __new__(cls, *args, **kwargs):\n",
    "        print(\"1. Create a new instance of Point.\")\n",
    "        return super().__new__(cls)\n",
    "\n",
    "\n",
    "    def __init__(self, x, y):\n",
    "        print(\"2. Initialize the new instance of Point.\")\n",
    "        self.x = x\n",
    "        self.y = y\n",
    "\n",
    "\n",
    "    def __repr__(self) -> str:\n",
    "        return f\"{type(self).__name__}(x={self.x}, y={self.y})\""
   ]
  },
  {
   "cell_type": "markdown",
   "metadata": {},
   "source": [
    "NOTE: The code snippet below is intended to be a demonstrative example of how the instantiation process works internally. It’s not something that you would typically do in real code."
   ]
  },
  {
   "cell_type": "code",
   "execution_count": 13,
   "metadata": {},
   "outputs": [
    {
     "name": "stdout",
     "output_type": "stream",
     "text": [
      "1. Create a new instance of Point.\n",
      "point has not been initialized\n",
      "2. Initialize the new instance of Point.\n",
      "21\n"
     ]
    }
   ],
   "source": [
    "# Create a new instance of Point\n",
    "point = Point.__new__(Point)\n",
    "\n",
    "# Instance point has been created, but not initialized \n",
    "try:\n",
    "    print(point.x)\n",
    "except AttributeError:\n",
    "    print('point has not been initialized')\n",
    "\n",
    "# Initialize the new instance of Point\n",
    "point.__init__(21, 42)\n",
    "\n",
    "print(point.x)"
   ]
  },
  {
   "cell_type": "markdown",
   "metadata": {},
   "source": [
    "***IMPORTANT:*** most of the time you won't need to provide a `__new__` method. However, you can use it to create subclasses of immutable types, such as int, float, tuple, and str.\n",
    "\n",
    "Typically, you’ll write a custom implementation of .__new__() only when you need to control the creation of a new instance at a low level. Now, if you need a custom implementation of this method, then you should follow a few steps:\n",
    "\n",
    "1. Create a new instance by calling super().__new__() with appropriate arguments.\n",
    "\n",
    "2. Customize the new instance according to your specific needs.\n",
    "\n",
    "3. Return the new instance to continue the instantiation process."
   ]
  },
  {
   "cell_type": "code",
   "execution_count": 15,
   "metadata": {},
   "outputs": [],
   "source": [
    "class SomeClass:\n",
    "    def __new__(cls, *args, **kwargs):\n",
    "        instance = super().__new__(cls)\n",
    "        # Customize your instance here...\n",
    "        return instance"
   ]
  },
  {
   "cell_type": "markdown",
   "metadata": {},
   "source": [
    "* `__new__` takes the current class as an argument that’s typically called cls.\n",
    "* You should always define `__new__` with `*args` and `**kwargs`, unless you have a good reason to follow a different pattern.\n",
    "\n",
    "Inside the `__new__` method, the first line you call the parent's class `__new__` to create tge new instance and allocate memory for it. To access the parent class’s .__new__() method, you use the `supe()` function. This chain of calls takes you up to `object.__new__()`, which is the base implementation of `__new__` for all Python classes."
   ]
  },
  {
   "cell_type": "code",
   "execution_count": 1,
   "metadata": {},
   "outputs": [
    {
     "name": "stdout",
     "output_type": "stream",
     "text": [
      "<class '__main__.Point'>\n",
      "True\n",
      "As states in __new__, values cannot be negative\n"
     ]
    }
   ],
   "source": [
    "class Point(tuple):\n",
    "\n",
    "    def __new__(cls, *args, **kwargs):\n",
    "        x, y = args\n",
    "        if x < 0 or y < 0:\n",
    "            raise ValueError('x and y must be positive')\n",
    "        return super().__new__(cls)\n",
    "    \n",
    "    # QUESTION: why would you use return super().__new__(cls, (x,y))\n",
    "\n",
    "\n",
    "    def __init__(self, x: int, y:int):\n",
    "        self.x = x\n",
    "        self.y = y\n",
    "\n",
    "point_1 = Point(1,2)\n",
    "\n",
    "print(type(point_1)) # point_1 is of class Point\n",
    "\n",
    "print(isinstance(point_1, tuple)) # point_1 is a tuple, vecause the class inherits from a tuple\n",
    "\n",
    "# Values cannot be negative\n",
    "try:\n",
    "    point_2 = Point(-1,2)\n",
    "except ValueError:\n",
    "    print('As states in __new__, values cannot be negative')"
   ]
  },
  {
   "cell_type": "markdown",
   "metadata": {},
   "source": [
    "BACK TO INSTANCES....\n",
    "\n",
    "You can access instance or class attributes by using the dot notation"
   ]
  },
  {
   "cell_type": "code",
   "execution_count": 30,
   "metadata": {},
   "outputs": [
    {
     "data": {
      "text/plain": [
       "'Canis familiaris'"
      ]
     },
     "execution_count": 30,
     "metadata": {},
     "output_type": "execute_result"
    }
   ],
   "source": [
    "miles.name  # Instance attribute\n",
    "\n",
    "miles.species  # Class attribute"
   ]
  },
  {
   "cell_type": "code",
   "execution_count": null,
   "metadata": {},
   "outputs": [],
   "source": []
  }
 ],
 "metadata": {
  "kernelspec": {
   "display_name": "jcrosas-Python_meetings",
   "language": "python",
   "name": "python3"
  },
  "language_info": {
   "codemirror_mode": {
    "name": "ipython",
    "version": 3
   },
   "file_extension": ".py",
   "mimetype": "text/x-python",
   "name": "python",
   "nbconvert_exporter": "python",
   "pygments_lexer": "ipython3",
   "version": "3.9.18"
  }
 },
 "nbformat": 4,
 "nbformat_minor": 2
}

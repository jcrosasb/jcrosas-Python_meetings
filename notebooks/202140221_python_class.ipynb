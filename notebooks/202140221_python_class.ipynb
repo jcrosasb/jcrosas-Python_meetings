{
 "cells": [
  {
   "cell_type": "markdown",
   "metadata": {},
   "source": [
    "## Iterators\n",
    "An iterator is an object that allows you to iterate over collections of data, such as lists, tuples, dictionaries, and sets.\n",
    "\n",
    "Iterators take responsibility for two main actions:\n",
    "1. Returning the data from a stream or container one item at a time\n",
    "2. Keeping track of the current and visited items\n",
    "\n",
    "\n",
    "## Python Iteration Protocol\n",
    "A python object is considered as an <u>***iterator***</u> when it implements two methods: \n",
    "1. ***The method `__iter__`***: its only responsability is to return an iterator object. Thus:\n",
    "    ```\n",
    "    def __iter__(self):\n",
    "        return self\n",
    "    ```\n",
    "2. ***The method `__next__`***: must return the next item form the data stream. If no more items are available, it should raise an `StopIteration` exception to finish the iteration."
   ]
  },
  {
   "cell_type": "markdown",
   "metadata": {},
   "source": [
    "## Generators\n",
    "Generators are a special type of iterator that generates a sequence of values ***lazily*** (i.e., one at a time) using the yield keyword. Generators are similar to regular functions, but instead of using return to return a single result, they use yield to yield a series of values. In other words, generators are a special kind of function that return a ***lazy iterator***."
   ]
  },
  {
   "cell_type": "markdown",
   "metadata": {},
   "source": [
    "##### Generator Functions\n",
    "To create a generator function, you must use the `yield` keyword to yield the values one by one."
   ]
  },
  {
   "cell_type": "code",
   "execution_count": 2,
   "metadata": {},
   "outputs": [
    {
     "name": "stdout",
     "output_type": "stream",
     "text": [
      "The type of \"sequence\" is <class 'generator'>\n",
      "\n",
      "1\n",
      "2\n",
      "3\n",
      "4\n",
      "5\n"
     ]
    }
   ],
   "source": [
    "# Generator function\n",
    "def sequence_generator(sequence):\n",
    "    for item in sequence:\n",
    "        yield item\n",
    "\n",
    "# Create generator\n",
    "sequence = sequence_generator([1,2,3,4,5])\n",
    "\n",
    "print(f'The type of \"sequence\" is {type(sequence)}\\n')\n",
    "\n",
    "for number in sequence:\n",
    "    print(number)"
   ]
  },
  {
   "cell_type": "markdown",
   "metadata": {},
   "source": [
    "##### Generator Expressions\n",
    "Has a similar syntax to list comprehensions but using parenthesis instead."
   ]
  },
  {
   "cell_type": "code",
   "execution_count": 34,
   "metadata": {},
   "outputs": [
    {
     "name": "stdout",
     "output_type": "stream",
     "text": [
      "The type of \"sequence\" is <class 'generator'>\n",
      "\n",
      "1\n",
      "2\n",
      "3\n",
      "4\n",
      "5\n"
     ]
    }
   ],
   "source": [
    "# Generator expression\n",
    "sequence = (number for number in [1,2,3,4,5])\n",
    "\n",
    "print(f'The type of \"sequence\" is {type(sequence)}\\n')\n",
    "\n",
    "for number in sequence:\n",
    "    print(number)"
   ]
  },
  {
   "cell_type": "markdown",
   "metadata": {},
   "source": [
    "## Types of Generators\n",
    "Generators can:\n",
    "1. Yield the input data\n",
    "2. Transform the input data and yield it\n",
    "3. Generate new data to yield"
   ]
  },
  {
   "cell_type": "code",
   "execution_count": 14,
   "metadata": {},
   "outputs": [
    {
     "name": "stdout",
     "output_type": "stream",
     "text": [
      "Identity generator:\n",
      "1\n",
      "2\n",
      "3\n",
      "4\n",
      "5\n",
      "\n",
      " Transform the data (square it):\n",
      "1\n",
      "4\n",
      "9\n",
      "16\n",
      "25\n",
      "\n",
      " Create new data (Fibonacci sequence):\n",
      "0\n",
      "1\n",
      "1\n",
      "2\n",
      "3\n",
      "5\n",
      "8\n",
      "13\n",
      "21\n",
      "34\n"
     ]
    }
   ],
   "source": [
    "# Yield input data\n",
    "def identity_generator(data):\n",
    "    for item in data:\n",
    "        yield item\n",
    "\n",
    "print('Identity generator:')\n",
    "for number in identity_generator([1,2,3,4,5]):\n",
    "    print(number)\n",
    "\n",
    "# Transform data\n",
    "def sequence_square(data):\n",
    "    for item in data:\n",
    "        yield item ** 2\n",
    "\n",
    "print('\\n Transform the data (square it):')\n",
    "for number in sequence_square([1,2,3,4,5]):\n",
    "    print(number)\n",
    "\n",
    "# Generate data\n",
    "def fibonacci_generator(stop=10):\n",
    "    current_fib, next_fib = 0, 1\n",
    "    index = 0\n",
    "    while True:\n",
    "        if index == stop:\n",
    "            return\n",
    "        index += 1\n",
    "        fib_number = current_fib\n",
    "        current_fib, next_fib = next_fib, current_fib + next_fib\n",
    "        yield fib_number\n",
    "\n",
    "print('\\n Create new data (Fibonacci sequence):')\n",
    "for number in fibonacci_generator():\n",
    "    print(number)\n"
   ]
  },
  {
   "cell_type": "code",
   "execution_count": 11,
   "metadata": {},
   "outputs": [
    {
     "name": "stdout",
     "output_type": "stream",
     "text": [
      "srotareneG\n",
      "erA\n",
      "A\n",
      "laicepS\n",
      "epyT\n",
      "fO\n",
      "rotaretI\n",
      "tahT\n",
      "setareneG\n",
      "A\n",
      "ecneuqeS\n",
      "fO\n",
      "seulaV\n",
      "ylizaL\n",
      ",.e.i(\n",
      "enO\n",
      "tA\n",
      "A\n",
      ")emiT\n",
      "gnisU\n",
      "ehT\n",
      "dleiY\n",
      "srotareneg\n",
      ".drowyeK\n",
      "erA\n",
      "ralimiS\n",
      "oT\n",
      "ralugeR\n",
      ",snoitcnuF\n",
      "tuB\n",
      "daetsnI\n",
      "fO\n",
      "gnisU\n",
      "nruteR\n",
      "oT\n",
      "nruteR\n",
      "A\n",
      "elgniS\n",
      ",tluseR\n",
      "yehT\n",
      "esU\n",
      "dleiY\n",
      "oT\n",
      "dleiY\n",
      "A\n",
      "seireS\n",
      "fO\n",
      ".seulaV\n",
      "ni\n",
      "\n",
      "rehtO\n",
      ",sdroW\n",
      "srotareneG\n",
      "erA\n",
      "A\n",
      "laicepS\n",
      "dniK\n",
      "fO\n",
      "noitcnuF\n",
      "tahT\n",
      "nruteR\n",
      "A\n",
      "yzaL\n",
      ".rotaretI\n"
     ]
    }
   ],
   "source": [
    "# Some message\n",
    "msg = '''Generators are a special type of @iterator that generates a sequence of values lazily (i.e., one at a time) using the yield keyword.\n",
    "Generators are similar to regular functions, but instead of using return @to return a single result, they use yield to yield a series of values. \n",
    "In other words, @generators are a special kind of function that return a lazy iterator.'''.split(' ')\n",
    "\n",
    "# Tasks:\n",
    "#   1. Remove @\n",
    "#   2. Capitalize\n",
    "#   3. Reverse order fo strings\n",
    "\n",
    "def tasks_generator(data):\n",
    "    for item in data:\n",
    "        yield item.replace('@', '').capitalize()[::-1]\n",
    "\n",
    "for word in tasks_generator(msg):\n",
    "    print(word)"
   ]
  },
  {
   "cell_type": "markdown",
   "metadata": {},
   "source": [
    "## Iterables\n",
    "An object that you can iterate over. To perform this iteration, you’ll typically use a for loop.\n",
    "\n",
    "## Python Iterable Protocol\n",
    "Consists of a single method: `__iter__`. This method returns an ***iterator***\n",
    "\n",
    "```\n",
    "class SequenceIterator:\n",
    "    def __init__(self, sequence):\n",
    "        self._sequence = sequence\n",
    "        self._index = 0\n",
    "\n",
    "    def __iter__(self):\n",
    "        return self\n",
    "\n",
    "    def __next__(self):\n",
    "        if self._index < len(self._sequence):\n",
    "            item = self._sequence[self._index]\n",
    "            self._index += 1\n",
    "            return item\n",
    "        else:\n",
    "            raise StopIteration\n",
    "\n",
    "class Iterable:\n",
    "    def __init__(self, sequence):\n",
    "        self.sequence = sequence\n",
    "\n",
    "    def __iter__(self):\n",
    "        return SequenceIterator(self.sequence)\n",
    "```\n",
    "\n",
    "the first class creates an ***iterator***. For the second class. The ***__iter__*** method returns the class iterator. After this, you now have access to the `__next__` method of the iterators:\n",
    "\n",
    "**IMPORTANT: You can’t pass an iterable directly to the next() function because, in most cases, iterables don’t implement the .__next__() method from the iterator protocol. This is intentional. Remember that the iterator pattern intends to decouple the iteration algorithm from data structures.**"
   ]
  },
  {
   "cell_type": "code",
   "execution_count": 41,
   "metadata": {},
   "outputs": [
    {
     "name": "stdout",
     "output_type": "stream",
     "text": [
      "1\n",
      "2\n",
      "3\n",
      "4\n",
      "5\n",
      "\n",
      "1\n",
      "2\n",
      "3\n",
      "4\n",
      "5\n"
     ]
    }
   ],
   "source": [
    "# Some generator (iterator)\n",
    "def identity_generator(data):\n",
    "    for item in data:\n",
    "        yield item\n",
    "\n",
    "class BasicIterable():\n",
    "    def __init__(self, data):\n",
    "        self.data = data\n",
    "\n",
    "    def __iter__(self):\n",
    "        return identity_generator(self.data)\n",
    "    \n",
    "    # NO NEED TO ADD __NEXT__ BECAUSE IT IS AN ITERABLE< NOT ITERATOR\n",
    "    # def __next__(self):\n",
    "    #     if self.index < len(self.data):\n",
    "    #         item = self.data[self.index]\n",
    "    #         self.index += 1\n",
    "    #         return item\n",
    "    #     else:\n",
    "    #         raise StopIteration\n",
    "\n",
    "    \n",
    "\n",
    "iterable = BasicIterable([1,2,3,4,5])\n",
    "\n",
    "for number in iterable:\n",
    "    print(number)\n",
    "print()\n",
    "for number in iterable:\n",
    "    print(number)"
   ]
  },
  {
   "cell_type": "markdown",
   "metadata": {},
   "source": [
    "## The `__iter()__` method of an iterable\n",
    "An iterable is an object implementing the `.__iter__()` special method or the `.__getitem__()` method as part of the sequence protocol.\n",
    "\n",
    "***Quick way to determine whether an object is iterable***: use it as an argument to `iter()`. If you get an iterator back, then your object is iterable. If you get an error, then the object isn’t iterable"
   ]
  },
  {
   "cell_type": "code",
   "execution_count": 18,
   "metadata": {},
   "outputs": [
    {
     "name": "stdout",
     "output_type": "stream",
     "text": [
      "<class 'list_iterator'>\n",
      "'int' object is not iterable\n"
     ]
    }
   ],
   "source": [
    "numbers = [1,2,3,4,5]\n",
    "\n",
    "# Pass an iterable (list) to 'iter'...Should work\n",
    "numbers_iterator = iter(numbers)\n",
    "print(type(numbers_iterator))\n",
    "\n",
    "# Pass a non-iterable (int) to 'iter'...Should not work\n",
    "try:\n",
    "    iter(42)\n",
    "except TypeError:\n",
    "    print(\"'int' object is not iterable\")"
   ]
  },
  {
   "cell_type": "markdown",
   "metadata": {},
   "source": [
    "##### The `reversed()` method.\n",
    "\n",
    "Allows you to create an iterator that yields the values of an input iterable in reverse order."
   ]
  },
  {
   "cell_type": "code",
   "execution_count": 46,
   "metadata": {},
   "outputs": [
    {
     "name": "stdout",
     "output_type": "stream",
     "text": [
      "method \"reversed\" creates a <class 'reversed'>\n",
      "4\n",
      "3\n",
      "2\n",
      "1\n"
     ]
    }
   ],
   "source": [
    "numbers = [1,2,3,4,5]\n",
    "\n",
    "reversed_iterator = reversed(numbers)\n",
    "print(f'method \"reversed\" creates a {type(reversed_iterator)}')\n",
    "\n",
    "for number in reversed_iterator:\n",
    "    print(number)"
   ]
  },
  {
   "cell_type": "code",
   "execution_count": 1,
   "metadata": {},
   "outputs": [
    {
     "name": "stdout",
     "output_type": "stream",
     "text": [
      "method \"iter\" creates a <class 'tuple_iterator'>\n",
      "1\n",
      "2\n",
      "3\n",
      "4\n",
      "5\n"
     ]
    }
   ],
   "source": [
    "numbers = (1,2,3,4,5)\n",
    "\n",
    "reversed_iterator = iter(numbers)\n",
    "print(f'method \"iter\" creates a {type(reversed_iterator)}')\n",
    "\n",
    "for number in reversed_iterator:\n",
    "    print(number)"
   ]
  },
  {
   "cell_type": "code",
   "execution_count": null,
   "metadata": {},
   "outputs": [],
   "source": []
  }
 ],
 "metadata": {
  "kernelspec": {
   "display_name": "jcrosas-Python_meetings",
   "language": "python",
   "name": "python3"
  },
  "language_info": {
   "codemirror_mode": {
    "name": "ipython",
    "version": 3
   },
   "file_extension": ".py",
   "mimetype": "text/x-python",
   "name": "python",
   "nbconvert_exporter": "python",
   "pygments_lexer": "ipython3",
   "version": "3.9.18"
  }
 },
 "nbformat": 4,
 "nbformat_minor": 2
}

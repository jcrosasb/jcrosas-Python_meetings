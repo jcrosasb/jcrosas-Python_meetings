{
 "cells": [
  {
   "cell_type": "markdown",
   "metadata": {},
   "source": [
    "## More on functions..."
   ]
  },
  {
   "cell_type": "markdown",
   "metadata": {},
   "source": [
    "##### Positional and Keyword Arguments"
   ]
  },
  {
   "cell_type": "code",
   "execution_count": 12,
   "metadata": {},
   "outputs": [
    {
     "name": "stdout",
     "output_type": "stream",
     "text": [
      "Hi my name is Juan and I am 37 years old\n",
      "Hi my name is Juan and I am 37 years old\n",
      "Hi my name is Juan and I am 37 years old\n",
      "Positional arguments in wrong order\n",
      "Hi my name is Juan and I am 37 years old\n"
     ]
    }
   ],
   "source": [
    "def describe_person(name: str, age: int) -> None:\n",
    "    if age-2 < 0:\n",
    "        age = 2    \n",
    "    print(f'Hi my name is {name.capitalize()} and I am {age-2} years old')\n",
    "\n",
    "# Keyword arguments\n",
    "describe_person(name='juan', age=39)\n",
    "\n",
    "# Positional arguments (correct order)\n",
    "describe_person('juan',39)\n",
    "\n",
    "# Keyword arguments in different order\n",
    "describe_person(age=39, name='juan')\n",
    "\n",
    "# Positional arguments (wrong order)\n",
    "try:\n",
    "    describe_person(39, 'juan')\n",
    "except TypeError:\n",
    "    print('Positional arguments in wrong order')\n",
    "\n",
    "# Mixed arguments\n",
    "describe_person('Juan', age=39)\n",
    "\n",
    "# Mixed arguments (wrong order)\n",
    "try:\n",
    "    pass\n",
    "#    describe_person(name='juan', 39)\n",
    "except SyntaxError:\n",
    "    print('Once you’ve specified a keyword argument, there can’t be any positional arguments to the right of it')"
   ]
  },
  {
   "cell_type": "code",
   "execution_count": 21,
   "metadata": {},
   "outputs": [
    {
     "name": "stdout",
     "output_type": "stream",
     "text": [
      "Hi my name is Juan Rosas and I am 37 years old. Write me at jcrosas@intekglobal.com\n",
      "Hi my name is Juan Rosas and I am 37 years old. Write me at jcrosas@intekglobal.com\n",
      "Hi my name is Juan Rosas and I am 37 years old. Write me at jcrosas@intekglobal.com\n",
      "Hi my name is Juan Rosas and I am 37 years old. Write me at jcrosas@intekglobal.com\n"
     ]
    }
   ],
   "source": [
    "def describe_person(name: str, last_name: str, email:str, age: int) -> None:\n",
    "    if age-2 < 0:\n",
    "        age = 2    \n",
    "    print(f'Hi my name is {name.capitalize()} {last_name.capitalize()} and I am {age-2} years old. Write me at {email}')\n",
    "\n",
    "\n",
    "# Positional\n",
    "describe_person('juan', 'rosas', 'jcrosas@intekglobal.com', 39)\n",
    "\n",
    "# Mixed\n",
    "describe_person('juan', 'rosas', 'jcrosas@intekglobal.com', age=39)\n",
    "\n",
    "# Mixed\n",
    "describe_person('juan', 'rosas', email='jcrosas@intekglobal.com', age=39)\n",
    "\n",
    "# Keyword\n",
    "describe_person(name='juan', \n",
    "                last_name='rosas', \n",
    "                email='jcrosas@intekglobal.com', \n",
    "                age=39)\n",
    "\n",
    "# Mixed (wrong)\n",
    "try:\n",
    "    pass\n",
    "    #describe_person(name='juan', last_name='rosas', email='jcrosas@intekglobal.com', 39)\n",
    "except SyntaxError:\n",
    "    pass\n",
    "\n"
   ]
  },
  {
   "cell_type": "markdown",
   "metadata": {},
   "source": [
    "##### Default values"
   ]
  },
  {
   "cell_type": "code",
   "execution_count": 36,
   "metadata": {},
   "outputs": [
    {
     "name": "stdout",
     "output_type": "stream",
     "text": [
      "Hi my name is Juan Rosas and I am 37 years old. Write me at jcrosas@intekglobal.com\n",
      "Hi my name is Juan Rosas and I am 37 years old. Write me at mail@example\n"
     ]
    },
    {
     "data": {
      "text/plain": [
       "('Juan', 'Rosas', 'mail@example', 37)"
      ]
     },
     "execution_count": 36,
     "metadata": {},
     "output_type": "execute_result"
    }
   ],
   "source": [
    "from typing import Optional\n",
    "\n",
    "def describe_person(name: str, \n",
    "                    last_name: str, \n",
    "                    age: int, \n",
    "                    email:Optional[str] = None) -> tuple:\n",
    "    \"\"\"\n",
    "    Function to describe a person.\n",
    "\n",
    "    :param name: name of the person.\n",
    "    :param last_name: last name of the person\n",
    "    :param age: age of the person\n",
    "    :param email: email of the person\n",
    "    :return: tuple with transformed parameters\n",
    "    \"\"\"\n",
    "\n",
    "    # Check if age is positive. Else leave the fucntion\n",
    "    if age-2 < 0:\n",
    "        return None\n",
    "    \n",
    "    # Check if email is there. Else assign a dummy email\n",
    "    if email is None:\n",
    "        email = 'mail@example'\n",
    "\n",
    "    # Reassigne variables\n",
    "    name = name.capitalize()\n",
    "    last_name = last_name.capitalize()\n",
    "    age = age-2\n",
    "\n",
    "    print(f'Hi my name is {name} {last_name} and I am {age} years old. Write me at {email}')\n",
    "\n",
    "    return name, last_name, email, age\n",
    "\n",
    "describe_person('juan', 'rosas', 39, 'jcrosas@intekglobal.com')\n",
    "describe_person('juan', 'rosas', age=39)"
   ]
  },
  {
   "cell_type": "code",
   "execution_count": null,
   "metadata": {},
   "outputs": [],
   "source": []
  }
 ],
 "metadata": {
  "kernelspec": {
   "display_name": "jcrosas-Python_meetings",
   "language": "python",
   "name": "python3"
  },
  "language_info": {
   "codemirror_mode": {
    "name": "ipython",
    "version": 3
   },
   "file_extension": ".py",
   "mimetype": "text/x-python",
   "name": "python",
   "nbconvert_exporter": "python",
   "pygments_lexer": "ipython3",
   "version": "3.9.18"
  }
 },
 "nbformat": 4,
 "nbformat_minor": 2
}

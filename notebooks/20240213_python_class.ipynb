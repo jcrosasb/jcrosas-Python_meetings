{
 "cells": [
  {
   "cell_type": "markdown",
   "metadata": {},
   "source": [
    "## Strings\n",
    "\n",
    "There are several ways to declare a string literal:"
   ]
  },
  {
   "cell_type": "code",
   "execution_count": 29,
   "metadata": {},
   "outputs": [
    {
     "name": "stdout",
     "output_type": "stream",
     "text": [
      "Hello world \n",
      "\n",
      "Hello world \n",
      "\n",
      "Hello\n",
      "world \n",
      "\n",
      "Hello \\n world \n",
      "\n",
      "My age is 39\n"
     ]
    }
   ],
   "source": [
    "# Single quotes:\n",
    "string1 = 'Hello world'\n",
    "print(string1, '\\n')\n",
    "\n",
    "# Double quotes:\n",
    "string2 = \"Hello world\"\n",
    "print(string2, '\\n')\n",
    "\n",
    "# Triple quotes, double or single (for multiple lines):\n",
    "string3 = '''Hello\n",
    "world'''\n",
    "print(string3, '\\n')\n",
    "\n",
    "# Raw string\n",
    "string4 = r'Hello \\n world'\n",
    "print(string4, '\\n')\n",
    "\n",
    "# Formatted strings\n",
    "age = 39\n",
    "string5 = f'My age is {age}'\n",
    "print(string5)"
   ]
  },
  {
   "cell_type": "markdown",
   "metadata": {},
   "source": [
    "## String Formatting\n",
    "\n",
    "To format strings, we use the method `format()`. It allows you to create dynamic strings by inserting values into placeholders within the string. The placeholders are denoted by '{}'"
   ]
  },
  {
   "cell_type": "code",
   "execution_count": 1,
   "metadata": {},
   "outputs": [
    {
     "name": "stdout",
     "output_type": "stream",
     "text": [
      "My name is Juan Carlos and I am 39 years old.\n"
     ]
    }
   ],
   "source": [
    "name = 'Juan Carlos'\n",
    "age = 39\n",
    "formatted_string = \"My name is {} and I am {} years old.\".format(name, age)\n",
    "print(formatted_string)"
   ]
  },
  {
   "cell_type": "markdown",
   "metadata": {},
   "source": [
    "To print a floating number with a 3 decimals, you can do:\n",
    "```\n",
    "number = 10.24562\n",
    "print('{:.3f}'.format(number))\n",
    "```\n",
    "Simply replace the '3' for any other number of decimals that you want\n",
    "\n",
    "You may also add the number of decimals as another placeholder:\n",
    "```\n",
    "number = 10.24562\n",
    "num_decimal = 4\n",
    "print('{:.{}f}'.format(number, num_decimal))\n",
    "```"
   ]
  },
  {
   "cell_type": "code",
   "execution_count": 17,
   "metadata": {},
   "outputs": [
    {
     "name": "stdout",
     "output_type": "stream",
     "text": [
      "\"Complete\" value of pi: 3.1415926535\n",
      "\n",
      "Pi with 3 decimals: 3.142\n",
      "Pi with 3 decimals: 3.14159\n",
      "\n",
      "Pi = 3\n",
      "Pi = 3.1\n",
      "Pi = 3.14\n",
      "Pi = 3.1416\n",
      "Pi = 3.141593\n"
     ]
    }
   ],
   "source": [
    "pi = 3.1415926535\n",
    "\n",
    "print('\"Complete\" value of pi: {}\\n'.format(pi))\n",
    "print('Pi with 3 decimals: {:.3f}'.format(pi))\n",
    "print('Pi with 3 decimals: {:.5f}\\n'.format(pi))\n",
    "\n",
    "for decimals in [0, 1, 2, 4, 6]:\n",
    "    print('Pi = {:.{}f}'.format(pi, decimals))"
   ]
  },
  {
   "cell_type": "markdown",
   "metadata": {},
   "source": [
    "You can also format how the string is going to be printed. \n",
    "\n",
    "* You can add `{:.nf}` to the placeholder, where `n` is a number of digits.\n",
    "\n",
    "* You can add `{:n}` to the placeholder, where `n` is a number that specifies the width of the field, i.e., the total number of characters that the inserted value should occupy.\n",
    "\n",
    "* You can add `{:symbol>n}` to the placeholder, where `n` is a number that specifies the width of the field, `symbol` is the symbol that will be added instead of empty spaces and the `>` indicates the value will be pushed to the right\n",
    "\n",
    "* You can add `{:symbol<n}` to the placeholder, where `n` is a number that specifies the width of the field, `symbol` is the symbol that will be added instead of empty spaces and the `<` indicates the value will be pushed to the left\n",
    "\n",
    "* You can add `{:symbol^n}` to the placeholder, where `n` is a number that specifies the width of the field, `symbol` is the symbol that will be added instead of empty spaces and the `^` indicates the value will be centered"
   ]
  },
  {
   "cell_type": "code",
   "execution_count": 59,
   "metadata": {},
   "outputs": [
    {
     "name": "stdout",
     "output_type": "stream",
     "text": [
      "Pi:       3.14\n",
      "Pi: ......3.14\n",
      "Pi: 3.14......\n",
      "Pi: ...3.14...\n"
     ]
    }
   ],
   "source": [
    "pi = 3.14\n",
    "\n",
    "print('Pi: {:10}'.format(pi))  # 3.14 will take 10 spaces, with empty spaces added to the right\n",
    "print('Pi: {:.>10}'.format(pi)) # 3.14 with dots instead of empty spaces. The value of pi is pushed to the rigth\n",
    "print('Pi: {:.<10}'.format(pi)) # 3.14 with dots instead of empty spaces. The value of pi is pushed to the left\n",
    "print('Pi: {:.^10}'.format(pi)) # 3.14 with dots instead of empty spaces. The value of pi is centered"
   ]
  },
  {
   "cell_type": "markdown",
   "metadata": {},
   "source": [
    "## For and While loops"
   ]
  },
  {
   "cell_type": "code",
   "execution_count": 67,
   "metadata": {},
   "outputs": [
    {
     "name": "stdout",
     "output_type": "stream",
     "text": [
      "1. orange : fruit \n",
      "2. apple  : fruit \n",
      "3. tomatoe: fruit \n",
      "4. lettuce: vegetable \n",
      "5. pickles: vegetable \n",
      "6. zuccini: vegetable \n",
      "\n",
      "1. orange : fruit \n",
      "2. apple  : fruit \n",
      "3. tomatoe: fruit \n",
      "4. lettuce: vegetable \n",
      "5. pickles: vegetable \n",
      "6. zuccini: vegetable \n",
      "\n",
      "1. orange : fruit \n",
      "2. apple  : fruit \n",
      "3. tomatoe: fruit \n",
      "4. lettuce: vegetable \n"
     ]
    }
   ],
   "source": [
    "fruits_and_vegetables = [('orange', 'fruit'), ('apple', 'fruit'), ('tomatoe', 'fruit'), ('lettuce', 'vegetable'), ('pickles', 'vegetable'), ('zuccini', 'vegetable')]\n",
    "\n",
    "# To iterate over the list\n",
    "for i, (name, category) in enumerate(fruits_and_vegetables):\n",
    "    print(\"{}. {:7}: {} \".format(i+1, name, category))\n",
    "\n",
    "print()\n",
    "\n",
    "# Iterate but now using range\n",
    "for i in range(len(fruits_and_vegetables)):\n",
    "    name, category = fruits_and_vegetables[i]\n",
    "    print(\"{}. {:7}: {} \".format(i+1, name, category))\n",
    "\n",
    "print()\n",
    "\n",
    "# Stop the iteration of name = 'pickles'\n",
    "for i in range(len(fruits_and_vegetables)):\n",
    "    name, category = fruits_and_vegetables[i]\n",
    "    if name == 'pickles':\n",
    "        break\n",
    "    print(\"{}. {:7}: {} \".format(i+1, name, category))\n",
    "else:\n",
    "    print('all done')\n"
   ]
  },
  {
   "cell_type": "markdown",
   "metadata": {},
   "source": [
    "The function `range()` has the following syntax:\n",
    "```\n",
    "range(start, stop, step)\n",
    "```\n",
    "\n",
    "* ***start***: (optional): The starting value of the sequence (default is 0).\n",
    "\n",
    "* ***stop***: The ending value of the sequence. The stop value is not included in the sequence.\n",
    "\n",
    "* ***step***: (optional): The step size between each number in the sequence (default is 1).\n",
    "\n",
    "The type of `range` is 'range', but it can be transformed into a list."
   ]
  },
  {
   "cell_type": "code",
   "execution_count": 75,
   "metadata": {},
   "outputs": [
    {
     "name": "stdout",
     "output_type": "stream",
     "text": [
      "From 0 to 4:\n",
      "0\n",
      "1\n",
      "2\n",
      "3\n",
      "4\n",
      "\n",
      "From 0 to 9, in increments of 2:\n",
      "0\n",
      "2\n",
      "4\n",
      "6\n",
      "8\n",
      "\n",
      "In reverse, from 10 to 6:\n",
      "10\n",
      "9\n",
      "8\n",
      "7\n",
      "6\n",
      "\n",
      "Negative numbers:\n",
      "0\n",
      "-1\n",
      "-2\n",
      "-3\n",
      "-4\n"
     ]
    }
   ],
   "source": [
    "print('From 0 to 4:')\n",
    "for i in range(5):\n",
    "    print(i)\n",
    "\n",
    "# print('\\nFrom 1 to 4:')\n",
    "# for i in range(1,5):\n",
    "#     print(i)\n",
    "\n",
    "print('\\nFrom 0 to 9, in increments of 2:')\n",
    "for i in range(0,9,2):\n",
    "    print(i)\n",
    "\n",
    "print('\\nIn reverse, from 10 to 6:')\n",
    "for i in range(10,5,-1):\n",
    "    print(i)\n",
    "\n",
    "print('\\nNegative numbers:')\n",
    "for i in range(0,-5,-1):\n",
    "    print(i)"
   ]
  },
  {
   "cell_type": "code",
   "execution_count": 78,
   "metadata": {},
   "outputs": [
    {
     "name": "stdout",
     "output_type": "stream",
     "text": [
      "<class 'range'>\n",
      "[2, 4, 6, 8, 10, 12, 14, 16, 18, 20, 22, 24, 26, 28, 30, 32, 34, 36, 38, 40, 42, 44, 46, 48, 50, 52, 54, 56, 58, 60, 62, 64, 66, 68, 70, 72, 74, 76, 78, 80, 82, 84, 86, 88, 90, 92, 94, 96, 98, 100]\n"
     ]
    }
   ],
   "source": [
    "# Type of range\n",
    "print(type(range(5)))\n",
    "\n",
    "# Convert range to a list that has all even numbers from 0 to 100\n",
    "list_even = list(range(2,101,2))\n",
    "print(list_even)"
   ]
  },
  {
   "cell_type": "code",
   "execution_count": null,
   "metadata": {},
   "outputs": [],
   "source": []
  }
 ],
 "metadata": {
  "kernelspec": {
   "display_name": "jcrosas-Python_meetings",
   "language": "python",
   "name": "python3"
  },
  "language_info": {
   "codemirror_mode": {
    "name": "ipython",
    "version": 3
   },
   "file_extension": ".py",
   "mimetype": "text/x-python",
   "name": "python",
   "nbconvert_exporter": "python",
   "pygments_lexer": "ipython3",
   "version": "3.9.18"
  }
 },
 "nbformat": 4,
 "nbformat_minor": 2
}

{
 "cells": [
  {
   "cell_type": "markdown",
   "metadata": {},
   "source": [
    "## A bit more on tuples...\n",
    "\n",
    "The method `join()` is a string method that concatenates the elements of an iterable (e.g., a list, tuple, or string) into a single string, with a specified separator between each element. The syntax is:\n",
    "\n",
    "`separator.join(iterable)`"
   ]
  },
  {
   "cell_type": "code",
   "execution_count": 1,
   "metadata": {},
   "outputs": [
    {
     "name": "stdout",
     "output_type": "stream",
     "text": [
      "The tuple is ('a', 'b', 'c')\n",
      "The joined string is abc\n"
     ]
    }
   ],
   "source": [
    "# Letter tuple\n",
    "letter_tuple = ('a', 'b', 'c')\n",
    "\n",
    "# If you wanted to join these letters from the tuple\n",
    "joined_letters = ''.join(letter_tuple)\n",
    "print(f'The tuple is {letter_tuple}\\n'\n",
    "      f'The joined string is {joined_letters}')"
   ]
  },
  {
   "cell_type": "markdown",
   "metadata": {},
   "source": [
    "There are other methods that are available depending on the data type of the tuple elements. For example, methods:\n",
    "* sum()\n",
    "* max()\n",
    "* min()\n",
    "\n",
    "can only be applied to comparable datatypes (i.e int, float, bool, etc)"
   ]
  },
  {
   "cell_type": "code",
   "execution_count": 12,
   "metadata": {},
   "outputs": [
    {
     "name": "stdout",
     "output_type": "stream",
     "text": [
      "The number tuple is (1, 2, 7, 4, 5)\n",
      "The sum of the elements of the number tuple is 19\n",
      "The max of the of the elements of the number tuple is 7\n",
      "\n",
      "The mixed tuple is (1, 2, 3, 4, 5, 'a', 'b', True)\n",
      "Cannot apply method \"sum\" or \"max\" to a non-numeric tuple\n"
     ]
    }
   ],
   "source": [
    "# Sum and max of elements\n",
    "number_tuple = (1,2,7,4,5)\n",
    "print(f'The number tuple is {number_tuple}\\n'\n",
    "      f'The sum of the elements of the number tuple is {sum(number_tuple)}\\n'\n",
    "      f'The max of the of the elements of the number tuple is {max(number_tuple)}')\n",
    "\n",
    "\n",
    "mixed_tuple = (1,2,3,4,5, 'a', 'b', True)\n",
    "print(f'\\nThe mixed tuple is {mixed_tuple}')\n",
    "try:\n",
    "    print(f'The sum of the elements of the number tuple is {sum(mixed_tuple)}\\n'\n",
    "          f'The max of the of the elements of the number tuple is {max(mixed_tuple)}')\n",
    "except TypeError:\n",
    "    print('Cannot apply method \"sum\" or \"max\" to a non-numeric tuple')"
   ]
  },
  {
   "cell_type": "markdown",
   "metadata": {},
   "source": [
    "However, note that numeric with boolean can be used in those methods because bool = True or False is interpreted as 1 or 0, respectively."
   ]
  },
  {
   "cell_type": "code",
   "execution_count": 14,
   "metadata": {},
   "outputs": [
    {
     "name": "stdout",
     "output_type": "stream",
     "text": [
      "\n",
      "The mixed tuple is (1, 2, 3, 4, 5, True)\n",
      "The sum of the elements of the number tuple is 16\n",
      "The max of the of the elements of the number tuple is 5\n"
     ]
    }
   ],
   "source": [
    "mixed_tuple_2 = (1,2,3,4,5, True)\n",
    "print(f'\\nThe mixed tuple is {mixed_tuple_2}')\n",
    "print(f'The sum of the elements of the number tuple is {sum(mixed_tuple_2)}\\n'\n",
    "      f'The max of the of the elements of the number tuple is {max(mixed_tuple_2)}')\n"
   ]
  },
  {
   "cell_type": "markdown",
   "metadata": {},
   "source": [
    "##### A note in tuple concatenation (or lists too)...\n",
    "Whatever you concatenate, has to be of the same type"
   ]
  },
  {
   "cell_type": "code",
   "execution_count": 18,
   "metadata": {},
   "outputs": [
    {
     "name": "stdout",
     "output_type": "stream",
     "text": [
      "(1, 3.14, True, 1)\n"
     ]
    }
   ],
   "source": [
    "small_tuple = (1,3.14,True)\n",
    "\n",
    "try:\n",
    "    small_tuple += 1 # I am attempting to concatenate a non-tuple to a tuple\n",
    "except TypeError:\n",
    "    small_tuple += (1,)\n",
    "\n",
    "print(small_tuple)"
   ]
  },
  {
   "cell_type": "markdown",
   "metadata": {},
   "source": [
    "## Sets\n",
    "A set is an unordered collection of unique, hashable elements. Their methods are (not incluidng dunder):\n",
    "* add\n",
    "* clear\n",
    "* copy\n",
    "* discard\n",
    "* difference\n",
    "* difference_update\n",
    "* intersection\n",
    "* intersection_update\n",
    "* isdisjoint\n",
    "* issubset\n",
    "* issuperset\n",
    "* pop\n",
    "* remove\n",
    "* symmetric_difference\n",
    "* symmetric_difference_update\n",
    "* union\n",
    "* update"
   ]
  },
  {
   "cell_type": "markdown",
   "metadata": {},
   "source": [
    "##### Method `add()`\n",
    "\n",
    "Sets are mutable, which means you can add elements to it"
   ]
  },
  {
   "cell_type": "code",
   "execution_count": 25,
   "metadata": {},
   "outputs": [
    {
     "name": "stdout",
     "output_type": "stream",
     "text": [
      "The numbers set is {1, 2, 3, 4, 5, 6} with ID 140492212977440\n",
      "After adding, the numbers set is {1, 2, 3, 4, 5, 6, 10} with ID 140492212977440\n"
     ]
    }
   ],
   "source": [
    "numbers = {1,2,3,4,5,6}\n",
    "\n",
    "print(f'The numbers set is {numbers} with ID {id(numbers)}')\n",
    "\n",
    "numbers.add(10)\n",
    "\n",
    "print(f'After adding, the numbers set is {numbers} with ID {id(numbers)}')"
   ]
  },
  {
   "cell_type": "markdown",
   "metadata": {},
   "source": [
    "##### Method `clear()`\n",
    "\n",
    "Removes all elements from the set, leaving it empty. It modifies the original set in place and returns the empty set."
   ]
  },
  {
   "cell_type": "code",
   "execution_count": 29,
   "metadata": {},
   "outputs": [
    {
     "name": "stdout",
     "output_type": "stream",
     "text": [
      "The numbers set is {1, 2, 3, 4, 5} with ID 140492226541376\n",
      "After adding, the numbers set is set() with ID 140492226541376\n"
     ]
    }
   ],
   "source": [
    "numbers = {1, 2, 3, 4, 5}\n",
    "print(f'The numbers set is {numbers} with ID {id(numbers)}')\n",
    "\n",
    "numbers.clear()\n",
    "\n",
    "print(f'After adding, the numbers set is {numbers} with ID {id(numbers)}')"
   ]
  },
  {
   "cell_type": "markdown",
   "metadata": {},
   "source": [
    "##### Method `copy()`\n",
    "\n",
    "Returns a shallow copy of the set.\n",
    "\n",
    "Remember, a shallow copy is a type of copy operation in programming that creates a new object, but it does not create copies of the objects contained within the original object. Instead, it creates references to the same objects. In other words, a shallow copy duplicates the structure of the original object, but the new object shares the same references to the internal objects as the original object."
   ]
  },
  {
   "cell_type": "code",
   "execution_count": 35,
   "metadata": {},
   "outputs": [
    {
     "name": "stdout",
     "output_type": "stream",
     "text": [
      "The mixed set is {1, 2, 3, 4, 5, (1, 2, 3)} with ID = 140492226539584\n",
      "The copy of the mixed set is {1, 2, 3, 4, 5, (1, 2, 3)} with ID = 140492226542272\n"
     ]
    }
   ],
   "source": [
    "mixed_set = {1, 2, 3, 4, 5, (1,2,3), True}\n",
    "\n",
    "copy_mixed_set = mixed_set.copy()  # Shallow copy\n",
    "\n",
    "print(f'The mixed set is {mixed_set} with ID = {id(mixed_set)}\\n'\n",
    "      f'The copy of the mixed set is {copy_mixed_set} with ID = {id(copy_mixed_set)}')"
   ]
  },
  {
   "cell_type": "markdown",
   "metadata": {},
   "source": [
    "##### Method `discard()`\n",
    "\n",
    "Removes a specified element from the set if it is present. If the element is not present in the set, discard() does nothing and does not raise an error."
   ]
  },
  {
   "cell_type": "code",
   "execution_count": 39,
   "metadata": {},
   "outputs": [
    {
     "name": "stdout",
     "output_type": "stream",
     "text": [
      "The mixed set is {1, 2, 3, 4, 5} with ID = 140492226539584\n",
      "\n"
     ]
    }
   ],
   "source": [
    "mixed_set.discard((1,2,3))\n",
    "\n",
    "print(f'The mixed set is {mixed_set} with ID = {id(mixed_set)}\\n')\n",
    "\n",
    "mixed_set.discard(17)  # Does no raise error even is element is not present"
   ]
  },
  {
   "cell_type": "markdown",
   "metadata": {},
   "source": [
    "##### Method `difference()`\n",
    "Returns a new set containing elements that are present in the original set but not in the specified set(s) or iterable(s)."
   ]
  },
  {
   "cell_type": "code",
   "execution_count": 43,
   "metadata": {},
   "outputs": [
    {
     "name": "stdout",
     "output_type": "stream",
     "text": [
      "The id of numbers1 = 140492226543168\n",
      "\"difference()\" returns the set of numbers that are on numbers1 but not in numbers2: {1, 2}\n",
      "The id of the difference_set = 140492226541376\n"
     ]
    }
   ],
   "source": [
    "numbers1 = {1, 2, 3, 4, 5}\n",
    "numbers2 = {3, 4, 5, 6, 7}\n",
    "difference_set = numbers1.difference(numbers2) # Will return the set of numbers that are on numbers1 but not in numbers2\n",
    "\n",
    "print(f'The id of numbers1 = {id(numbers1)}')\n",
    "print(f'\"difference()\" returns the set of numbers that are on numbers1 but not in numbers2: {difference_set}')\n",
    "print(f'The id of the difference_set = {id(difference_set)}')"
   ]
  },
  {
   "cell_type": "markdown",
   "metadata": {},
   "source": [
    "##### Method `difference_update()`\n",
    "\n",
    "As `difference()` but updating the first set, not creating a new one"
   ]
  },
  {
   "cell_type": "code",
   "execution_count": 45,
   "metadata": {},
   "outputs": [
    {
     "name": "stdout",
     "output_type": "stream",
     "text": [
      "The id of numbers1 prior to \"difference_update()\" = 140492226542496\n",
      "\"difference_update()\" updates numbers1 to contain the numbers that are on numbers1 but not in numbers2: {1, 2}\n",
      "The id of numbers1 after \"difference_update()\" = 140492226542496\n"
     ]
    }
   ],
   "source": [
    "numbers1 = {1, 2, 3, 4, 5}\n",
    "numbers2 = {3, 4, 5, 6, 7}\n",
    "\n",
    "print(f'The id of numbers1 prior to \"difference_update()\" = {id(numbers1)}')\n",
    "\n",
    "numbers1.difference_update(numbers2)\n",
    "\n",
    "print(f'\"difference_update()\" updates numbers1 to contain the numbers that are on numbers1 but not in numbers2: {numbers1}')\n",
    "print(f'The id of numbers1 after \"difference_update()\" = {id(numbers1)}')"
   ]
  },
  {
   "cell_type": "markdown",
   "metadata": {},
   "source": [
    "##### Method `intersection()`\n",
    "\n",
    "Returns a new set containing elements that are common to the original set"
   ]
  },
  {
   "cell_type": "code",
   "execution_count": 46,
   "metadata": {},
   "outputs": [
    {
     "name": "stdout",
     "output_type": "stream",
     "text": [
      "{3, 4, 5}\n"
     ]
    }
   ],
   "source": [
    "numbers1 = {1, 2, 3, 4, 5}\n",
    "numbers2 = {3, 4, 5, 6, 7}\n",
    "\n",
    "num_intersection = numbers1.intersection(numbers2)\n",
    "\n",
    "print(num_intersection)"
   ]
  },
  {
   "cell_type": "markdown",
   "metadata": {},
   "source": [
    "##### Method `intersection_update()`\n",
    "\n",
    "As `intersection()` but updating the first set, not creating a new one"
   ]
  },
  {
   "cell_type": "code",
   "execution_count": 47,
   "metadata": {},
   "outputs": [
    {
     "name": "stdout",
     "output_type": "stream",
     "text": [
      "The id of numbers1 prior to \"difference_update()\" = 140492226542496\n",
      "\"intersection_update()\" updates numbers1 to contain the numbers that are common between numbers1 and numbers2: {3, 4, 5}\n",
      "The id of numbers1 after \"intersection_update()\" = 140492226542496\n"
     ]
    }
   ],
   "source": [
    "numbers1 = {1, 2, 3, 4, 5}\n",
    "numbers2 = {3, 4, 5, 6, 7}\n",
    "\n",
    "print(f'The id of numbers1 prior to \"difference_update()\" = {id(numbers1)}')\n",
    "\n",
    "numbers1.intersection_update(numbers2)\n",
    "\n",
    "print(f'\"intersection_update()\" updates numbers1 to contain the numbers that are common between numbers1 and numbers2: {numbers1}')\n",
    "print(f'The id of numbers1 after \"intersection_update()\" = {id(numbers1)}')"
   ]
  },
  {
   "cell_type": "markdown",
   "metadata": {},
   "source": [
    "##### Method `isdisjoin()`\n",
    "\n",
    "Checks whether two sets have no elements in common. It returns True if the sets are disjoint (i.e., they have no elements in common), and False otherwise."
   ]
  },
  {
   "cell_type": "code",
   "execution_count": 48,
   "metadata": {},
   "outputs": [
    {
     "name": "stdout",
     "output_type": "stream",
     "text": [
      "True\n",
      "False\n"
     ]
    }
   ],
   "source": [
    "set1 = {1, 2, 3}\n",
    "set2 = {4, 5, 6}\n",
    "set3 = {3, 4, 5}\n",
    "\n",
    "result1 = set1.isdisjoint(set2)\n",
    "print(result1)  # True\n",
    "\n",
    "result2 = set1.isdisjoint(set3)\n",
    "print(result2)  # False"
   ]
  },
  {
   "cell_type": "markdown",
   "metadata": {},
   "source": [
    "##### Method `issubset()`\n",
    "\n",
    "Checks whether one set is a subset of another set."
   ]
  },
  {
   "cell_type": "code",
   "execution_count": 50,
   "metadata": {},
   "outputs": [
    {
     "name": "stdout",
     "output_type": "stream",
     "text": [
      "True\n",
      "False\n"
     ]
    }
   ],
   "source": [
    "set1 = {1, 2, 3}\n",
    "set2 = {1, 2, 3, 4, 5}\n",
    "set3 = {4, 5, 6}\n",
    "\n",
    "result1 = set1.issubset(set2)\n",
    "print(result1)  \n",
    "\n",
    "result2 = set1.issubset(set3)\n",
    "print(result2) "
   ]
  },
  {
   "cell_type": "markdown",
   "metadata": {},
   "source": [
    "##### Method `issuperset()`\n",
    "\n",
    "Checks whether one set is a superset of another set"
   ]
  },
  {
   "cell_type": "code",
   "execution_count": 51,
   "metadata": {},
   "outputs": [
    {
     "name": "stdout",
     "output_type": "stream",
     "text": [
      "True\n",
      "False\n"
     ]
    }
   ],
   "source": [
    "set1 = {1, 2, 3, 4, 5}\n",
    "set2 = {1, 2, 3}\n",
    "set3 = {4, 5, 6}\n",
    "\n",
    "result1 = set1.issuperset(set2)\n",
    "print(result1)  \n",
    "\n",
    "result2 = set1.issuperset(set3)\n",
    "print(result2)  "
   ]
  },
  {
   "cell_type": "markdown",
   "metadata": {},
   "source": [
    "##### Method `pop()`:\n",
    "\n",
    "Removes and returns an arbitrary element from the set. The pop() method removes a random element from the set because sets are unordered collections."
   ]
  },
  {
   "cell_type": "code",
   "execution_count": 53,
   "metadata": {},
   "outputs": [
    {
     "name": "stdout",
     "output_type": "stream",
     "text": [
      "2\n",
      "{3, 4, 5, 10}\n"
     ]
    }
   ],
   "source": [
    "my_set = {10, 2, 3, 4, 5}\n",
    "element = my_set.pop()\n",
    "print(element)  \n",
    "print(my_set) "
   ]
  },
  {
   "cell_type": "markdown",
   "metadata": {},
   "source": [
    "##### Method `remove()`\n",
    "\n",
    "Removes a specified element from the set. If the specified element is not found in the set, remove() raises a KeyError exception."
   ]
  },
  {
   "cell_type": "code",
   "execution_count": 58,
   "metadata": {},
   "outputs": [
    {
     "name": "stdout",
     "output_type": "stream",
     "text": [
      "{1, 2, 4, 5}\n",
      "Element not found\n"
     ]
    }
   ],
   "source": [
    "my_set = {1, 2, 3, 4, 5}\n",
    "my_set.remove(3)\n",
    "print(my_set)\n",
    "\n",
    "try:\n",
    "    my_set.remove(10)\n",
    "except KeyError:\n",
    "    print('Element not found')"
   ]
  },
  {
   "cell_type": "markdown",
   "metadata": {},
   "source": [
    "##### Method `symmetric_difference()`\n",
    "\n",
    "Returns a new set containing elements that are present in either of the sets, but not in both."
   ]
  },
  {
   "cell_type": "code",
   "execution_count": 59,
   "metadata": {},
   "outputs": [
    {
     "name": "stdout",
     "output_type": "stream",
     "text": [
      "{1, 2}\n"
     ]
    }
   ],
   "source": [
    "set1 = {1, 2, 3, 4}\n",
    "set2 = {3, 4, 5, 6}\n",
    "result_set = set1.difference(set2)\n",
    "print(result_set)"
   ]
  },
  {
   "cell_type": "markdown",
   "metadata": {},
   "source": [
    "##### method `union()`\n",
    "\n",
    "Returns a new set containing all the unique elements that are present in either of the sets or iterables. You can also use the | operator as a shorthand for the union() method"
   ]
  },
  {
   "cell_type": "code",
   "execution_count": 61,
   "metadata": {},
   "outputs": [
    {
     "name": "stdout",
     "output_type": "stream",
     "text": [
      "{1, 2, 3, 4, 5}\n",
      "{1, 2, 3, 4, 5}\n"
     ]
    }
   ],
   "source": [
    "set1 = {1, 2, 3}\n",
    "set2 = {3, 4, 5}\n",
    "\n",
    "result_set = set1.union(set2)\n",
    "print(result_set)\n",
    "\n",
    "result_set_2 = set1 | (set2)\n",
    "print(result_set_2)"
   ]
  },
  {
   "cell_type": "markdown",
   "metadata": {},
   "source": [
    "##### Method `update()`\n",
    "\n",
    "Adds elements from another set (or sets) or an iterable (such as a list or tuple) to the current set. It modifies the original set in place."
   ]
  },
  {
   "cell_type": "code",
   "execution_count": 62,
   "metadata": {},
   "outputs": [
    {
     "name": "stdout",
     "output_type": "stream",
     "text": [
      "{1, 2, 3, 4, 5}\n"
     ]
    }
   ],
   "source": [
    "my_set = {1, 2, 3}\n",
    "other_set = {4, 5}\n",
    "my_set.update(other_set)\n",
    "print(my_set)"
   ]
  },
  {
   "cell_type": "markdown",
   "metadata": {},
   "source": [
    "## Frozen set()\n",
    "\n",
    "Immutable collection of unique, hashable elements, similar to a regular set. The key difference is that once a frozen set is created, its elements cannot be changed, added, or removed. Frozen sets are created using the frozenset() constructor."
   ]
  },
  {
   "cell_type": "code",
   "execution_count": 63,
   "metadata": {},
   "outputs": [
    {
     "name": "stdout",
     "output_type": "stream",
     "text": [
      "frozenset({1, 2, 3, 4, 5})\n"
     ]
    }
   ],
   "source": [
    "my_list = [1, 2, 3, 3, 4, 5]\n",
    "my_frozen_set = frozenset(my_list)\n",
    "print(my_frozen_set)"
   ]
  }
 ],
 "metadata": {
  "kernelspec": {
   "display_name": "jcrosas-Python_meetings",
   "language": "python",
   "name": "python3"
  },
  "language_info": {
   "codemirror_mode": {
    "name": "ipython",
    "version": 3
   },
   "file_extension": ".py",
   "mimetype": "text/x-python",
   "name": "python",
   "nbconvert_exporter": "python",
   "pygments_lexer": "ipython3",
   "version": "3.9.18"
  }
 },
 "nbformat": 4,
 "nbformat_minor": 2
}

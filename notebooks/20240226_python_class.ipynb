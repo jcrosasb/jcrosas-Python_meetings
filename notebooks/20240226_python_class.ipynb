{
 "cells": [
  {
   "cell_type": "markdown",
   "metadata": {},
   "source": [
    "## Dictionary Comprehensions\n",
    "\n",
    "A dictionary comprehension is a compact way to process and transform data in order to produce a new dictionary as a result. In contrast to list comprehensions, dictionary comprehensions need a key that maps to a value. You can first provide two expressions separated by a colon (:). After this, you’ll provide a for clause, and you can also include an optional if clause."
   ]
  },
  {
   "cell_type": "code",
   "execution_count": 4,
   "metadata": {},
   "outputs": [
    {
     "name": "stdout",
     "output_type": "stream",
     "text": [
      "{'a': 1, 'b': 2, 'c': 3}\n"
     ]
    }
   ],
   "source": [
    "letters_numbers = {'a':1, \n",
    "                   'b':2, \n",
    "                   'c':3}\n",
    "\n",
    "letters_numbers_2 = {key:value for key, value in [('a',1),('b',2),('c',3)]}\n",
    "\n",
    "print(letters_numbers_2)"
   ]
  },
  {
   "cell_type": "markdown",
   "metadata": {},
   "source": [
    "You may also use `zip()`"
   ]
  },
  {
   "cell_type": "code",
   "execution_count": 3,
   "metadata": {},
   "outputs": [
    {
     "name": "stdout",
     "output_type": "stream",
     "text": [
      "{'color': 'blue', 'fruit': 'apple', 'pet': 'dog'}\n"
     ]
    }
   ],
   "source": [
    "categories = [\"color\", \"fruit\", \"pet\"]\n",
    "objects = [\"blue\", \"apple\", \"dog\"]\n",
    "\n",
    "likes = {key:value for key, value in zip(categories, objects)}\n",
    "\n",
    "print(likes)"
   ]
  },
  {
   "cell_type": "markdown",
   "metadata": {},
   "source": [
    "Note: The above example demonstrates how dictionary comprehensions work in Python. Still, a better way to write the example would be the following:"
   ]
  },
  {
   "cell_type": "code",
   "execution_count": 5,
   "metadata": {},
   "outputs": [
    {
     "name": "stdout",
     "output_type": "stream",
     "text": [
      "{'color': 'blue', 'fruit': 'apple', 'pet': 'dog'}\n"
     ]
    }
   ],
   "source": [
    "categories = [\"color\", \"fruit\", \"pet\"]\n",
    "objects = [\"blue\", \"apple\", \"dog\"]\n",
    "\n",
    "print(dict(zip(categories, objects)))\n"
   ]
  },
  {
   "cell_type": "markdown",
   "metadata": {},
   "source": [
    "Another thing you can do with dict comprehensions is filter values"
   ]
  },
  {
   "cell_type": "code",
   "execution_count": 6,
   "metadata": {},
   "outputs": [
    {
     "name": "stdout",
     "output_type": "stream",
     "text": [
      "{'b': 2, 'c': 3}\n"
     ]
    }
   ],
   "source": [
    "letters_numbers = {'a':1, \n",
    "                   'b':2, \n",
    "                   'c':3}\n",
    "\n",
    "letters_numbers_2 = {key:value for key, value in letters_numbers.items() if value >= 2}\n",
    "\n",
    "print(letters_numbers_2)"
   ]
  },
  {
   "cell_type": "markdown",
   "metadata": {},
   "source": [
    "you can also swap key and values"
   ]
  },
  {
   "cell_type": "code",
   "execution_count": 7,
   "metadata": {},
   "outputs": [
    {
     "name": "stdout",
     "output_type": "stream",
     "text": [
      "{1: 'a', 2: 'b', 3: 'c'}\n"
     ]
    }
   ],
   "source": [
    "letters_numbers = {'a':1, \n",
    "                   'b':2, \n",
    "                   'c':3}\n",
    "\n",
    "letters_numbers_2 = {value:key for key, value in letters_numbers.items()}\n",
    "\n",
    "print(letters_numbers_2)"
   ]
  },
  {
   "cell_type": "markdown",
   "metadata": {},
   "source": [
    "##### APPLYING FUNCTIONS TO LIST COMPREHENSIONS"
   ]
  },
  {
   "cell_type": "code",
   "execution_count": 12,
   "metadata": {},
   "outputs": [
    {
     "name": "stdout",
     "output_type": "stream",
     "text": [
      "{'A': False, 'B': True, 'C': True}\n"
     ]
    }
   ],
   "source": [
    "letters_numbers = {'a':1, \n",
    "                   'b':2, \n",
    "                   'c':3}\n",
    "\n",
    "def is_prime(integer: int):\n",
    "    if integer > 1:\n",
    "        for i in range(2, int(integer**0.5) + 1, 2):\n",
    "             if integer % i == 0:\n",
    "                 return False\n",
    "        return True\n",
    "    return False\n",
    "\n",
    "letters_numbers_2 = {key.capitalize():is_prime(value) for key, value in letters_numbers.items()}\n",
    "\n",
    "print(letters_numbers_2)"
   ]
  },
  {
   "cell_type": "markdown",
   "metadata": {},
   "source": [
    "##### IMPORTANT: a dict comprehension is creating a new dictionary, not updating. Dictionary keys <u>***cannot***</u> be changed (they are inmutable)"
   ]
  },
  {
   "cell_type": "markdown",
   "metadata": {},
   "source": [
    "You can also count ocurrences in a list using a dict comprehension"
   ]
  },
  {
   "cell_type": "code",
   "execution_count": 15,
   "metadata": {},
   "outputs": [
    {
     "name": "stdout",
     "output_type": "stream",
     "text": [
      "{'Juan': 1, 'Sol': 2, 'Salvador': 2, 'David': 1}\n"
     ]
    }
   ],
   "source": [
    "names = ['Juan', 'Sol', 'Salvador', 'David', 'Sol', 'Salvador']\n",
    "\n",
    "name_count = {name:names.count(name) for name in names}\n",
    "\n",
    "print(name_count)"
   ]
  },
  {
   "cell_type": "code",
   "execution_count": null,
   "metadata": {},
   "outputs": [],
   "source": []
  }
 ],
 "metadata": {
  "kernelspec": {
   "display_name": "jcrosas-Python_meetings",
   "language": "python",
   "name": "python3"
  },
  "language_info": {
   "codemirror_mode": {
    "name": "ipython",
    "version": 3
   },
   "file_extension": ".py",
   "mimetype": "text/x-python",
   "name": "python",
   "nbconvert_exporter": "python",
   "pygments_lexer": "ipython3",
   "version": "3.9.18"
  }
 },
 "nbformat": 4,
 "nbformat_minor": 2
}

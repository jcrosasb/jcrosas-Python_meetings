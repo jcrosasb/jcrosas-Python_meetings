{
 "cells": [
  {
   "cell_type": "markdown",
   "metadata": {},
   "source": [
    "## A bit more on lambdas...\n",
    "First, create a Pandas Dataframe"
   ]
  },
  {
   "cell_type": "code",
   "execution_count": 2,
   "metadata": {},
   "outputs": [
    {
     "name": "stdout",
     "output_type": "stream",
     "text": [
      "   Student  Math  Science  History\n",
      "0    Alice    85       90       88\n",
      "1      Bob    92       85       78\n",
      "2  Charlie    90       95       82\n",
      "3    David    88       87       90\n"
     ]
    }
   ],
   "source": [
    "import pandas as pd\n",
    "\n",
    "data = {'Student': ['Alice', 'Bob', 'Charlie', 'David'],\n",
    "        'Math': [85, 92, 90, 88],\n",
    "        'Science': [90, 85, 95, 87],\n",
    "        'History': [88, 78, 82, 90] }\n",
    "\n",
    "df_student_grades = pd.DataFrame(data)\n",
    "print(df_student_grades)"
   ]
  },
  {
   "cell_type": "markdown",
   "metadata": {},
   "source": [
    "I want to add a new colum with the average"
   ]
  },
  {
   "cell_type": "code",
   "execution_count": 3,
   "metadata": {},
   "outputs": [
    {
     "name": "stdout",
     "output_type": "stream",
     "text": [
      "   Student  Math  Science  History    Average\n",
      "0    Alice    85       90       88  87.666667\n",
      "1      Bob    92       85       78  85.000000\n",
      "2  Charlie    90       95       82  89.000000\n",
      "3    David    88       87       90  88.333333\n"
     ]
    }
   ],
   "source": [
    "df_student_grades['Average'] = df_student_grades.apply(lambda row: row[['Math','Science','History']].mean(), axis=1)\n",
    "\n",
    "print(df_student_grades)"
   ]
  },
  {
   "cell_type": "markdown",
   "metadata": {},
   "source": [
    "## *args and **kwargs\n",
    "\n",
    "*args and **kwargs allow you to pass multiple arguments or keyword arguments to a function. "
   ]
  },
  {
   "cell_type": "code",
   "execution_count": 4,
   "metadata": {},
   "outputs": [
    {
     "name": "stdout",
     "output_type": "stream",
     "text": [
      "6\n"
     ]
    }
   ],
   "source": [
    "# Sum of integers\n",
    "def my_sum(my_integers):\n",
    "    result = 0\n",
    "    for x in my_integers:\n",
    "        result += x\n",
    "    return result\n",
    "\n",
    "list_of_integers = [1, 2, 3]\n",
    "print(my_sum(list_of_integers))"
   ]
  },
  {
   "cell_type": "markdown",
   "metadata": {},
   "source": [
    "The problem with the above problem is that you need to pass a list of integers. SOmetimes you don't know the elements that the list will have. A possible solution is use *args"
   ]
  },
  {
   "cell_type": "code",
   "execution_count": 6,
   "metadata": {},
   "outputs": [
    {
     "name": "stdout",
     "output_type": "stream",
     "text": [
      "6\n",
      "15\n",
      "28\n"
     ]
    }
   ],
   "source": [
    "def my_sum(*args):\n",
    "    result = 0\n",
    "    # Iterating over the Python args tuple\n",
    "    for x in args:\n",
    "        result += x\n",
    "    return result\n",
    "\n",
    "print(my_sum(1, 2, 3))\n",
    "print(my_sum(1, 2, 3, 4, 5))\n",
    "print(my_sum(1, 2, 3, 4, 5, 6, 7))\n"
   ]
  },
  {
   "cell_type": "markdown",
   "metadata": {},
   "source": [
    "***IMPORTANT:*** *args is just a name. You don't have to use it, you can use whatever name you want\n",
    "\n",
    "##### The unpack operator `*` unpacks <u>iterables</u>"
   ]
  },
  {
   "cell_type": "code",
   "execution_count": 7,
   "metadata": {},
   "outputs": [
    {
     "name": "stdout",
     "output_type": "stream",
     "text": [
      "6\n"
     ]
    }
   ],
   "source": [
    "def my_sum(*integers):\n",
    "    result = 0\n",
    "    for x in integers:\n",
    "        result += x\n",
    "    return result\n",
    "\n",
    "print(my_sum(1, 2, 3))"
   ]
  },
  {
   "cell_type": "markdown",
   "metadata": {},
   "source": [
    "***ALSO IMPORTANT:*** the unpacking operator `*` is being used on a tuple, not a list. \n",
    "\n",
    "##### <u>What is meant when we do `*args` is we are telling Python to ***pack*** everything inside the arguments of the function as a tupple</u>"
   ]
  },
  {
   "cell_type": "code",
   "execution_count": 13,
   "metadata": {},
   "outputs": [
    {
     "name": "stdout",
     "output_type": "stream",
     "text": [
      "x=1\n",
      "y=2\n",
      "z=3\n"
     ]
    }
   ],
   "source": [
    "my_list = [1, 2, 3]\n",
    "#print(my_list)\n",
    "\n",
    "#print()\n",
    "\n",
    "# Unpacking of a list\n",
    "my_list = [1, 2, 3]\n",
    "#print(*my_list)\n",
    "\n",
    "def test_function(x: int, y: int, z: int):\n",
    "    print(f'x={x}')\n",
    "    print(f'y={y}')\n",
    "    print(f'z={z}')\n",
    "\n",
    "# Unpacking a list inside the function arguments\n",
    "test_function(*my_list)"
   ]
  },
  {
   "cell_type": "markdown",
   "metadata": {},
   "source": [
    "##### `*kwargs` works just like `*args`, but instead of accepting positional arguments it accepts keyword arguments (hence the `kw`)\n",
    "\n",
    "##### The unpack operator `**` unpacks <u>dictionaries</u>"
   ]
  },
  {
   "cell_type": "code",
   "execution_count": 17,
   "metadata": {},
   "outputs": [
    {
     "name": "stdout",
     "output_type": "stream",
     "text": [
      "kwargs = {'sport': 'Baseball', 'team': 'San Diego Padres'}. Type = <class 'dict'>\n",
      "\n",
      "key=sport, value=Baseball\n",
      "key=team, value=San Diego Padres\n"
     ]
    }
   ],
   "source": [
    "def printing_kwargs(**kwargs):\n",
    "    print(f'kwargs = {kwargs}. Type = {type(kwargs)}\\n')\n",
    "    for key, value in kwargs.items():\n",
    "        print(f'key={key}, value={value}')\n",
    "\n",
    "printing_kwargs(sport='Baseball',team='San Diego Padres')"
   ]
  },
  {
   "cell_type": "code",
   "execution_count": 18,
   "metadata": {},
   "outputs": [
    {
     "name": "stdout",
     "output_type": "stream",
     "text": [
      "RealPythonIsGreat!\n"
     ]
    }
   ],
   "source": [
    "def concatenate(**kwargs):\n",
    "    result = \"\"\n",
    "    # Iterating over the Python kwargs dictionary\n",
    "    for arg in kwargs.values():\n",
    "        result += arg\n",
    "    return result\n",
    "\n",
    "print(concatenate(a=\"Real\", b=\"Python\", c=\"Is\", d=\"Great\", e=\"!\"))"
   ]
  },
  {
   "cell_type": "markdown",
   "metadata": {},
   "source": [
    "##### A bit more about unpacking operators..."
   ]
  },
  {
   "cell_type": "code",
   "execution_count": 20,
   "metadata": {},
   "outputs": [
    {
     "name": "stdout",
     "output_type": "stream",
     "text": [
      "[1, 2, 3, 4, 5, 6]\n",
      "['R', 'e', 'a', 'l', 'P', 'y', 't', 'h', 'o', 'n']\n"
     ]
    }
   ],
   "source": [
    "my_first_list = [1, 2, 3]\n",
    "my_second_list = [4, 5, 6]\n",
    "my_merged_list = [*my_first_list, *my_second_list]\n",
    "\n",
    "print(my_merged_list)\n",
    "\n",
    "s = 'RealPython'\n",
    "a = [*s]\n",
    "print(a)\n"
   ]
  },
  {
   "cell_type": "markdown",
   "metadata": {},
   "source": [
    "You can also merge dictionaries"
   ]
  },
  {
   "cell_type": "code",
   "execution_count": 24,
   "metadata": {},
   "outputs": [
    {
     "name": "stdout",
     "output_type": "stream",
     "text": [
      "{'A': 1, 'B': 2, 'C': 3, 'D': 4}\n"
     ]
    }
   ],
   "source": [
    "my_first_dict = {\"A\": 1, \"B\": 2}\n",
    "my_second_dict = {\"C\": 3, \"D\": 4}\n",
    "my_merged_dict = {**my_first_dict, **my_second_dict}\n",
    "\n",
    "print(my_merged_dict)\n"
   ]
  },
  {
   "cell_type": "markdown",
   "metadata": {},
   "source": [
    "## Functional Programming in Python\n",
    "\n",
    "* ***Lambda functions*** allow you to define an anonimous function on the fly:\n",
    "\n",
    "```\n",
    "lambda <parameter_list>: <expression>\n",
    "```"
   ]
  },
  {
   "cell_type": "code",
   "execution_count": 1,
   "metadata": {},
   "outputs": [
    {
     "data": {
      "text/plain": [
       "<function __main__.<lambda>(s)>"
      ]
     },
     "execution_count": 1,
     "metadata": {},
     "output_type": "execute_result"
    }
   ],
   "source": [
    "lambda s: s[::-1]"
   ]
  },
  {
   "cell_type": "markdown",
   "metadata": {},
   "source": [
    "##### FIRST-ORDER FUNCTION: function that applies to built-in data structures of python\n",
    "##### HIGHER-ORDER FUNCTION: take functions as arguments. Functions of functions"
   ]
  },
  {
   "cell_type": "code",
   "execution_count": 26,
   "metadata": {},
   "outputs": [],
   "source": [
    "# First-Order\n",
    "def square(x: int) -> int:\n",
    "    return x**2\n",
    "\n",
    "# First-Order\n",
    "def is_even(x: int) -> bool:\n",
    "    return x % 2 == 0\n",
    "\n",
    "numbers = [1,2,3,4,5]\n",
    "\n",
    "numbers_squared = [square(number) for number in numbers if is_even(number)]"
   ]
  },
  {
   "cell_type": "markdown",
   "metadata": {},
   "source": [
    "##### `map()`: higher-order function that lets you apply a function to an iterable. It returns an ***iterator***\n",
    "\n",
    "`map(<f>, <iterable>)`"
   ]
  },
  {
   "cell_type": "code",
   "execution_count": 29,
   "metadata": {},
   "outputs": [
    {
     "name": "stdout",
     "output_type": "stream",
     "text": [
      "[1, 4, 9, 16, 25]\n"
     ]
    }
   ],
   "source": [
    "# First-Order\n",
    "def square(x: int) -> int:\n",
    "    return x**2\n",
    "\n",
    "# First-Order\n",
    "def is_even(x: int) -> bool:\n",
    "    return x % 2 == 0\n",
    "\n",
    "map_iterator = map(square, [1,2,3,4,5])\n",
    "\n",
    "print(list(map_iterator))"
   ]
  },
  {
   "cell_type": "markdown",
   "metadata": {},
   "source": [
    "##### `filter()`: higher-order function that allows you to select or filter items from an iterable based on evaluation of the given function. It returns an ***iterator***\n",
    "\n",
    "`filter(<f>, <iterable>)`"
   ]
  },
  {
   "cell_type": "code",
   "execution_count": 30,
   "metadata": {},
   "outputs": [
    {
     "name": "stdout",
     "output_type": "stream",
     "text": [
      "[2, 4]\n"
     ]
    }
   ],
   "source": [
    "# First-Order\n",
    "def square(x: int) -> int:\n",
    "    return x**2\n",
    "\n",
    "# First-Order\n",
    "def is_even(x: int) -> bool:\n",
    "    return x % 2 == 0\n",
    "\n",
    "filter_iterator = filter(is_even, [1,2,3,4,5])\n",
    "\n",
    "print(list(filter_iterator))"
   ]
  },
  {
   "cell_type": "markdown",
   "metadata": {},
   "source": [
    "##### ***IMPORTANT:*** note that you can also use lambda function"
   ]
  },
  {
   "cell_type": "code",
   "execution_count": 32,
   "metadata": {},
   "outputs": [
    {
     "name": "stdout",
     "output_type": "stream",
     "text": [
      "[1, 4, 9, 16, 25]\n",
      "[False, True, False, True, False]\n"
     ]
    }
   ],
   "source": [
    "print(list(map(lambda x: x**2, [1,2,3,4,5])))\n",
    "print(list(map(lambda x: x % 2 == 0, [1,2,3,4,5])))\n"
   ]
  },
  {
   "cell_type": "markdown",
   "metadata": {},
   "source": [
    "##### `all()`: returns True if all items in an iterable are true, otherwise it returns False\n",
    "\n",
    "##### `any()`: returns True if any items in an iterable is true, otherwise it returns False"
   ]
  },
  {
   "cell_type": "code",
   "execution_count": 36,
   "metadata": {},
   "outputs": [
    {
     "name": "stdout",
     "output_type": "stream",
     "text": [
      "matrix invalid\n",
      "matrix valid\n"
     ]
    }
   ],
   "source": [
    "# Check if matrix is indeed a matrix\n",
    "\n",
    "matrix = [[1,3],\n",
    "          [-3,0],\n",
    "          [17,5.9]]\n",
    "\n",
    "cols = len(matrix[0])\n",
    "\n",
    "check_1 = all(len(row) == cols for row in matrix)\n",
    "\n",
    "check_2 = all(isinstance(element, int) for row in matrix for element in row)\n",
    "\n",
    "def validate_matrix(matrix):\n",
    "    check_1 = all(len(row) == cols for row in matrix)\n",
    "    check_2 = all(isinstance(element, int) for row in matrix for element in row)\n",
    "    if check_1 and check_2:\n",
    "        print('matrix valid')\n",
    "    else:\n",
    "        print('matrix invalid')\n",
    "\n",
    "validate_matrix(matrix=matrix)\n",
    "\n",
    "validate_matrix(matrix=[[1,3],\n",
    "                        [-3,0],\n",
    "                        [17,9]])"
   ]
  },
  {
   "cell_type": "markdown",
   "metadata": {},
   "source": [
    "## More Lambdas..."
   ]
  },
  {
   "cell_type": "code",
   "execution_count": 8,
   "metadata": {},
   "outputs": [
    {
     "name": "stdout",
     "output_type": "stream",
     "text": [
      "5\n",
      "16\n",
      "olleh\n"
     ]
    }
   ],
   "source": [
    "print((lambda x,y: x + y)(2,3))\n",
    "\n",
    "print((lambda x: x**2)(4))\n",
    "\n",
    "print((lambda s: s[::-1])('hello'))"
   ]
  },
  {
   "cell_type": "markdown",
   "metadata": {},
   "source": [
    "or also..."
   ]
  },
  {
   "cell_type": "code",
   "execution_count": 13,
   "metadata": {},
   "outputs": [
    {
     "name": "stdout",
     "output_type": "stream",
     "text": [
      "10\n",
      "6\n",
      "25\n",
      "olleh\n"
     ]
    }
   ],
   "source": [
    "add = lambda x,y: x + y\n",
    "\n",
    "mult = lambda x,y: x * y\n",
    "\n",
    "square = lambda x: x**2\n",
    "\n",
    "reverse_s = lambda string: string[::-1]\n",
    "\n",
    "print(add(4,6))\n",
    "\n",
    "print(mult(2,3))\n",
    "\n",
    "print(square(5))\n",
    "\n",
    "print(reverse_s('hello'))"
   ]
  },
  {
   "cell_type": "code",
   "execution_count": null,
   "metadata": {},
   "outputs": [],
   "source": []
  }
 ],
 "metadata": {
  "kernelspec": {
   "display_name": "jcrosas-Python_meetings",
   "language": "python",
   "name": "python3"
  },
  "language_info": {
   "codemirror_mode": {
    "name": "ipython",
    "version": 3
   },
   "file_extension": ".py",
   "mimetype": "text/x-python",
   "name": "python",
   "nbconvert_exporter": "python",
   "pygments_lexer": "ipython3",
   "version": "3.9.18"
  }
 },
 "nbformat": 4,
 "nbformat_minor": 2
}

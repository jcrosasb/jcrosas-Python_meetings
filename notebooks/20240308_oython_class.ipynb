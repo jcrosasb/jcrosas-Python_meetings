{
 "cells": [
  {
   "cell_type": "markdown",
   "metadata": {},
   "source": [
    "## Object Initializers\n",
    "\n",
    "Remember Python instantiation process has two steps:\n",
    "\n",
    "1. Create a new instance of the target class (with `__new__`)\n",
    "2. Initialize the new instance with an appropriate initial state (with `__init__`)"
   ]
  },
  {
   "cell_type": "markdown",
   "metadata": {},
   "source": [
    "EXAMPLE: Rectangle class that requires .width and .height attributes"
   ]
  },
  {
   "cell_type": "code",
   "execution_count": 1,
   "metadata": {},
   "outputs": [
    {
     "name": "stdout",
     "output_type": "stream",
     "text": [
      "21\n",
      "42\n"
     ]
    }
   ],
   "source": [
    "class Rectangle:\n",
    "    def __init__(self, width, height) -> None:\n",
    "        self.width = width\n",
    "        self.height = height\n",
    "\n",
    "\n",
    "rectangle = Rectangle(21, 42)\n",
    "print(rectangle.width)\n",
    "print(rectangle.height)"
   ]
  },
  {
   "cell_type": "markdown",
   "metadata": {},
   "source": [
    "##### WARNING: `__init__` must not explicitly return anything different from None, or you’ll get a TypeError exception. However, you don’t need to return None explicitly, because methods and functions without an explicit return statement just return None implicitly in Python"
   ]
  },
  {
   "cell_type": "code",
   "execution_count": 3,
   "metadata": {},
   "outputs": [
    {
     "ename": "TypeError",
     "evalue": "__init__() should return None, not 'int'",
     "output_type": "error",
     "traceback": [
      "\u001b[0;31m---------------------------------------------------------------------------\u001b[0m",
      "\u001b[0;31mTypeError\u001b[0m                                 Traceback (most recent call last)",
      "Cell \u001b[0;32mIn[3], line 7\u001b[0m\n\u001b[1;32m      4\u001b[0m         \u001b[38;5;28mself\u001b[39m\u001b[38;5;241m.\u001b[39mheight \u001b[38;5;241m=\u001b[39m height\n\u001b[1;32m      5\u001b[0m         \u001b[38;5;28;01mreturn\u001b[39;00m \u001b[38;5;241m42\u001b[39m\n\u001b[0;32m----> 7\u001b[0m rectangle \u001b[38;5;241m=\u001b[39m \u001b[43mRectangle\u001b[49m\u001b[43m(\u001b[49m\u001b[38;5;241;43m21\u001b[39;49m\u001b[43m,\u001b[49m\u001b[43m \u001b[49m\u001b[38;5;241;43m42\u001b[39;49m\u001b[43m)\u001b[49m\n",
      "\u001b[0;31mTypeError\u001b[0m: __init__() should return None, not 'int'"
     ]
    }
   ],
   "source": [
    "class Rectangle:\n",
    "    def __init__(self, width, height) -> None:\n",
    "        self.width = width\n",
    "        self.height = height\n",
    "        return 42\n",
    "    \n",
    "rectangle = Rectangle(21, 42) "
   ]
  },
  {
   "cell_type": "markdown",
   "metadata": {},
   "source": [
    "Now suppose you are inheriting from a different class"
   ]
  },
  {
   "cell_type": "code",
   "execution_count": 4,
   "metadata": {},
   "outputs": [],
   "source": [
    "class Person:\n",
    "    def __init__(self, name, birth_date):\n",
    "        self.name = name\n",
    "        self.birth_date = birth_date\n",
    "\n",
    "\n",
    "class Employee(Person):\n",
    "    def __init__(self, name, birth_date, position):\n",
    "        super().__init__(name, birth_date)\n",
    "        self.position = position\n",
    "\n",
    "\n",
    "john = Employee(\"John Doe\", \"2001-02-07\", \"Python Developer\")"
   ]
  },
  {
   "cell_type": "markdown",
   "metadata": {},
   "source": [
    "The line `super().__init__(name, birth_date)` ensures the initialization of .name and .birth_date in the parent class, `Person`"
   ]
  },
  {
   "cell_type": "markdown",
   "metadata": {},
   "source": [
    "## Alternative `__init__`\n",
    "\n",
    "The uses of class methods are:\n",
    "\n",
    "1. Access class attributes\n",
    "2. Alternate __init__\n",
    "3. Define object with very specific attributes\n",
    "4. Change class attributes\n"
   ]
  },
  {
   "cell_type": "code",
   "execution_count": 11,
   "metadata": {},
   "outputs": [
    {
     "name": "stdout",
     "output_type": "stream",
     "text": [
      "2.0\n",
      "2.5\n"
     ]
    }
   ],
   "source": [
    "class Vehicle:\n",
    "    '''This is a class that creates a vehicle with maker, model and year'''\n",
    "\n",
    "    # Class attributes block\n",
    "    version = '2.0'\n",
    "\n",
    "\n",
    "    def __init__(self, maker: str, model: str, year: int):\n",
    "        '''Initializer of Vehicle class'''\n",
    "        self.maker = maker\n",
    "        self.model = model\n",
    "        self.year = year\n",
    "        self.odometer = 0\n",
    "\n",
    "    \n",
    "    # 1. Access class attributes ================\n",
    "    @classmethod\n",
    "    def class_attributes(cls):\n",
    "        return cls.version\n",
    "    \n",
    "    \n",
    "    # 2. Alternate init =========================\n",
    "    # Instead of passing keyword arguments, pass a string\n",
    "    @classmethod\n",
    "    def alternate_init(cls, vehicle_parameters:str):\n",
    "        maker, model, year = vehicle_parameters.split(', ')\n",
    "        return cls(maker, model, year)   # Always return cls with arguments as in init\n",
    "    \n",
    "\n",
    "    # 3. Define object with very specific attributes ==========================\n",
    "    @classmethod\n",
    "    def f_150(cls):\n",
    "        return cls('Ford', 'F-150', 2024)\n",
    "\n",
    "    \n",
    "    # 4. Change class attributes =========================\n",
    "    @classmethod\n",
    "    def change_class_attribute(cls, new_version: int ):\n",
    "        cls.version = str(new_version)\n",
    "\n",
    "car = Vehicle(maker='Toyota', model='Corolla', year=2024)\n",
    "\n",
    "# 1. Access class attributes\n",
    "print(Vehicle.class_attributes())\n",
    "\n",
    "# 2. Alternate init\n",
    "another_car = Vehicle.alternate_init('Toyota, Camry, 2008')\n",
    "\n",
    "# 3. Define object with very specific attributes\n",
    "f_150 = Vehicle.f_150()\n",
    "\n",
    "# 4. Change class attributes\n",
    "Vehicle.change_class_attribute(2.5)\n",
    "\n",
    "print(Vehicle.class_attributes())"
   ]
  },
  {
   "cell_type": "markdown",
   "metadata": {},
   "source": [
    "## Other dunder methods..."
   ]
  },
  {
   "cell_type": "code",
   "execution_count": 21,
   "metadata": {},
   "outputs": [
    {
     "name": "stdout",
     "output_type": "stream",
     "text": [
      "Maker: Toyota, Model: Corolla, Year: 2020\n",
      "Model: Corolla\n",
      "4\n",
      "2020\n",
      "Toyota\n",
      "Corolla\n",
      "2020\n",
      "Toyota\n",
      "Corolla\n",
      "2020\n"
     ]
    }
   ],
   "source": [
    "import time\n",
    "\n",
    "class Vehicle:\n",
    "    '''This is a class that creates a vehicle with maker, model and year'''\n",
    "\n",
    "    # Class attributes block\n",
    "    version = '2.0'\n",
    "\n",
    "\n",
    "    def __init__(self, maker: str, model: str, year: int):\n",
    "        '''Initializer of Vehicle class'''\n",
    "        self.maker = maker\n",
    "        self.model = model\n",
    "        self.year = year\n",
    "        self.odometer = 0\n",
    "\n",
    "    \n",
    "    # __str__: used to define a custom string representation of an object. \n",
    "    # When you call the str() function or use print() on an object, Python internally \n",
    "    # calls the object's __str__ method to obtain the string representation of that object.\n",
    "    def __str__(self):\n",
    "        return f'Maker: {self.maker}, Model: {self.model}, Year: {self.year}'\n",
    "    \n",
    "\n",
    "    # __repr__: provides an unambiguous string representation of an object, \n",
    "    # primarily for debugging and development purposes. The main difference between __str__ and\n",
    "    #  __repr__ is that __str__ is intended to provide a readable string representation for end-users, \n",
    "    # while __repr__ is intended to provide an unambiguous representation for developers.\n",
    "    def __repr__(self) -> str:\n",
    "        return f'Model: {self.model}'\n",
    "    \n",
    "\n",
    "    # __len__: gets the length (whatever you may define as length). For this case, let's assume\n",
    "    # the length is how old the car is\n",
    "    def __len__(self):\n",
    "        return time.localtime()[0] - self.year\n",
    "    \n",
    "\n",
    "    # __getitem__: used to enable the indexing and slicing of objects using square brackets ([]).\n",
    "    # # This also implements __iter__\n",
    "    def __getitem__(self, key):\n",
    "        if key == 0:\n",
    "            return self.maker\n",
    "        elif key == 1:\n",
    "            return self.model\n",
    "        elif key == 2:\n",
    "            return self.year\n",
    "        else:\n",
    "            raise IndexError\n",
    "\n",
    "car = Vehicle(maker='Toyota', model='Corolla', year=2020)\n",
    "\n",
    "# Use of __str__ method\n",
    "print(car)\n",
    "\n",
    "# Use of __repr__\n",
    "print(repr(car))\n",
    "\n",
    "# Use of __len__\n",
    "print(len(car))\n",
    "\n",
    "# Use of __getitem__\n",
    "print(car[2])\n",
    "\n",
    "# When __getitem__ is used, it enables __iter__\n",
    "for _ in car:\n",
    "    print(_)\n",
    "\n",
    "car_iterator = iter(car)\n",
    "print(next(car_iterator))\n",
    "print(next(car_iterator))\n",
    "print(next(car_iterator))"
   ]
  },
  {
   "cell_type": "markdown",
   "metadata": {},
   "source": [
    "## Duck Typing\n",
    "\n",
    "Duck typing is a concept related to dynamic typing, where the type or the class of an object is less important than the methods it defines. When you use duck typing, you do not check types at all. Instead, you check for the presence of a given method or attribute."
   ]
  },
  {
   "cell_type": "code",
   "execution_count": 27,
   "metadata": {},
   "outputs": [
    {
     "name": "stdout",
     "output_type": "stream",
     "text": [
      "Traveling by car\n",
      "Traveling by electric car\n",
      "Traveling by boat\n",
      "Traveling by boat\n",
      "10\n",
      "10\n"
     ]
    }
   ],
   "source": [
    "class Vehicle:\n",
    "\n",
    "    def travel(self):\n",
    "        pass\n",
    "\n",
    "\n",
    "class Car(Vehicle):\n",
    "\n",
    "    def travel(self):\n",
    "        print('Traveling by car')\n",
    "\n",
    "\n",
    "class ElectricCar(Vehicle):\n",
    "\n",
    "    def travel(self):\n",
    "        print('Traveling by electric car')\n",
    "\n",
    "\n",
    "class Boat:\n",
    "\n",
    "    def travel(self):\n",
    "        print('Traveling by boat')\n",
    "\n",
    "\n",
    "    def get_miles(self):\n",
    "        return 10\n",
    "\n",
    "\n",
    "class Airplane(Boat):\n",
    "    pass\n",
    "    # def travel(self):\n",
    "    #     print('Traveling by airplane')\n",
    "\n",
    "\n",
    "vehicle = Vehicle()\n",
    "car = Car()\n",
    "electric_car = ElectricCar()\n",
    "boat = Boat()\n",
    "airplane = Airplane()\n",
    "\n",
    "# Travel method for each class\n",
    "vehicle.travel()\n",
    "car.travel()\n",
    "electric_car.travel()\n",
    "boat.travel()\n",
    "airplane.travel()  # This is duck typing\n",
    "\n",
    "# Get miles from Boat\n",
    "print(boat.get_miles())\n",
    "\n",
    "# get miles for Airplane (child class of boat)\n",
    "print(airplane.get_miles())"
   ]
  },
  {
   "cell_type": "code",
   "execution_count": null,
   "metadata": {},
   "outputs": [],
   "source": []
  }
 ],
 "metadata": {
  "kernelspec": {
   "display_name": "jcrosas-Python_meetings",
   "language": "python",
   "name": "python3"
  },
  "language_info": {
   "codemirror_mode": {
    "name": "ipython",
    "version": 3
   },
   "file_extension": ".py",
   "mimetype": "text/x-python",
   "name": "python",
   "nbconvert_exporter": "python",
   "pygments_lexer": "ipython3",
   "version": "3.9.18"
  }
 },
 "nbformat": 4,
 "nbformat_minor": 2
}

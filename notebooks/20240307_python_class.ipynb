{
 "cells": [
  {
   "cell_type": "markdown",
   "metadata": {},
   "source": [
    "## More on OOP...\n",
    "\n",
    "Below, both classes work, but Poimt_alt does not have (x,y) in its new method"
   ]
  },
  {
   "cell_type": "code",
   "execution_count": 39,
   "metadata": {},
   "outputs": [],
   "source": [
    "class Point(tuple):\n",
    "\n",
    "    def __new__(cls, *args, **kwargs):\n",
    "        x, y = args\n",
    "        if x < 0 or y < 0:\n",
    "            raise ValueError('x and y must be positive')\n",
    "        return super().__new__(cls, (x,y))  # With (x,y) in the arguments\n",
    "    \n",
    "\n",
    "    def __init__(self, x: int, y:int):\n",
    "        self.x = x\n",
    "        self.y = y\n",
    "\n",
    "\n",
    "    def distance(self):\n",
    "        return abs(self.x - self.y)\n",
    "\n",
    "\n",
    "class Point_alt(tuple):\n",
    "\n",
    "    def __new__(cls, *args, **kwargs):\n",
    "        x, y = args\n",
    "        if x < 0 or y < 0:\n",
    "            raise ValueError('x and y must be positive')\n",
    "        return super().__new__(cls)  # Without (x,y) in the arguments\n",
    "    \n",
    "\n",
    "    def __init__(self, x: int, y:int):\n",
    "        self.x = x\n",
    "        self.y = y\n",
    "\n",
    "\n",
    "    def distance(self):\n",
    "        return abs(self.x - self.y)"
   ]
  },
  {
   "cell_type": "markdown",
   "metadata": {},
   "source": [
    "***QUESTION:*** do we need the (x,y) in the arguments?"
   ]
  },
  {
   "cell_type": "code",
   "execution_count": 45,
   "metadata": {},
   "outputs": [
    {
     "name": "stdout",
     "output_type": "stream",
     "text": [
      "x and y must be positive\n",
      "The attributes of point_1 are point_1.x=1 and point_1.y=8\n",
      "The attributes of point_1_alt are point_1_alt.x=1 and point_1_alt.y=8\n",
      "7\n",
      "7\n",
      "(1, 8)\n",
      "()\n"
     ]
    }
   ],
   "source": [
    "point_1 = Point(1,8)\n",
    "point_1_alt = Point_alt(1,8)\n",
    "\n",
    "# For both classes only positive numbers are allowed\n",
    "try:\n",
    "    point_1 = Point(-1,2)\n",
    "    point_1_alt = Point_alt(-1,2)\n",
    "except ValueError:\n",
    "    print('x and y must be positive')\n",
    "\n",
    "# For both classes the attributes can be called\n",
    "print(f'The attributes of point_1 are point_1.x={point_1.x} and point_1.y={point_1.y}')\n",
    "print(f'The attributes of point_1_alt are point_1_alt.x={point_1_alt.x} and point_1_alt.y={point_1_alt.y}')\n",
    "\n",
    "# For both clases instance methods can be called\n",
    "print(point_1.distance())\n",
    "print(point_1_alt.distance())\n",
    "\n",
    "# Now print the object itself\n",
    "print(point_1)\n",
    "print(point_1_alt)"
   ]
  },
  {
   "cell_type": "markdown",
   "metadata": {},
   "source": [
    "## Instance, Static and Class methods\n",
    "\n",
    "* ***Instance methods:*** \n",
    "    \n",
    "    Takes `self` as argument, though it can also take other arguments. Through the self parameter, instance methods can freely access attributes and other methods on the same object\n",
    "\n",
    "* ***Class methods:***\n",
    "\n",
    "    They have the decorator `@classmethod` above. Instead of accepting a `self` parameter, class methods take a `cls` parameter that points to the class—and not the object instance—when the method is called. Because the class method only has access to this cls argument, it can’t modify object instance state. That would require access to self. However, class methods can still modify class state that applies across all instances of the class.\n",
    "\n",
    "* ***Static methods:***\n",
    "\n",
    "    They have the decorator `@staticmethod` above. This type of method takes neither a `self` nor a `cls` parameter "
   ]
  },
  {
   "cell_type": "code",
   "execution_count": 4,
   "metadata": {},
   "outputs": [],
   "source": [
    "class MyClass:\n",
    "    def method(self):\n",
    "        return 'instance method called', self\n",
    "\n",
    "    @classmethod\n",
    "    def classmethod(cls):\n",
    "        return 'class method called', cls\n",
    "\n",
    "    @staticmethod\n",
    "    def staticmethod():\n",
    "        return 'static method called'\n"
   ]
  },
  {
   "cell_type": "markdown",
   "metadata": {},
   "source": [
    "##### Instance Methods"
   ]
  },
  {
   "cell_type": "code",
   "execution_count": 7,
   "metadata": {},
   "outputs": [
    {
     "name": "stdout",
     "output_type": "stream",
     "text": [
      "('instance method called', <__main__.MyClass object at 0x7fb8222876d0>)\n",
      "('instance method called', <__main__.MyClass object at 0x7fb8222876d0>)\n"
     ]
    }
   ],
   "source": [
    "obj = MyClass()\n",
    "\n",
    "print(obj.method())  # When the method is called, Python replaces the self argument with the instance object, obj\n",
    "\n",
    "print(MyClass.method(obj))  # We could ignore the syntactic sugar of the dot-call syntax (obj.method()) and pass the instance object manually to get the same result"
   ]
  },
  {
   "cell_type": "markdown",
   "metadata": {},
   "source": [
    "##### Class Methods"
   ]
  },
  {
   "cell_type": "code",
   "execution_count": 13,
   "metadata": {},
   "outputs": [
    {
     "name": "stdout",
     "output_type": "stream",
     "text": [
      "('class method called', <class '__main__.MyClass'>)\n",
      "('class method called', <class '__main__.MyClass'>)\n"
     ]
    }
   ],
   "source": [
    "obj = MyClass()\n",
    "\n",
    "print(obj.classmethod())\n",
    "\n",
    "print(MyClass.classmethod())"
   ]
  },
  {
   "cell_type": "markdown",
   "metadata": {},
   "source": [
    "`classmethod()`doesn’t have access to the `<MyClass instance>` object, but only to the `<class MyClass>` object, representing the class itself (everything in Python is an object, even classes themselves)."
   ]
  },
  {
   "cell_type": "markdown",
   "metadata": {},
   "source": [
    "##### Static Methods"
   ]
  },
  {
   "cell_type": "code",
   "execution_count": 9,
   "metadata": {},
   "outputs": [
    {
     "name": "stdout",
     "output_type": "stream",
     "text": [
      "static method called\n"
     ]
    }
   ],
   "source": [
    "obj = MyClass()\n",
    "\n",
    "print(obj.staticmethod())"
   ]
  },
  {
   "cell_type": "markdown",
   "metadata": {},
   "source": [
    "##### What happens when we attempt to call these methods on the class itself - without creating an object instance beforehand?"
   ]
  },
  {
   "cell_type": "code",
   "execution_count": 19,
   "metadata": {},
   "outputs": [
    {
     "name": "stdout",
     "output_type": "stream",
     "text": [
      "('class method called', <class '__main__.MyClass'>)\n",
      "static method called\n",
      "TypeError: method() missing 1 required positional argument: \"self\"\n"
     ]
    }
   ],
   "source": [
    "print(MyClass.classmethod())\n",
    "\n",
    "print(MyClass.staticmethod())\n",
    "\n",
    "try:\n",
    "    MyClass.method()\n",
    "except TypeError:\n",
    "    print('TypeError: method() missing 1 required positional argument: \"self\"')"
   ]
  },
  {
   "cell_type": "markdown",
   "metadata": {},
   "source": [
    "***NOTE***: need to create an instance of an object to call instance methods!"
   ]
  },
  {
   "cell_type": "code",
   "execution_count": 20,
   "metadata": {},
   "outputs": [
    {
     "name": "stdout",
     "output_type": "stream",
     "text": [
      "Pizza(['cheese', 'tomatoes'])\n"
     ]
    }
   ],
   "source": [
    "class Pizza:\n",
    "    def __init__(self, ingredients):\n",
    "        self.ingredients = ingredients\n",
    "\n",
    "    def __repr__(self):\n",
    "        return f'Pizza({self.ingredients!r})'\n",
    "\n",
    "\n",
    "my_pizza = Pizza(['cheese', 'tomatoes'])\n",
    "print(my_pizza)"
   ]
  },
  {
   "cell_type": "code",
   "execution_count": 21,
   "metadata": {},
   "outputs": [],
   "source": [
    "class Pizza:\n",
    "    def __init__(self, ingredients):\n",
    "        self.ingredients = ingredients\n",
    "\n",
    "    def __repr__(self):\n",
    "        return f'Pizza({self.ingredients!r})'\n",
    "\n",
    "    @classmethod   # Class method for margherita\n",
    "    def margherita(cls):\n",
    "        return cls(['mozzarella', 'tomatoes'])\n",
    "\n",
    "    @classmethod  # Class method for prosciutto\n",
    "    def prosciutto(cls):\n",
    "        return cls(['mozzarella', 'tomatoes', 'ham'])\n"
   ]
  },
  {
   "cell_type": "code",
   "execution_count": 22,
   "metadata": {},
   "outputs": [
    {
     "name": "stdout",
     "output_type": "stream",
     "text": [
      "Pizza(['mozzarella', 'tomatoes'])\n",
      "Pizza(['mozzarella', 'tomatoes', 'ham'])\n"
     ]
    }
   ],
   "source": [
    "print(Pizza.margherita())\n",
    "print(Pizza.prosciutto())"
   ]
  },
  {
   "cell_type": "markdown",
   "metadata": {},
   "source": [
    "## When to use Static Methods"
   ]
  },
  {
   "cell_type": "code",
   "execution_count": 23,
   "metadata": {},
   "outputs": [],
   "source": [
    "import math\n",
    "\n",
    "class Pizza:\n",
    "    def __init__(self, radius, ingredients):\n",
    "        self.radius = radius\n",
    "        self.ingredients = ingredients\n",
    "\n",
    "    def __repr__(self):\n",
    "        return (f'Pizza({self.radius!r}, '\n",
    "                f'{self.ingredients!r})')\n",
    "\n",
    "    def area(self):\n",
    "        return self.circle_area(self.radius)\n",
    "\n",
    "    @staticmethod\n",
    "    def circle_area(r):\n",
    "        return r ** 2 * math.pi"
   ]
  },
  {
   "cell_type": "code",
   "execution_count": 27,
   "metadata": {},
   "outputs": [
    {
     "name": "stdout",
     "output_type": "stream",
     "text": [
      "Pizza(4, ['mozzarella', 'tomatoes'])\n",
      "50.26548245743669\n",
      "50.26548245743669\n"
     ]
    }
   ],
   "source": [
    "my_pizza = Pizza(4, ['mozzarella', 'tomatoes'])\n",
    "print(my_pizza)\n",
    "\n",
    "print(my_pizza.area())\n",
    "\n",
    "print(my_pizza.circle_area(4))"
   ]
  },
  {
   "cell_type": "markdown",
   "metadata": {},
   "source": [
    "***Static methods can’t access class or instance state because they don’t take a cls or self argument. That’s a big limitation — but it’s also a great signal to show that a particular method is independent from everything else around it.***\n",
    "\n",
    "***Static methods in Python are used when a method is related to a class, but it doesn't require access to the instance itself (no access to instance attributes or instance methods) or class-level variables. They are essentially utility functions that are associated with a class for organizational purposes but don't directly interact with instance or class data***"
   ]
  },
  {
   "cell_type": "code",
   "execution_count": null,
   "metadata": {},
   "outputs": [],
   "source": []
  }
 ],
 "metadata": {
  "kernelspec": {
   "display_name": "jcrosas-Python_meetings",
   "language": "python",
   "name": "python3"
  },
  "language_info": {
   "codemirror_mode": {
    "name": "ipython",
    "version": 3
   },
   "file_extension": ".py",
   "mimetype": "text/x-python",
   "name": "python",
   "nbconvert_exporter": "python",
   "pygments_lexer": "ipython3",
   "version": "3.9.18"
  }
 },
 "nbformat": 4,
 "nbformat_minor": 2
}

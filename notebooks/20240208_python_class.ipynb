{
 "cells": [
  {
   "cell_type": "markdown",
   "metadata": {},
   "source": [
    "## Can lists be \"bigger than\", \"less than\", etc?"
   ]
  },
  {
   "cell_type": "code",
   "execution_count": 3,
   "metadata": {},
   "outputs": [
    {
     "name": "stdout",
     "output_type": "stream",
     "text": [
      "True\n",
      "False\n"
     ]
    }
   ],
   "source": [
    "list1 = [9]\n",
    "list2 = [1, 'b', 'c']\n",
    "\n",
    "print(list1 > list2)  #  True\n",
    "print(list2 > list1)  #  False"
   ]
  },
  {
   "cell_type": "markdown",
   "metadata": {},
   "source": [
    "Why is former expression \"True\"?....\n",
    "In Python, when you compare two lists using the greater than (>) or less than (<) operators, it compares them lexicographically based on their elements. The rest of the elements in the lists are not considered in this comparison because the comparison stops as soon as a definitive result can be determined based on the first elements of the lists.\n",
    "\n",
    "* list1[0] > list2[0] (i.e 9 > 1), then it prints True\n",
    "* list2[0] > list1[0] (i.e 1 > 9), then it prints False\n",
    "\n",
    "When comparing elements lexicographically in Python:\n",
    "\n",
    "* Numeric types (like integers and floats) are compared first, in numerical order.\n",
    "* If two elements are both numeric, they are compared based on their numerical values.\n",
    "* If one element is numeric and the other is not, the numeric element is considered \"less\" than the non-numeric element."
   ]
  },
  {
   "cell_type": "code",
   "execution_count": 16,
   "metadata": {},
   "outputs": [
    {
     "name": "stdout",
     "output_type": "stream",
     "text": [
      "[9] > [8.0, 'b', 'c'] ----> True\n",
      "['a'] > ['b', 'c'] ----> False\n",
      "['a'] < ['b', 'c'] ----> True\n",
      "['1'] < ['b', 'c'] ----> True\n",
      "['a'] > ['boat', 'c'] ----> False\n"
     ]
    }
   ],
   "source": [
    "list1 = [9]\n",
    "list2 = ['b', 'c']\n",
    "\n",
    "#print(list1 > list2)  # Error because > or < not supported between instances of 'int' and 'str'\n",
    "\n",
    "list1 = [9]\n",
    "list2 = [8.0, 'b', 'c']\n",
    "\n",
    "print(f'{list1} > {list2} ---->', list1 > list2)  # True because you can compare between int and float\n",
    "\n",
    "list1 = ['a']\n",
    "list2 = ['b', 'c']\n",
    "\n",
    "print(f'{list1} > {list2} ---->', list1 > list2) # False because 'a' comes first than 'b' (lexicographical order)\n",
    "print(f'{list1} < {list2} ---->', list1 < list2) # True because 'a' comes first than 'b' (lexicographical order)\n",
    "\n",
    "list1 = ['1']\n",
    "list2 = ['b', 'c']\n",
    "print(f'{list1} < {list2} ---->', list1 < list2) # True because '1' comes first than 'b' (lexicographical order)\n",
    "\n",
    "list1 = ['a']\n",
    "list2 = ['boat', 'c']\n",
    "print(f'{list1} > {list2} ---->', list1 > list2) # False because 'a' comes first than 'b', doesnt matter if string is longer "
   ]
  },
  {
   "cell_type": "markdown",
   "metadata": {},
   "source": [
    "## Dictionaries\n",
    "\n",
    "A dictionary is a built-in data type that is used to store collections of data in key-value pairs. It is also known as an associative array or a hash map in other programming languages.\n",
    "\n",
    "Characteristics of dictionaries in Python:\n",
    "\n",
    "* Key-Value Pairs: Each element in a dictionary is stored as a pair of key and value. The key is used to access its corresponding value quickly.\n",
    "\n",
    "* Mutable: Dictionaries are mutable, meaning you can add, remove, or modify key-value pairs after the dictionary is created.\n",
    "\n",
    "* Unordered: Prior to Python 3.7, dictionaries were unordered collections, meaning the order of elements was not guaranteed. However, starting from Python 3.7, dictionaries maintain the insertion order of their elements.\n",
    "\n",
    "* Unique Keys: Keys in a dictionary must be unique. If you try to insert a duplicate key, the old value associated with that key is overwritten.\n",
    "\n",
    "* Heterogeneous Data: The keys and values in a dictionary can be of any data type, and they can be heterogeneous (i.e., of different data types)."
   ]
  },
  {
   "cell_type": "code",
   "execution_count": 30,
   "metadata": {},
   "outputs": [
    {
     "name": "stdout",
     "output_type": "stream",
     "text": [
      "<class 'dict'>\n",
      "{'a': 1, 'b': 2} \n",
      "\n",
      "<class 'dict'>\n",
      "{'a': 1, 'b': 2}\n"
     ]
    }
   ],
   "source": [
    "# To initialize an empty dict\n",
    "dict1 = {}\n",
    "print(type(dict1))\n",
    "# To add elements to an empty dict\n",
    "dict1['a'] = 1\n",
    "dict1['b'] = 2\n",
    "print(dict1,'\\n')\n",
    "\n",
    "# # To initialize a non-empty dict\n",
    "dict2 = {'a': 1, 'b': 2}\n",
    "print(type(dict2))\n",
    "print(dict2)"
   ]
  },
  {
   "cell_type": "markdown",
   "metadata": {},
   "source": [
    "## Can dictionaries be \"==\", \"bigger than\", \"less than\", etc?"
   ]
  },
  {
   "cell_type": "code",
   "execution_count": null,
   "metadata": {},
   "outputs": [
    {
     "name": "stdout",
     "output_type": "stream",
     "text": [
      "Test '==' in dictionaries..............\n",
      "\n",
      "{'a': 1, 'b': 2} == {'a': 1, 'b': 2} --->  True\n",
      "{'a': 1, 'b': 2} == {'b': 2, 'a': 1} --->  True\n",
      "{'a': 2, 'b': 2} == {'b': 2, 'a': 1} --->  False\n",
      "{'a': 1, 'b': 2} == {'b': 2, 'c': 1} --->  False\n"
     ]
    }
   ],
   "source": [
    "print(\"Test '==' in dictionaries..............\\n\")\n",
    "\n",
    "dict1 = {'a': 1, 'b': 2}\n",
    "dict2 = {'a': 1, 'b': 2}\n",
    "print(f'{dict1} == {dict2} ---> ', dict1 == dict2)  # Both dicts in previous cell have same key-value pairs, so True\n",
    "\n",
    "dict1 = {'a': 1, 'b': 2}\n",
    "dict2 = {'b': 2, 'a': 1}\n",
    "print(f'{dict1} == {dict2} ---> ', dict1 == dict2)  # Order does not matter as long as both dicts have same key-value pairs, so True\n",
    "\n",
    "dict1 = {'a': 2, 'b': 2}\n",
    "dict2 = {'b': 2, 'a': 1}\n",
    "print(f'{dict1} == {dict2} ---> ', dict1 == dict2)  # Same key but different values, so False\n",
    "\n",
    "dict1 = {'a': 1, 'b': 2}\n",
    "dict2 = {'b': 2, 'c': 1}\n",
    "print(f'{dict1} == {dict2} ---> ', dict1 == dict2)  # Different keys, so False"
   ]
  },
  {
   "cell_type": "markdown",
   "metadata": {},
   "source": [
    "Operator '==' can be applied to dicts. They will give you True if both dicts have same key-value pairs, regardless of the order. Otherwise, It will give you False."
   ]
  },
  {
   "cell_type": "code",
   "execution_count": 53,
   "metadata": {},
   "outputs": [
    {
     "name": "stdout",
     "output_type": "stream",
     "text": [
      "'>' and '<'not supported between instances of 'dict' and 'dict'\n"
     ]
    }
   ],
   "source": [
    "dict1 = {'a': 1, 'b': 2}\n",
    "dict2 = {'a': 1, 'b': 3}\n",
    "try:\n",
    "    print(f'{dict1} > {dict2} ---> ', dict1 > dict2)\n",
    "    print(f'{dict1} < {dict2} ---> ', dict1 < dict2)\n",
    "except TypeError:\n",
    "    print(\"'>' and '<'not supported between instances of 'dict' and 'dict'\")"
   ]
  },
  {
   "cell_type": "markdown",
   "metadata": {},
   "source": [
    "You can also do:\n",
    "\n",
    "* dict1 != dict2 ----> To check if they are unequal\n",
    "* dict1 <= dict2 ----> To check if dict1 is subset of dict2\n",
    "* dict1 >= dict2 ----> To check if dict1 is superset of dict2"
   ]
  },
  {
   "cell_type": "code",
   "execution_count": 41,
   "metadata": {},
   "outputs": [
    {
     "name": "stdout",
     "output_type": "stream",
     "text": [
      "{'a': 1, 'b': 2} == {'b': 2, 'a': 1, 'c': 3} --->  False\n",
      "{'a': 1, 'b': 2} != {'b': 2, 'a': 1, 'c': 3} --->  True\n",
      "{'a': 1, 'b': 2} <= {'b': 2, 'a': 1, 'c': 3} --->  True\n",
      "{'a': 1, 'b': 2} >= {'b': 2, 'a': 1, 'c': 3} --->  False\n"
     ]
    }
   ],
   "source": [
    "dict1 = {'a': 1, 'b': 2}\n",
    "dict2 = {'b': 2, 'a': 1, 'c':3}\n",
    "\n",
    "# Comparing dictionaries for equality\n",
    "print(f'{dict1} == {dict2} ---> ',dict1 == dict2)  # False\n",
    "\n",
    "# Comparing dictionaries for inequality\n",
    "print(f'{dict1} != {dict2} ---> ',dict1 != dict2)  # True because dicts are not equal\n",
    "\n",
    "# Checking if one dictionary is a subset of another\n",
    "print(f'{dict1} <= {dict2} ---> ', dict1.items() <= dict2.items())  # True because dict1 is a subset of dict1 (i.e. dict1 is contained in dict2)\n",
    "\n",
    "# Checking if one dictionary is a superset of another\n",
    "print(f'{dict1} >= {dict2} ---> ', dict1.items() >= dict2.items())  # False because dict1 does not conatin all kaey values of dict1 (i.e dict1 is not a superset of dict2)"
   ]
  },
  {
   "cell_type": "markdown",
   "metadata": {},
   "source": [
    "## Hash function:\n",
    "A hash function is a function with two properties\n",
    "1. Given the same input it always returns the same output\n",
    "2. Different input may result in same output\n",
    "\n",
    "Something is hashable if it has a hashing function\n",
    "\n",
    "The `hash()` function takes an object as its argument and returns its <u>***hash value***</u> if the object is hashable. An object is <u>***hashable***</u> if it is immutable (its value does not change during its lifetime) and if it implements the __hash__() method that returns an integer."
   ]
  },
  {
   "cell_type": "code",
   "execution_count": 51,
   "metadata": {},
   "outputs": [
    {
     "name": "stdout",
     "output_type": "stream",
     "text": [
      "2\n",
      "691752902764107778\n",
      "-2399762517635401265\n",
      "529344067295497451\n",
      "Lists are not hashable because they are mutable\n",
      "Dictionaries are not hashable because they are mutable\n",
      "Sets are not hashable because they are mutable\n"
     ]
    }
   ],
   "source": [
    "print(hash(2))  # Test for ints\n",
    "\n",
    "print(hash(2.3))  # Test for floats\n",
    "\n",
    "print(hash('hello'))  # Test for strings\n",
    "\n",
    "print(hash((1,2,3)))  # Test for tuples\n",
    "\n",
    "try:\n",
    "    print(hash([1, 2, 3]))  # Test for lists\n",
    "except TypeError as e:\n",
    "    print('Lists are not hashable because they are mutable')\n",
    "\n",
    "try:\n",
    "    print(hash({'a': 1, 'b': 2}))  # Test for dicts\n",
    "except TypeError as e:\n",
    "    print('Dictionaries are not hashable because they are mutable')\n",
    "\n",
    "try:\n",
    "    print(hash({1, 2, 3}))  # Test for sets\n",
    "except TypeError as e:\n",
    "    print('Sets are not hashable because they are mutable')"
   ]
  },
  {
   "cell_type": "markdown",
   "metadata": {},
   "source": [
    "## Sets \n",
    "\n",
    "Sets are a collection of unique hashable elements"
   ]
  },
  {
   "cell_type": "code",
   "execution_count": 55,
   "metadata": {},
   "outputs": [
    {
     "name": "stdout",
     "output_type": "stream",
     "text": [
      "{False, 1, 2, 3, 4.56, 8, 9, 'hello', (3, 2), 700}\n"
     ]
    }
   ],
   "source": [
    "x = 700\n",
    "set1 = {3,2,1,3, 8,8,9, 'hello', False, 4.56, 0, (3,2), x}  # Only has unique hashable elements\n",
    "print(set1)"
   ]
  },
  {
   "cell_type": "code",
   "execution_count": 60,
   "metadata": {},
   "outputs": [
    {
     "name": "stdout",
     "output_type": "stream",
     "text": [
      "list are unhashable, cannot be included in sets\n",
      "dicts are unhashable, cannot be included in sets\n"
     ]
    }
   ],
   "source": [
    "try:\n",
    "    set1 = {1,2,3, [1,2,3]}  # Try a set that contains lists\n",
    "except TypeError:\n",
    "    print('list are unhashable, cannot be included in sets')\n",
    "\n",
    "try:\n",
    "    set1 = {1,2,3, {'a': 2}}  # Try a set that contains dictionaries\n",
    "except TypeError:\n",
    "    print('dicts are unhashable, cannot be included in sets')"
   ]
  },
  {
   "cell_type": "code",
   "execution_count": null,
   "metadata": {},
   "outputs": [],
   "source": []
  }
 ],
 "metadata": {
  "kernelspec": {
   "display_name": "jcrosas-Python_meetings",
   "language": "python",
   "name": "python3"
  },
  "language_info": {
   "codemirror_mode": {
    "name": "ipython",
    "version": 3
   },
   "file_extension": ".py",
   "mimetype": "text/x-python",
   "name": "python",
   "nbconvert_exporter": "python",
   "pygments_lexer": "ipython3",
   "version": "3.9.18"
  }
 },
 "nbformat": 4,
 "nbformat_minor": 2
}

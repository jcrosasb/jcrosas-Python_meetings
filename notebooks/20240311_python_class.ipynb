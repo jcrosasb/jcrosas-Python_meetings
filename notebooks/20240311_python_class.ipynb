{
 "cells": [
  {
   "cell_type": "markdown",
   "metadata": {},
   "source": [
    "## Abstract Classes\n",
    "An abstract class can be considered a blueprint for other classes. It allows you to create a set of methods that must be created within any child classes built from the abstract class. \n",
    "\n",
    "***IMPORTANT:*** By default, Python does not provide abstract classes. Python comes with a module that provides the base for defining Abstract Base classes(ABC) and that module name is ABC"
   ]
  },
  {
   "cell_type": "code",
   "execution_count": 19,
   "metadata": {},
   "outputs": [],
   "source": [
    "from abc import ABC, abstractmethod\n",
    "\n",
    "\n",
    "class Vehicle(ABC):\n",
    "\n",
    "    def __init__(self, name: str) -> None:\n",
    "        self.name = name\n",
    "\n",
    "    def travel(self):\n",
    "        pass\n",
    "\n",
    "#    @abstractmethod\n",
    "    def fuel(self):\n",
    "        pass\n",
    "\n",
    "class Car(Vehicle):\n",
    "    pass\n",
    "\n",
    "try:\n",
    "    car = Car(name='Ford')\n",
    "except TypeError:\n",
    "    print(\"Can't instantiate abstract class Car with abstract method fuel\")\n"
   ]
  },
  {
   "cell_type": "markdown",
   "metadata": {},
   "source": [
    "In the example above, we declare `fuel` as an `abstractmethod`. When we do that, any subclass that inherits from Vehicle must implement the method `fuel`. We do this because:\n",
    "\n",
    "1. Abstract classes provide a blueprint or template for other classes to inherit from. They define a common interface or set of methods that must be implemented by subclasses. This allows for a consistent structure and behavior across multiple related classes......QUESTION: interface = protocol?\n",
    "\n",
    "2. Abstract classes can define abstract methods that subclasses must implement. This helps enforce a contract, ensuring that all subclasses provide specific functionality. \n",
    "\n",
    "3. Abstract classes facilitate polymorphism, allowing objects of different subclasses to be treated uniformly based on their common abstract class. This promotes flexibility and modularity in the code, as objects can be manipulated and interacted with in a consistent manner.\n",
    "\n",
    "Below I implement `fuel` in class Car"
   ]
  },
  {
   "cell_type": "code",
   "execution_count": 5,
   "metadata": {},
   "outputs": [],
   "source": [
    "from abc import ABC, abstractmethod\n",
    "\n",
    "\n",
    "class Vehicle(ABC):\n",
    "\n",
    "    def __init__(self, name: str) -> None:\n",
    "        self.name = name\n",
    "\n",
    "    def travel(self):\n",
    "        pass\n",
    "\n",
    "    @abstractmethod\n",
    "    def fuel(self):\n",
    "        print('The vehicle runs on fuel')\n",
    "\n",
    "class Car(Vehicle):\n",
    "    def fuel(self):\n",
    "        print('The car runs on fuel')\n",
    "\n",
    "\n",
    "car = Car(name='Ford')\n",
    "\n"
   ]
  },
  {
   "cell_type": "markdown",
   "metadata": {},
   "source": [
    "***QUESTION:*** What if we had a third class inheriting from Car? Would you need to define abstract methods as well?......\n",
    "\n",
    "***ANSWER:*** No, you don't need to define the abtsrcat method in the grandchild class"
   ]
  },
  {
   "cell_type": "code",
   "execution_count": 6,
   "metadata": {},
   "outputs": [],
   "source": [
    "from abc import ABC, abstractmethod\n",
    "\n",
    "\n",
    "class Vehicle(ABC):\n",
    "\n",
    "    def __init__(self, name: str) -> None:\n",
    "        self.name = name\n",
    "\n",
    "    def travel(self):\n",
    "        pass\n",
    "\n",
    "    @abstractmethod\n",
    "    def fuel(self):\n",
    "        print('The vehicle runs on fuel')\n",
    "\n",
    "class Car(Vehicle):\n",
    "    def fuel(self):\n",
    "        print('The car runs on fuel')\n",
    "\n",
    "class ElectricCar(Car):\n",
    "    pass\n",
    "\n",
    "electric_car = ElectricCar(name='Tesla')\n"
   ]
  },
  {
   "cell_type": "markdown",
   "metadata": {},
   "source": [
    "***IMPORTANT:*** you can;t instantiate an abtsract class!"
   ]
  },
  {
   "cell_type": "code",
   "execution_count": 7,
   "metadata": {},
   "outputs": [
    {
     "ename": "TypeError",
     "evalue": "Can't instantiate abstract class Vehicle with abstract method fuel",
     "output_type": "error",
     "traceback": [
      "\u001b[0;31m---------------------------------------------------------------------------\u001b[0m",
      "\u001b[0;31mTypeError\u001b[0m                                 Traceback (most recent call last)",
      "Cell \u001b[0;32mIn[7], line 1\u001b[0m\n\u001b[0;32m----> 1\u001b[0m vehicle \u001b[38;5;241m=\u001b[39m \u001b[43mVehicle\u001b[49m\u001b[43m(\u001b[49m\u001b[43mname\u001b[49m\u001b[38;5;241;43m=\u001b[39;49m\u001b[38;5;124;43m'\u001b[39;49m\u001b[38;5;124;43mToyota\u001b[39;49m\u001b[38;5;124;43m'\u001b[39;49m\u001b[43m)\u001b[49m\n",
      "\u001b[0;31mTypeError\u001b[0m: Can't instantiate abstract class Vehicle with abstract method fuel"
     ]
    }
   ],
   "source": [
    "vehicle = Vehicle(name='Toyota')"
   ]
  },
  {
   "cell_type": "markdown",
   "metadata": {},
   "source": [
    "##### CONCRETE CLASSES:\n",
    "The opposite of an abtsrcta class. They can be directly instantiated."
   ]
  },
  {
   "cell_type": "markdown",
   "metadata": {},
   "source": [
    "## The 4 Pillars of OOP in Python\n",
    "1. Abstraction\n",
    "2. Encapsulation\n",
    "3. Inheritance\n",
    "4. Polymorphism"
   ]
  },
  {
   "cell_type": "markdown",
   "metadata": {},
   "source": [
    "##### ABSTRACTION\n",
    "It involves focusing on the essential characteristics of an object or system while hiding the irrelevant details. Abstraction allows programmers to create models that represent real-world entities or systems in a simplified and manageable way."
   ]
  },
  {
   "cell_type": "markdown",
   "metadata": {},
   "source": [
    "##### ENCAPSULATION\n",
    "It refers to the bundling of data (attributes) and methods (behavior) that operate on the data into a single unit, called a class\n",
    "\n",
    "Encapsulation provides several benefits in OOP:\n",
    "\n",
    "1. Data Hiding: Encapsulation allows the internal state of an object to be hidden from the outside world. By making attributes private or protected, access to the object's data is restricted to only the methods of the class, preventing direct manipulation of the data by external code.\n",
    "\n",
    "2. Modularity: Encapsulation promotes modularity by grouping related data and methods together within a class. This makes it easier to manage and understand the behavior of the class, as all relevant components are contained within a single unit.\n",
    "\n",
    "3. Abstraction: Encapsulation facilitates abstraction by exposing only the essential attributes and methods of an object while hiding the implementation details. This allows objects to interact with each other through well-defined interfaces, without exposing the internal workings of their data structures.\n",
    "\n",
    "\n",
    "***NOTE:*** Python does not have built-in access control keywords like private, protected, and public to explicitly restrict access to class members (attributes and methods). Instead, Python uses naming conventions to indicate privacy:\n",
    "\n",
    "* Attributes or methods starting with a single underscore (_) are considered protected and should be treated as internal to the class or its subclasses.\n",
    "* Attributes or methods starting with a double underscore (__) are considered private and undergo name mangling, making them harder to access from outside the class."
   ]
  },
  {
   "cell_type": "markdown",
   "metadata": {},
   "source": [
    "##### INHERITANCE\n",
    "Allows a new class (subclass) to inherit attributes and methods from an existing class (superclass or parent class). The subclass can then extend or override the functionality of the superclass, promoting code reuse and modularity.\n",
    "\n",
    "***IMPORTANT:*** When discussing inheritance, an \"IS relationship\" refers to the relationship between the superclass and its subclasses, indicating that a subclass \"IS A\" type of its superclass."
   ]
  },
  {
   "cell_type": "markdown",
   "metadata": {},
   "source": [
    "##### POLYMORPHISM\n",
    "Allows objects of different types to be treated as objects of a common superclass, enabling code to be written in a more generic and flexible way. Polymorphism allows methods to behave differently based on the object they are called on, providing a mechanism for dynamic dispatch and runtime method resolution.\n",
    "\n",
    "1. **Compile-Time Polymorphism (Static Polymorphism):** also known as method overloading. Two or more methods have the same name but different numbers of parameters or different types of parameters, or both. These methods are called overloaded methods and this is called method overloading. The problem with method overloading in Python is that we may overload the methods but can only use the latest defined method. \n",
    "\n",
    "2. **Run-Time Polymorphism (Dynamic Polymorphism):** also known as method overriding, run-time polymorphism occurs when a method in a subclass overrides a method with the same signature (name and parameters) in its superclass. The decision about which method to call is made at runtime based on the type of the object. Run-time polymorphism allows for more flexible and dynamic behavior, as the method to be executed is determined dynamically during program execution."
   ]
  },
  {
   "cell_type": "code",
   "execution_count": 11,
   "metadata": {},
   "outputs": [
    {
     "name": "stdout",
     "output_type": "stream",
     "text": [
      "add() missing 1 required positional argument: 'c'\n",
      "9\n"
     ]
    }
   ],
   "source": [
    "# EXAMPLE OF COMPILE-TIME POLYMORPHISM: multiple methods with the same name but different \n",
    "# parameter types or numbers are defined within the same class or across different classes.\n",
    "\n",
    "class Calculator:\n",
    "    def add(self, a, b):\n",
    "        return a + b\n",
    "\n",
    "    def add(self, a, b, c):\n",
    "        return a + b + c\n",
    "    \n",
    "calc = Calculator()\n",
    "\n",
    "# Call the add method with two arguments\n",
    "try:\n",
    "    print(calc.add(2, 3))  \n",
    "except TypeError:\n",
    "    print(\"add() missing 1 required positional argument: 'c'\")\n",
    "\n",
    "# Call the add method with three arguments\n",
    "print(calc.add(2, 3, 4))"
   ]
  },
  {
   "cell_type": "code",
   "execution_count": 9,
   "metadata": {},
   "outputs": [
    {
     "name": "stdout",
     "output_type": "stream",
     "text": [
      "Woof!\n",
      "Meow!\n"
     ]
    }
   ],
   "source": [
    "# EXAMPLE OF RUN-TIME POLYMORPHISM: make_sound() in Dog and Cat \n",
    "# has same signature (name and parameters) than in Animal\n",
    "\n",
    "class Animal:\n",
    "    def make_sound(self):\n",
    "        print(\"Some generic sound\")\n",
    "\n",
    "class Dog(Animal):\n",
    "    def make_sound(self):  # Method overriding\n",
    "        print(\"Woof!\")\n",
    "\n",
    "class Cat(Animal):\n",
    "    def make_sound(self):  # Method overriding\n",
    "        print(\"Meow!\")\n",
    "\n",
    "dog = Dog()\n",
    "cat = Cat()\n",
    "\n",
    "dog.make_sound()\n",
    "cat.make_sound()"
   ]
  },
  {
   "cell_type": "code",
   "execution_count": 18,
   "metadata": {},
   "outputs": [
    {
     "name": "stdout",
     "output_type": "stream",
     "text": [
      "Car is traveling\n",
      "1\n",
      "Car is traveling\n",
      "2\n",
      "Car is traveling\n",
      "3\n",
      "Car is traveling\n",
      "4\n",
      "Car uses fuel\n",
      "Car is traveling\n",
      "5\n",
      "Car is traveling\n",
      "6\n",
      "Car uses fuel\n",
      "Car is traveling\n",
      "7\n",
      "Car uses fuel\n",
      "Car is traveling\n",
      "8\n",
      "Car is traveling\n",
      "9\n",
      "Car uses fuel\n",
      "Car is traveling\n",
      "10\n",
      "Car uses fuel\n",
      "Car is traveling\n",
      "11\n",
      "Car is traveling\n",
      "12\n",
      "Car uses fuel\n",
      "Car is traveling\n",
      "13\n",
      "Car uses fuel\n",
      "Car is traveling\n",
      "14\n",
      "Car is traveling\n",
      "15\n",
      "Car uses fuel\n",
      "Car is traveling\n",
      "16\n",
      "Car uses fuel\n",
      "Car is traveling\n",
      "17\n",
      "Car is traveling\n",
      "18\n",
      "Car uses fuel\n",
      "Car is traveling\n",
      "19\n",
      "Out of gas\n",
      "Car cannot travel\n"
     ]
    }
   ],
   "source": [
    "from abc import ABC, abstractmethod\n",
    "\n",
    "class Vehicle(ABC):\n",
    "\n",
    "    def __init__(self, name: str) -> None:\n",
    "        self.name = name\n",
    "\n",
    "    @abstractmethod\n",
    "    def travel(self):\n",
    "        pass\n",
    "\n",
    "    @abstractmethod\n",
    "    def fuel(self):\n",
    "        pass\n",
    "\n",
    "class Car(Vehicle):\n",
    "\n",
    "    gas = 10\n",
    "    odometer = 0\n",
    "\n",
    "    def fuel(self):\n",
    "        if self.gas > 0:\n",
    "            print('Car uses fuel')\n",
    "            self.gas -= 1\n",
    "            return 1\n",
    "        else:\n",
    "            print('Out of gas')\n",
    "            return 0\n",
    "        \n",
    "    def travel(self):\n",
    "        if self.fuel() > 0:\n",
    "            print('Car is traveling')\n",
    "            self.odometer += 1\n",
    "            return 1\n",
    "        else:\n",
    "            print('Car cannot travel')\n",
    "            return 0\n",
    "\n",
    "class HybridCar(Car):\n",
    "    \n",
    "    battery = 5\n",
    "\n",
    "    def fuel(self):\n",
    "        if self.battery > 1:\n",
    "            self.battery -= 1\n",
    "            return 1\n",
    "        else:\n",
    "            energy = super().fuel()\n",
    "            if energy > 0:\n",
    "                self.battery += energy * 0.5\n",
    "            return energy\n",
    "\n",
    "\n",
    "\n",
    "car = HybridCar(name='Ford')\n",
    "\n",
    "while car.travel() == 1:\n",
    "    print(car.odometer)\n",
    "\n"
   ]
  },
  {
   "cell_type": "markdown",
   "metadata": {},
   "source": [
    "## SOLID Principles\n",
    "\n",
    "1. **(S) Single Responsibility Principle:** a class should only have one responsability.\n",
    "2. **(O) Open/Closed Principle:** classes should be open for extension but closed for modification.\n",
    "3. **(L) Liskov Substitution Principle:** objects of a superclass should be replaceable with objects of its subclass without affecting the correctness of the program.\n",
    "4. **(I) Interface Segregation Principle:** create methods that are relevant \n",
    "5. **(D) Dependency and Inversion Principle:** depend more on abtract classes rather than concrete classes"
   ]
  },
  {
   "cell_type": "code",
   "execution_count": null,
   "metadata": {},
   "outputs": [],
   "source": []
  }
 ],
 "metadata": {
  "kernelspec": {
   "display_name": "jcrosas-Python_meetings",
   "language": "python",
   "name": "python3"
  },
  "language_info": {
   "codemirror_mode": {
    "name": "ipython",
    "version": 3
   },
   "file_extension": ".py",
   "mimetype": "text/x-python",
   "name": "python",
   "nbconvert_exporter": "python",
   "pygments_lexer": "ipython3",
   "version": "3.9.18"
  }
 },
 "nbformat": 4,
 "nbformat_minor": 2
}

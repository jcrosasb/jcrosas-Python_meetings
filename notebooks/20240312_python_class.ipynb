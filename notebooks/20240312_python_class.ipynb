{
 "cells": [
  {
   "cell_type": "markdown",
   "metadata": {},
   "source": [
    "## A little bit more on Polymorphism\n",
    "\n",
    "1. Every object in Python is polymorphic, except `object`\n",
    "2. Compile-time polymorphism, which I called method overloading, not really somehting Python is intended to do. You may do it, but is bad practice. ***Method overloading*** refers to having two methods with the same name but different signature\n",
    "3. ***Method overriding*** means having two methods with same signature but different implementation.\n",
    "4. Refering to the class from yesterday, a hybird car is a polymorphic object because a hybrid car is a type of car, a car is a type of vehicle, and so on...(a chain of inheritance). The method `fuel()` is run-time polymorphic because it ahs the same signature across different classes but the datisl of implementation depend on the specifi object.\n"
   ]
  },
  {
   "cell_type": "markdown",
   "metadata": {},
   "source": [
    "## Composition\n",
    "Composition is a concept that models a `has a` relationship. It enables creating complex types by combining objects of other types. This means that a class Composite can contain an object of another class Component. This relationship means that a Composite `has a` Component."
   ]
  },
  {
   "cell_type": "markdown",
   "metadata": {},
   "source": [
    "# Inheritance\n",
    "Inheritance models what is called an `is a` relationship. This means that when you have a Derived class that inherits from a Base class, you’ve created a relationship where Derived `is a` specialized version of Base.\n",
    "\n",
    "***IMPORTANT:*** Abstract base classes exist to be inherited, but never instantiated."
   ]
  },
  {
   "cell_type": "markdown",
   "metadata": {},
   "source": [
    "##### Single inheritance"
   ]
  },
  {
   "cell_type": "code",
   "execution_count": null,
   "metadata": {},
   "outputs": [],
   "source": [
    "from abc import ABC, abstractmethod\n",
    "\n",
    "class Vehicle(ABC):\n",
    "\n",
    "    def __init__(self, name: str) -> None:\n",
    "        self.name = name\n",
    "\n",
    "    @abstractmethod\n",
    "    def travel(self):\n",
    "        pass\n",
    "\n",
    "    @abstractmethod\n",
    "    def fuel(self):\n",
    "        pass\n",
    "\n",
    "class Car(Vehicle):\n",
    "\n",
    "    gas = 10\n",
    "    odometer = 0\n",
    "\n",
    "    def fuel(self):\n",
    "        if self.gas > 0:\n",
    "            print('Car uses fuel')\n",
    "            self.gas -= 1\n",
    "            return 1\n",
    "        else:\n",
    "            print('Out of gas')\n",
    "            return 0\n",
    "        \n",
    "    def travel(self):\n",
    "        if self.fuel() > 0:\n",
    "            print('Car is traveling')\n",
    "            self.odometer += 1\n",
    "            return 1\n",
    "        else:\n",
    "            print('Car cannot travel')\n",
    "            return 0\n",
    "\n",
    "class HybridCar(Car):  # Single inheritance\n",
    "    \n",
    "    battery = 5\n",
    "    efficiency = 0.5\n",
    "\n",
    "    def fuel(self):\n",
    "        if self.battery >= 1:\n",
    "            self.battery -= 1\n",
    "            if self.battery == 0 and self.efficiency > 0:\n",
    "                self.efficiency -= 0.01\n",
    "            return 1\n",
    "        else:\n",
    "            energy = super().fuel()\n",
    "            if energy > 0:\n",
    "                self.battery += energy * self.efficiency\n",
    "            return energy\n"
   ]
  },
  {
   "cell_type": "markdown",
   "metadata": {},
   "source": [
    "##### Multiple inheritance\n",
    "Multiple inheritance is the ability to derive a class from multiple base classes at the same time."
   ]
  },
  {
   "cell_type": "code",
   "execution_count": 23,
   "metadata": {},
   "outputs": [],
   "source": [
    "from abc import ABC, abstractmethod\n",
    "\n",
    "\n",
    "class House:\n",
    "\n",
    "    def __init__(self, num_rooms: int, num_bathroom: int) -> None:\n",
    "        self.num_rooms = num_rooms\n",
    "        self.num_bathrooms = num_bathroom\n",
    "\n",
    "\n",
    "class Vehicle(ABC):\n",
    "\n",
    "    def __init__(self, name: str) -> None:\n",
    "        self.name = name\n",
    "\n",
    "    @abstractmethod\n",
    "    def travel(self):\n",
    "        pass\n",
    "\n",
    "    @abstractmethod\n",
    "    def fuel(self):\n",
    "        pass\n",
    "\n",
    "class Car(Vehicle):\n",
    "\n",
    "    gas = 10\n",
    "    odometer = 0\n",
    "\n",
    "    def fuel(self):\n",
    "        if self.gas > 0:\n",
    "            print('Car uses fuel')\n",
    "            self.gas -= 1\n",
    "            return 1\n",
    "        else:\n",
    "            print('Out of gas')\n",
    "            return 0\n",
    "        \n",
    "    def travel(self):\n",
    "        if self.fuel() > 0:\n",
    "            print('Car is traveling')\n",
    "            self.odometer += 1\n",
    "            return 1\n",
    "        else:\n",
    "            print('Car cannot travel')\n",
    "            return 0\n",
    "\n",
    "class HybridCar(Car):  # Single inheritance\n",
    "    \n",
    "    battery = 5\n",
    "    efficiency = 0.5\n",
    "\n",
    "    def fuel(self):\n",
    "        if self.battery >= 1:\n",
    "            self.battery -= 1\n",
    "            if self.battery == 0 and self.efficiency > 0:\n",
    "                self.efficiency -= 0.01\n",
    "            return 1\n",
    "        else:\n",
    "            energy = super().fuel()\n",
    "            if energy > 0:\n",
    "                self.battery += energy * self.efficiency\n",
    "            return energy\n",
    "\n",
    "class HybridRV(HybridCar, House):  # Multiple inheritance\n",
    "    \n",
    "    efficiency = 0.2\n",
    "\n",
    "    def __init__(self, name: str, num_rooms: int) -> None:\n",
    "        super().__init__(name)\n",
    "        House.__init__(self, num_rooms, num_bathroom=1)"
   ]
  },
  {
   "cell_type": "markdown",
   "metadata": {},
   "source": [
    "In the example above, `HybridRV` inherits from `HybridCar` and `House`. The syntax is:\n",
    "\n",
    "```\n",
    "class HybridRV(HybridCar, House)\n",
    "```\n",
    "\n",
    "The class `HybridRV` will recognize `HybridCar` first (it will recognize it as the super class), so it will attempt to use its `__init__`. We can call it like this:\n",
    "\n",
    "`super().__init__(name)`\n",
    "\n",
    "We need to ***manually*** extend the `init` method in `HybridRV` to incorporate the attributes of `House`. We do this by directly calling `House.__init__`:\n",
    "\n",
    "`House.__init__(self, num_rooms, num_bathroom=1)`\n",
    "\n",
    "where we have set the number of bathrooms to 1 by default"
   ]
  },
  {
   "cell_type": "code",
   "execution_count": 24,
   "metadata": {},
   "outputs": [],
   "source": [
    "# Test HybridRV\n",
    "hybrid_RV = HybridRV(name='Tesla', num_rooms=2) "
   ]
  },
  {
   "cell_type": "markdown",
   "metadata": {},
   "source": [
    "Note that `efficiency` is set to 0.5 in `HybridCar` but we change it to 0.2 in `HybridRV`"
   ]
  },
  {
   "cell_type": "code",
   "execution_count": 25,
   "metadata": {},
   "outputs": [],
   "source": [
    "# Function to run a vehicle\n",
    "def drive_vehicle(vehicle: Vehicle): \n",
    "    while vehicle.travel():\n",
    "        print(vehicle.odometer)"
   ]
  },
  {
   "cell_type": "markdown",
   "metadata": {},
   "source": [
    "We can drive the `HybridRV`"
   ]
  },
  {
   "cell_type": "code",
   "execution_count": 26,
   "metadata": {},
   "outputs": [
    {
     "name": "stdout",
     "output_type": "stream",
     "text": [
      "The efficiency of hybrid_RV is 0.2\n",
      "\n",
      "Car is traveling\n",
      "1\n",
      "Car is traveling\n",
      "2\n",
      "Car is traveling\n",
      "3\n",
      "Car is traveling\n",
      "4\n",
      "Car is traveling\n",
      "5\n",
      "Car uses fuel\n",
      "Car is traveling\n",
      "6\n",
      "Car uses fuel\n",
      "Car is traveling\n",
      "7\n",
      "Car uses fuel\n",
      "Car is traveling\n",
      "8\n",
      "Car uses fuel\n",
      "Car is traveling\n",
      "9\n",
      "Car uses fuel\n",
      "Car is traveling\n",
      "10\n",
      "Car uses fuel\n",
      "Car is traveling\n",
      "11\n",
      "Car is traveling\n",
      "12\n",
      "Car uses fuel\n",
      "Car is traveling\n",
      "13\n",
      "Car uses fuel\n",
      "Car is traveling\n",
      "14\n",
      "Car uses fuel\n",
      "Car is traveling\n",
      "15\n",
      "Car uses fuel\n",
      "Car is traveling\n",
      "16\n",
      "Out of gas\n",
      "Car cannot travel\n",
      "\n",
      "The efficiency of hybrid_RV is 0.19\n"
     ]
    }
   ],
   "source": [
    "print(f'The efficiency of hybrid_RV is {hybrid_RV.efficiency}\\n')\n",
    "\n",
    "drive_vehicle(hybrid_RV)\n",
    "\n",
    "print(f'\\nThe efficiency of hybrid_RV is {hybrid_RV.efficiency}')  # The efficiency decreases\n"
   ]
  },
  {
   "cell_type": "markdown",
   "metadata": {},
   "source": [
    "We can then change the efficiency for all `HybridRV`"
   ]
  },
  {
   "cell_type": "code",
   "execution_count": 27,
   "metadata": {},
   "outputs": [],
   "source": [
    "HybridRV.efficiency = 0.6"
   ]
  },
  {
   "cell_type": "markdown",
   "metadata": {},
   "source": [
    "If we create a new `HybridRV` it will have the new `efficiency`:"
   ]
  },
  {
   "cell_type": "code",
   "execution_count": 28,
   "metadata": {},
   "outputs": [
    {
     "name": "stdout",
     "output_type": "stream",
     "text": [
      "\n",
      "The efficiency of hybrid_RV_2 is 0.6\n"
     ]
    }
   ],
   "source": [
    "hybrid_RV_2 = HybridRV(name='Rivian', num_rooms=1)\n",
    "\n",
    "print(f'\\nThe efficiency of hybrid_RV_2 is {hybrid_RV_2.efficiency}')"
   ]
  },
  {
   "cell_type": "markdown",
   "metadata": {},
   "source": [
    "but the one for `hybrid_RV` remains unchanged because that one has already been used"
   ]
  },
  {
   "cell_type": "code",
   "execution_count": 29,
   "metadata": {},
   "outputs": [
    {
     "name": "stdout",
     "output_type": "stream",
     "text": [
      "The efficiency of hybrid_RV is 0.19\n",
      "\n"
     ]
    }
   ],
   "source": [
    "print(f'The efficiency of hybrid_RV is {hybrid_RV.efficiency}\\n')"
   ]
  },
  {
   "cell_type": "code",
   "execution_count": null,
   "metadata": {},
   "outputs": [],
   "source": []
  }
 ],
 "metadata": {
  "kernelspec": {
   "display_name": "jcrosas-Python_meetings",
   "language": "python",
   "name": "python3"
  },
  "language_info": {
   "codemirror_mode": {
    "name": "ipython",
    "version": 3
   },
   "file_extension": ".py",
   "mimetype": "text/x-python",
   "name": "python",
   "nbconvert_exporter": "python",
   "pygments_lexer": "ipython3",
   "version": "3.9.18"
  }
 },
 "nbformat": 4,
 "nbformat_minor": 2
}

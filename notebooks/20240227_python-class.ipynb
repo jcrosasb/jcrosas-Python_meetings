{
 "cells": [
  {
   "cell_type": "markdown",
   "metadata": {},
   "source": [
    "## A bit more on dict comprehensions..."
   ]
  },
  {
   "cell_type": "code",
   "execution_count": 81,
   "metadata": {},
   "outputs": [
    {
     "name": "stdout",
     "output_type": "stream",
     "text": [
      "4200\n",
      "{'Phone': 4200, 'Tablet': 1500, 'Laptop': 2200}\n"
     ]
    }
   ],
   "source": [
    "sales_data = [{'product': 'Laptop', 'sales': 1000},\n",
    "              {'product': 'Phone', 'sales': 2000},\n",
    "              {'product': 'Tablet', 'sales': 1500},\n",
    "              {'product': 'Laptop', 'sales': 1200},\n",
    "              {'product': 'Phone', 'sales': 2200}]\n",
    "\n",
    "total_phone_sales = sum([item['sales'] for item in sales_data if item['product'] == 'Phone'])\n",
    "\n",
    "print(total_phone_sales)\n",
    "\n",
    "unique_products = set(item['product'] for item in sales_data)\n",
    "total_sales_by_product = {product:sum(item['sales'] for item in sales_data if item['product'] == product) for product in unique_products}\n",
    "\n",
    "print(total_sales_by_product)"
   ]
  },
  {
   "cell_type": "markdown",
   "metadata": {},
   "source": [
    "another way to do it..."
   ]
  },
  {
   "cell_type": "code",
   "execution_count": 19,
   "metadata": {},
   "outputs": [
    {
     "name": "stdout",
     "output_type": "stream",
     "text": [
      "{'Laptop': 2200, 'Phone': 4200, 'Tablet': 1500}\n"
     ]
    }
   ],
   "source": [
    "\n",
    "\n",
    "total_sales_by_product = {data['product']:sum(item['sales'] for item in sales_data if item['product'] == data['product']) for data in sales_data}\n",
    "\n",
    "print(total_sales_by_product)"
   ]
  },
  {
   "cell_type": "markdown",
   "metadata": {},
   "source": [
    "##### IMPORTANT: note that inside the sum I have no square brackets. That means it it not a list comprehension but a <u>***generator***</u>. As shown below, using a generator instead of a comprehension saves up space"
   ]
  },
  {
   "cell_type": "code",
   "execution_count": 30,
   "metadata": {},
   "outputs": [
    {
     "name": "stdout",
     "output_type": "stream",
     "text": [
      "85176\n",
      "\n",
      "112\n"
     ]
    }
   ],
   "source": [
    "import sys\n",
    "\n",
    "nums_squared_lc = [i ** 2 for i in range(10000)]\n",
    "print(sys.getsizeof(nums_squared_lc))\n",
    "\n",
    "print()\n",
    "\n",
    "nums_squared_gc = (i ** 2 for i in range(10000))\n",
    "print(sys.getsizeof(nums_squared_gc))\n"
   ]
  },
  {
   "cell_type": "markdown",
   "metadata": {},
   "source": [
    "Also note that list comprehensions tend to evaluate faster. So if memory is not an issue and want to get results fast, use list comprehensions"
   ]
  },
  {
   "cell_type": "code",
   "execution_count": 34,
   "metadata": {},
   "outputs": [
    {
     "name": "stdout",
     "output_type": "stream",
     "text": [
      "         5 function calls in 0.001 seconds\n",
      "\n",
      "   Ordered by: standard name\n",
      "\n",
      "   ncalls  tottime  percall  cumtime  percall filename:lineno(function)\n",
      "        1    0.001    0.001    0.001    0.001 <string>:1(<listcomp>)\n",
      "        1    0.000    0.000    0.001    0.001 <string>:1(<module>)\n",
      "        1    0.000    0.000    0.001    0.001 {built-in method builtins.exec}\n",
      "        1    0.000    0.000    0.000    0.000 {built-in method builtins.sum}\n",
      "        1    0.000    0.000    0.000    0.000 {method 'disable' of '_lsprof.Profiler' objects}\n",
      "\n",
      "\n",
      "         10005 function calls in 0.004 seconds\n",
      "\n",
      "   Ordered by: standard name\n",
      "\n",
      "   ncalls  tottime  percall  cumtime  percall filename:lineno(function)\n",
      "    10001    0.002    0.000    0.002    0.000 <string>:1(<genexpr>)\n",
      "        1    0.000    0.000    0.004    0.004 <string>:1(<module>)\n",
      "        1    0.000    0.000    0.004    0.004 {built-in method builtins.exec}\n",
      "        1    0.002    0.002    0.004    0.004 {built-in method builtins.sum}\n",
      "        1    0.000    0.000    0.000    0.000 {method 'disable' of '_lsprof.Profiler' objects}\n",
      "\n",
      "\n"
     ]
    }
   ],
   "source": [
    "import cProfile\n",
    "\n",
    "cProfile.run('sum([i * 2 for i in range(10000)])')  # Using list comprehension\n",
    "\n",
    "cProfile.run('sum((i * 2 for i in range(10000)))')  # Using generator"
   ]
  },
  {
   "cell_type": "code",
   "execution_count": 98,
   "metadata": {},
   "outputs": [
    {
     "name": "stdout",
     "output_type": "stream",
     "text": [
      "{'This': 2, 'is': 4, 'the': 4, 'first': 2, 'document.': 2, 'document': 1, 'second': 1, 'And': 1, 'this': 2, 'third': 1, 'one.': 1, 'document?': 1}\n",
      "{'is': 4, 'document': 1, 'This': 2, 'document.': 2, 'third': 1, 'one.': 1, 'document?': 1, 'first': 2, 'this': 2, 'second': 1, 'And': 1, 'the': 4}\n",
      "{'is', 'document', 'This', 'document.', 'third', 'one.', 'document?', 'first', 'this', 'second', 'And', 'the'}\n",
      "['This', 'is', 'the', 'first', 'document.', 'This', 'document', 'is', 'the', 'second', 'document.', 'And', 'this', 'is', 'the', 'third', 'one.', 'is', 'this', 'the', 'first', 'document?']\n"
     ]
    }
   ],
   "source": [
    "documents = ['This is the first document.',\n",
    "             'This document is the second document.',\n",
    "             'And this is the third one.',\n",
    "             'is this the first document?']\n",
    "\n",
    "first_document = 'This is the first document.'\n",
    "\n",
    "def mapper(document: str) -> dict:\n",
    "    words = document.split(sep=' ')\n",
    "    return {word:1 for word in words}\n",
    "\n",
    "\n",
    "documents_mapped = [mapper(doc) for doc in documents]\n",
    "\n",
    "\n",
    "keys = [list(doc.keys()) for doc in documents_mapped]\n",
    "all_keys = [word for word_list in keys for word in word_list]\n",
    "#print(all_keys)\n",
    "\n",
    "# Initialize an empty dictionary to store word counts\n",
    "word_counts = {}\n",
    "\n",
    "for dictionary in documents_mapped:\n",
    "    for word, count in dictionary.items():\n",
    "        word_counts[word] = word_counts.get(word, 0) + count\n",
    "print(word_counts)\n",
    "\n",
    "print({word:sum(dictionary.get(word,0) for dictionary in documents_mapped) for word in set(word for dictionary in documents_mapped for word in dictionary)})\n",
    "\n",
    "\n",
    "\n",
    "\n",
    "\n",
    "print(set(word for dictionary in documents_mapped for word in dictionary))\n",
    "print(all_keys)"
   ]
  },
  {
   "cell_type": "markdown",
   "metadata": {},
   "source": [
    "## Functions\n",
    "A function is a self-contained block of code that encapsulates a specific task or related group of tasks. Its syntax is:\n",
    "\n",
    "```\n",
    "def <function_name>([<parameters>]):\n",
    "    <statement(s)>\n",
    "```"
   ]
  },
  {
   "cell_type": "markdown",
   "metadata": {},
   "source": [
    "##### Abstraction\n",
    "Abstraction is the process of hiding the complex implementation details while exposing only the necessary functionalities or behaviors. It allows developers to focus on what something does rather than how it does it. In Python, abstraction can be achieved through various mechanisms, including:\n",
    "\n",
    "* Encapsulation: Encapsulating related data and methods into classes and objects, allowing for better organization and abstraction of behavior\n",
    "* Functions and Modules: Using functions and modules to encapsulate and abstract functionality into reusable components.\n",
    "\n",
    "##### Reusability\n",
    "Reusability is the concept of designing code in a way that promotes reuse of existing components or functionalities across different parts of an application or in different applications. Reusability can lead to code that is easier to maintain, as changes made to reusable components automatically propagate to all instances where they are used.\n",
    "\n",
    "##### Modularity\n",
    "Instead of all the code being strung together, it’s broken out into separate functions, each of which focuses on a specific task. \n",
    "\n",
    "##### Side Effects\n",
    "A side effect refers to any observable change in the state of a system that is caused by executing a function or operation, other than the return value. More generally, a Python function is said to cause a side effect if it modifies its calling environment in any way. Changing the value of a function argument is just one of the possibilities.\n",
    "\n",
    "##### Function Signature\n",
    "A function signature typically refers to the function's name along with its parameters (type and order) and its return type. It describes the structure of a function without including implementation details. "
   ]
  },
  {
   "cell_type": "code",
   "execution_count": null,
   "metadata": {},
   "outputs": [],
   "source": [
    "# Side effects\n",
    "\n",
    "# Modifying Mutable Data Structures\n"
   ]
  },
  {
   "cell_type": "code",
   "execution_count": 103,
   "metadata": {},
   "outputs": [
    {
     "name": "stdout",
     "output_type": "stream",
     "text": [
      "hello\n",
      "hello\n",
      "hello\n"
     ]
    }
   ],
   "source": [
    "from typing import Any\n",
    "\n",
    "def function_name(parameter1: Any, parameter2: Any) -> Any:\n",
    "    '''\n",
    "    This is a generic function\n",
    "    '''\n",
    "    return parameter1, parameter2\n",
    "\n",
    "def greeting() -> None:\n",
    "    x = 'hello'\n",
    "    print(x)\n",
    "    return None\n",
    "\n",
    "if __name__ == '__main__':\n",
    "\n",
    "    # print(help(function_name))\n",
    "    greeting()\n",
    "    greeting()\n",
    "    greeting()\n",
    "    print('Hi')\n",
    "    print('Hi')\n",
    "    print('Hi')"
   ]
  },
  {
   "cell_type": "code",
   "execution_count": 2,
   "metadata": {},
   "outputs": [
    {
     "name": "stdout",
     "output_type": "stream",
     "text": [
      "['orange', 'banana', 'apple']\n",
      "['orange', 'banana', 'apple', 'onion']\n",
      "['orange', 'banana', 'apple', 'onion', 'onion']\n",
      "{'__name__': '__main__', '__doc__': 'Automatically created module for IPython interactive environment', '__package__': None, '__loader__': None, '__spec__': None, '__builtin__': <module 'builtins' (built-in)>, '__builtins__': <module 'builtins' (built-in)>, '_ih': ['', \"fruits_list = ['orange', 'banana', 'apple']\\nprint(globals())\\ndef append_onions(tropical:list[str] = fruits_list) -> list[str]:\\n    tropical.append('onion')\\n    return None\\n\\nprint(fruits_list)\\nappend_onions()\\nprint(fruits_list)\\nappend_onions()\\nprint(fruits_list)\\nprint(globals())\", \"fruits_list = ['orange', 'banana', 'apple']\\n#print(globals())\\ndef append_onions(tropical:list[str] = fruits_list) -> list[str]:\\n    tropical.append('onion')\\n    return None\\n\\nprint(fruits_list)\\nappend_onions()\\nprint(fruits_list)\\nappend_onions()\\nprint(fruits_list)\\nprint(globals())\"], '_oh': {}, '_dh': [PosixPath('/Users/juanrosas/Desktop/jcrosas-Python_meetings/notebooks'), PosixPath('/Users/juanrosas/Desktop/jcrosas-Python_meetings/notebooks')], 'In': ['', \"fruits_list = ['orange', 'banana', 'apple']\\nprint(globals())\\ndef append_onions(tropical:list[str] = fruits_list) -> list[str]:\\n    tropical.append('onion')\\n    return None\\n\\nprint(fruits_list)\\nappend_onions()\\nprint(fruits_list)\\nappend_onions()\\nprint(fruits_list)\\nprint(globals())\", \"fruits_list = ['orange', 'banana', 'apple']\\n#print(globals())\\ndef append_onions(tropical:list[str] = fruits_list) -> list[str]:\\n    tropical.append('onion')\\n    return None\\n\\nprint(fruits_list)\\nappend_onions()\\nprint(fruits_list)\\nappend_onions()\\nprint(fruits_list)\\nprint(globals())\"], 'Out': {}, 'get_ipython': <bound method InteractiveShell.get_ipython of <ipykernel.zmqshell.ZMQInteractiveShell object at 0x7f7c191b6a30>>, 'exit': <IPython.core.autocall.ZMQExitAutocall object at 0x7f7c191c9700>, 'quit': <IPython.core.autocall.ZMQExitAutocall object at 0x7f7c191c9700>, 'open': <function open at 0x7f7c17d1a3a0>, '_': '', '__': '', '___': '', '__vsc_ipynb_file__': '/Users/juanrosas/Desktop/jcrosas-Python_meetings/notebooks/20240227_python-class.ipynb', '_i': \"fruits_list = ['orange', 'banana', 'apple']\\nprint(globals())\\ndef append_onions(tropical:list[str] = fruits_list) -> list[str]:\\n    tropical.append('onion')\\n    return None\\n\\nprint(fruits_list)\\nappend_onions()\\nprint(fruits_list)\\nappend_onions()\\nprint(fruits_list)\\nprint(globals())\", '_ii': '', '_iii': '', '_i1': \"fruits_list = ['orange', 'banana', 'apple']\\nprint(globals())\\ndef append_onions(tropical:list[str] = fruits_list) -> list[str]:\\n    tropical.append('onion')\\n    return None\\n\\nprint(fruits_list)\\nappend_onions()\\nprint(fruits_list)\\nappend_onions()\\nprint(fruits_list)\\nprint(globals())\", 'fruits_list': ['orange', 'banana', 'apple', 'onion', 'onion'], 'append_onions': <function append_onions at 0x7f7c195c60d0>, '_i2': \"fruits_list = ['orange', 'banana', 'apple']\\n#print(globals())\\ndef append_onions(tropical:list[str] = fruits_list) -> list[str]:\\n    tropical.append('onion')\\n    return None\\n\\nprint(fruits_list)\\nappend_onions()\\nprint(fruits_list)\\nappend_onions()\\nprint(fruits_list)\\nprint(globals())\"}\n"
     ]
    }
   ],
   "source": [
    "fruits_list = ['orange', 'banana', 'apple']\n",
    "#print(globals())\n",
    "def append_onions(tropical:list[str] = fruits_list) -> list[str]:\n",
    "    tropical.append('onion')\n",
    "    return None\n",
    "\n",
    "print(fruits_list)\n",
    "append_onions()\n",
    "print(fruits_list)\n",
    "append_onions()\n",
    "print(fruits_list)\n",
    "print(globals())"
   ]
  },
  {
   "cell_type": "markdown",
   "metadata": {},
   "source": [
    "## Argument Tuple Packing"
   ]
  },
  {
   "cell_type": "code",
   "execution_count": 112,
   "metadata": {},
   "outputs": [
    {
     "name": "stdout",
     "output_type": "stream",
     "text": [
      "(1, 2)\n",
      "(1, 2, 3, 4)\n",
      "(1, 2, 3, 4, 5, 6)\n"
     ]
    },
    {
     "data": {
      "text/plain": [
       "3.0"
      ]
     },
     "execution_count": 112,
     "metadata": {},
     "output_type": "execute_result"
    }
   ],
   "source": [
    "# *args will unpack the args as a tupple\n",
    "def f(*args):\n",
    "    print(args)\n",
    "\n",
    "# Print the tuples\n",
    "f(1,2)\n",
    "f(1,2,3,4)\n",
    "f(1,2,3,4,5,6)\n",
    "\n",
    "def avg(*args):\n",
    "    return sum(args)/len(args)\n",
    "\n",
    "avg(1, 2, 3)\n",
    "avg(1, 2, 3, 4, 5)"
   ]
  },
  {
   "cell_type": "code",
   "execution_count": null,
   "metadata": {},
   "outputs": [],
   "source": []
  }
 ],
 "metadata": {
  "kernelspec": {
   "display_name": "jcrosas-Python_meetings",
   "language": "python",
   "name": "python3"
  },
  "language_info": {
   "codemirror_mode": {
    "name": "ipython",
    "version": 3
   },
   "file_extension": ".py",
   "mimetype": "text/x-python",
   "name": "python",
   "nbconvert_exporter": "python",
   "pygments_lexer": "ipython3",
   "version": "3.9.18"
  }
 },
 "nbformat": 4,
 "nbformat_minor": 2
}

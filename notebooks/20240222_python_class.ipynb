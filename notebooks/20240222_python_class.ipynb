{
 "cells": [
  {
   "cell_type": "markdown",
   "metadata": {},
   "source": [
    "## The `reversed()` method.\n",
    "\n",
    "Allows you to create an iterator that yields the values of an input iterable in reverse order."
   ]
  },
  {
   "cell_type": "code",
   "execution_count": 4,
   "metadata": {},
   "outputs": [
    {
     "name": "stdout",
     "output_type": "stream",
     "text": [
      "method \"reversed\" creates a <class 'list_reverseiterator'>\n",
      "method \"reversed\" creates a <class 'list_iterator'>\n",
      "5\n",
      "4\n",
      "3\n",
      "2\n",
      "1\n"
     ]
    }
   ],
   "source": [
    "numbers = [1,2,3,4,5]\n",
    "\n",
    "reversed_iterator = reversed(numbers)\n",
    "print(f'method \"reversed\" creates a {type(reversed_iterator)}')\n",
    "print(f'method \"iter\" creates a {type(iter(numbers))}')\n",
    "\n",
    "for number in reversed_iterator:\n",
    "    print(number)"
   ]
  },
  {
   "cell_type": "code",
   "execution_count": 5,
   "metadata": {},
   "outputs": [
    {
     "name": "stdout",
     "output_type": "stream",
     "text": [
      "method \"iter\" creates a <class 'reversed'>\n",
      "method \"iter\" creates a <class 'tuple_iterator'>\n",
      "5\n",
      "4\n",
      "3\n",
      "2\n",
      "1\n"
     ]
    }
   ],
   "source": [
    "numbers = (1,2,3,4,5)\n",
    "\n",
    "reversed_iterator = reversed(numbers)\n",
    "print(f'method \"iter\" creates a {type(reversed_iterator)}')\n",
    "print(f'method \"iter\" creates a {type(iter(numbers))}')\n",
    "\n",
    "for number in reversed_iterator:\n",
    "    print(number)"
   ]
  },
  {
   "cell_type": "markdown",
   "metadata": {},
   "source": [
    "## List Comprehensions\n",
    "List comprehension offers a shorter syntax when you want to create a new list based on the values of an existing iterable\n",
    "\n",
    "Every list comprehension in Python includes three elements:\n",
    "\n",
    "1. ***expression*** is the member itself, a call to a method, or any other valid expression that returns a value. In the example below, the expression number * number is the square of the member value.\n",
    "\n",
    "2. ***member*** is the object or value in the list or iterable. In the example below, the member value is number.\n",
    "\n",
    "3. ***iterable*** is a list, set, sequence, generator, or any other object that can return its elements one at a time. In the example below, the iterable is range(10)."
   ]
  },
  {
   "cell_type": "code",
   "execution_count": 6,
   "metadata": {},
   "outputs": [
    {
     "name": "stdout",
     "output_type": "stream",
     "text": [
      "[0, 1, 4, 9, 16, 25, 36, 49, 64, 81]\n"
     ]
    }
   ],
   "source": [
    "squares = [number * number for number in range(10)]\n",
    "print(squares)"
   ]
  },
  {
   "cell_type": "markdown",
   "metadata": {},
   "source": [
    "## Using conditionals in list comprehensions\n",
    "We can add conditionals to a list comprehension using the following syntax:\n",
    "\n",
    "`new_list = [expression for member in iterable if conditional]`"
   ]
  },
  {
   "cell_type": "code",
   "execution_count": 8,
   "metadata": {},
   "outputs": [
    {
     "name": "stdout",
     "output_type": "stream",
     "text": [
      "['e', 'o', 'e', 'a', 'e', 'a', 'o', 'a']\n"
     ]
    }
   ],
   "source": [
    "sentence = \"the rocket came back from mars\"\n",
    "list_vowels = [char for char in sentence if char in \"aeiou\"]  # get the letter if it is a vowel\n",
    "print(list_vowels)"
   ]
  },
  {
   "cell_type": "code",
   "execution_count": 15,
   "metadata": {},
   "outputs": [
    {
     "name": "stdout",
     "output_type": "stream",
     "text": [
      "[1.25, 10.22, 3.78, 1.16]\n"
     ]
    }
   ],
   "source": [
    "original_prices = [1.25, -9.45, 10.22, 3.78, -5.92, 1.16]\n",
    "\n",
    "new_prices = [price for price in original_prices if price > 0]  # Filter out prices that are less than zero\n",
    "\n",
    "print(new_prices)"
   ]
  },
  {
   "cell_type": "markdown",
   "metadata": {},
   "source": [
    "If we wanted to replaces a value using an else, then we must use the following syntax:\n",
    " \n",
    "`new_list = [true_expr if conditional else false_expr for member in iterable]`"
   ]
  },
  {
   "cell_type": "code",
   "execution_count": 16,
   "metadata": {},
   "outputs": [
    {
     "name": "stdout",
     "output_type": "stream",
     "text": [
      "[1.25, 0, 10.22, 3.78, 0, 1.16]\n"
     ]
    }
   ],
   "source": [
    "original_prices = [1.25, -9.45, 10.22, 3.78, -5.92, 1.16]\n",
    "\n",
    "new_prices = [price if price > 0 else 0 for price in original_prices]  # Change negative prices to 0\n",
    "\n",
    "print(new_prices)"
   ]
  },
  {
   "cell_type": "code",
   "execution_count": null,
   "metadata": {},
   "outputs": [],
   "source": []
  }
 ],
 "metadata": {
  "kernelspec": {
   "display_name": "jcrosas-Python_meetings",
   "language": "python",
   "name": "python3"
  },
  "language_info": {
   "codemirror_mode": {
    "name": "ipython",
    "version": 3
   },
   "file_extension": ".py",
   "mimetype": "text/x-python",
   "name": "python",
   "nbconvert_exporter": "python",
   "pygments_lexer": "ipython3",
   "version": "3.9.18"
  }
 },
 "nbformat": 4,
 "nbformat_minor": 2
}

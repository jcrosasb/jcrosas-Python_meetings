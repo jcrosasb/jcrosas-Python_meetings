{
 "cells": [
  {
   "cell_type": "markdown",
   "metadata": {},
   "source": [
    "## Decorators\n",
    "\n",
    "Functions that wrap around another function or method, allowing you to execute code before and/or after the wrapped function is called, or even replace the wrapped function entirely."
   ]
  },
  {
   "cell_type": "code",
   "execution_count": 6,
   "metadata": {},
   "outputs": [
    {
     "data": {
      "text/plain": [
       "\"Yo Bob, together we're the awesomest!\""
      ]
     },
     "execution_count": 6,
     "metadata": {},
     "output_type": "execute_result"
    }
   ],
   "source": [
    "# Here, say_hello() and be_awesome() are regular functions that expect a name given as a string. \n",
    "# The greet_bob() function, however, expects a function as its argument. \n",
    "# You can, for example, pass it the say_hello() or the be_awesome() function.\n",
    "\n",
    "def say_hello(name):\n",
    "    return f\"Hello {name}\"\n",
    "\n",
    "def be_awesome(name):\n",
    "    return f\"Yo {name}, together we're the awesomest!\"\n",
    "\n",
    "def greet_bob(greeter_func):\n",
    "    return greeter_func(\"Bob\")\n",
    "\n",
    "greet_bob(say_hello)\n",
    "greet_bob(be_awesome)\n"
   ]
  },
  {
   "cell_type": "markdown",
   "metadata": {},
   "source": [
    "* Notice that `great_bob` is being called (i.e. wirtten with parenthesis)\n",
    "* On the other hand `say_hello` or `be awesome` are not with parenthesis. Therefore, they are not being called. <u>Only a reference of the function is being passed</u>"
   ]
  },
  {
   "cell_type": "code",
   "execution_count": 12,
   "metadata": {},
   "outputs": [
    {
     "name": "stdout",
     "output_type": "stream",
     "text": [
      "<function decorator.<locals>.wrapper at 0x7fe6d7db64c0>\n",
      "Something is happening before the function is called.\n",
      "Whee!\n",
      "Something is happening after the function is called.\n"
     ]
    }
   ],
   "source": [
    "def decorator(func):\n",
    "    def wrapper():\n",
    "        print(\"Something is happening before the function is called.\")\n",
    "        func()\n",
    "        print(\"Something is happening after the function is called.\")\n",
    "    return wrapper\n",
    "\n",
    "def say_whee():\n",
    "    print(\"Whee!\")\n",
    "\n",
    "say_whee = decorator(say_whee)  # Here we call the function decorator, and then pass a reference to say-whee to the wrapper\n",
    "\n",
    "# Just to show it is a decorator\n",
    "print(say_whee)\n",
    "\n",
    "# Call the function\n",
    "say_whee()"
   ]
  },
  {
   "cell_type": "markdown",
   "metadata": {},
   "source": [
    "##### Syntactic Sugar for Decorators\n",
    "\n",
    "In example above, we had to type `say_whee` three times. We can save up time and use the `pie syntax` symbol, or `@` symbol"
   ]
  },
  {
   "cell_type": "code",
   "execution_count": 13,
   "metadata": {},
   "outputs": [],
   "source": [
    "def decorator(func):\n",
    "    def wrapper():\n",
    "        print(\"Something is happening before the function is called.\")\n",
    "        func()\n",
    "        print(\"Something is happening after the function is called.\")\n",
    "    return wrapper\n",
    "\n",
    "@decorator\n",
    "def say_whee():\n",
    "    print(\"Whee!\")"
   ]
  },
  {
   "cell_type": "markdown",
   "metadata": {},
   "source": [
    "***<u>So, @decorator is just a shorter way of saying say_whee = decorator(say_whee). It’s how you apply a decorator to a function.</u>***"
   ]
  },
  {
   "cell_type": "markdown",
   "metadata": {},
   "source": [
    "## Decorating Functions With Arguments\n",
    "\n",
    "Below I pass function `greet` with arguments to our decorator"
   ]
  },
  {
   "cell_type": "code",
   "execution_count": 16,
   "metadata": {},
   "outputs": [
    {
     "name": "stdout",
     "output_type": "stream",
     "text": [
      "need to pass arguments to wrapper\n"
     ]
    }
   ],
   "source": [
    "@decorator\n",
    "def greet(name):\n",
    "    print(f\"Hello {name}\")\n",
    "\n",
    "try:\n",
    "    greet('Juan')\n",
    "except TypeError:\n",
    "    print('need to pass arguments to wrapper')"
   ]
  },
  {
   "cell_type": "markdown",
   "metadata": {},
   "source": [
    "***Passing arguments to `wrapper` can be problematic, because maybe not all functions that are being decorated with a single decorator have the same arguments. To solve it, use **args and **kwargs***"
   ]
  },
  {
   "cell_type": "code",
   "execution_count": 17,
   "metadata": {},
   "outputs": [
    {
     "name": "stdout",
     "output_type": "stream",
     "text": [
      "Something is happening before the function is called.\n",
      "Hello Juan\n",
      "Something is happening after the function is called.\n"
     ]
    }
   ],
   "source": [
    "def decorator(func):\n",
    "    def wrapper(*args, **kwargs):\n",
    "        print(\"Something is happening before the function is called.\")\n",
    "        func(*args, **kwargs)\n",
    "        print(\"Something is happening after the function is called.\")\n",
    "    return wrapper\n",
    "\n",
    "@decorator\n",
    "def greet(name):\n",
    "    print(f\"Hello {name}\")\n",
    "\n",
    "greet('Juan')"
   ]
  },
  {
   "cell_type": "markdown",
   "metadata": {},
   "source": [
    "##### Another example..."
   ]
  },
  {
   "cell_type": "code",
   "execution_count": 20,
   "metadata": {},
   "outputs": [
    {
     "name": "stdout",
     "output_type": "stream",
     "text": [
      "executing function addition_funny\n",
      "The parameters are args = () and kwargs = {'num1': 2, 'num2': 3}\n",
      "5\n"
     ]
    }
   ],
   "source": [
    "def logger_on(afunction):\n",
    "    def wrapper(*args, **kwargs):\n",
    "        print(f'executing function {afunction.__name__}')\n",
    "        print(f'The parameters are args = {args} and kwargs = {kwargs}')\n",
    "        result = afunction(*args, **kwargs)\n",
    "        return result\n",
    "    return wrapper\n",
    "\n",
    "@logger_on\n",
    "def addition_funny(num1, num2):\n",
    "    return num1 + num2\n",
    "\n",
    "print(addition_funny(num1=2,num2=3))\n"
   ]
  },
  {
   "cell_type": "markdown",
   "metadata": {},
   "source": [
    "##### Same example but without explicit use of decorator"
   ]
  },
  {
   "cell_type": "code",
   "execution_count": 21,
   "metadata": {},
   "outputs": [
    {
     "name": "stdout",
     "output_type": "stream",
     "text": [
      "executing function addition_funny\n",
      "The parameters are args = () and kwargs = {'num1': 2, 'num2': 3}\n",
      "5\n"
     ]
    }
   ],
   "source": [
    "def logger_on(afunction):\n",
    "    def wrapper(*args, **kwargs):\n",
    "        print(f'executing function {afunction.__name__}')\n",
    "        print(f'The parameters are args = {args} and kwargs = {kwargs}')\n",
    "        result = afunction(*args, **kwargs)\n",
    "        return result\n",
    "    return wrapper\n",
    "\n",
    "def addition_funny(num1, num2):\n",
    "    return num1 + num2\n",
    "\n",
    "print(logger_on(addition_funny)(num1=2, num2=3))  # Without decorator"
   ]
  },
  {
   "cell_type": "markdown",
   "metadata": {},
   "source": [
    "## Closures\n",
    "A closure in programming refers to a function that captures and retains the environment in which it was created, including the variables and bindings that were in scope at the time of its creation. This allows the function to access and manipulate those variables even after the scope in which they were defined has exited.\n",
    "\n",
    "In simpler terms, ***<u>a closure is a function that remembers the environment in which it was created, and it can access variables from that environment even after the enclosing function has finished executing.</u>***"
   ]
  },
  {
   "cell_type": "code",
   "execution_count": 23,
   "metadata": {},
   "outputs": [
    {
     "name": "stdout",
     "output_type": "stream",
     "text": [
      "15\n"
     ]
    }
   ],
   "source": [
    "def outer_function(x):\n",
    "    def inner_function(y):\n",
    "        return x + y\n",
    "    return inner_function\n",
    "\n",
    "closure = outer_function(10)\n",
    "result = closure(5)  \n",
    "\n",
    "print(result)"
   ]
  },
  {
   "cell_type": "markdown",
   "metadata": {},
   "source": [
    "Another example..."
   ]
  },
  {
   "cell_type": "code",
   "execution_count": 30,
   "metadata": {},
   "outputs": [
    {
     "name": "stdout",
     "output_type": "stream",
     "text": [
      "16\n",
      "36\n",
      "64\n",
      "216\n"
     ]
    }
   ],
   "source": [
    "def generate_power(exponent):   # CLOSURE FACTORY FUNCTION. This means that it creates a new closure each time it’s called \n",
    "    def power(base):   # INNER FUNCTION that takes a single argument\n",
    "        return base ** exponent\n",
    "    return power\n",
    "\n",
    "# When you call generate_power():\n",
    "#   1. Define a new instance of power(), which takes a single argument base.\n",
    "#   2. Take a snapshot of the surrounding state of power(), which includes exponent with its current value.\n",
    "#   3. Return power() along with its whole surrounding state.\n",
    "\n",
    "\n",
    "raise_two = generate_power(2)\n",
    "\n",
    "raise_three = generate_power(3)\n",
    "\n",
    "# raise_two() remembers that exponent=2\n",
    "print(raise_two(4))\n",
    "print(raise_two(6))\n",
    "\n",
    "# raise_three() remembers that exponent=3\n",
    "print(raise_three(4))\n",
    "print(raise_three(6))"
   ]
  },
  {
   "cell_type": "markdown",
   "metadata": {},
   "source": [
    "##### IMPORTANT:\n",
    "\n",
    "***Closure can modify their enclosing state by using mutable objects, such as dictionaries, sets, or lists***"
   ]
  },
  {
   "cell_type": "code",
   "execution_count": 39,
   "metadata": {},
   "outputs": [
    {
     "name": "stdout",
     "output_type": "stream",
     "text": [
      "100.0\n",
      "150.0\n",
      "125.0\n"
     ]
    }
   ],
   "source": [
    "def mean():\n",
    "    sample = []\n",
    "    def inner_mean(number):\n",
    "        sample.append(number)\n",
    "        return sum(sample)/len(sample)\n",
    "    return inner_mean\n",
    "\n",
    "\n",
    "sample_mean = mean()\n",
    "\n",
    "print(sample_mean(100))   # Add 100. Mean should be sum([100])/len([100]) = 100\n",
    "\n",
    "print(sample_mean(200))   # Add 200. Mean should be sum([100,200])/len([100,200]) = 150\n",
    "\n",
    "print(sample_mean(75))   # Add 75. Mean should be sum([100,200,75])/len([100,200,75]) = 125"
   ]
  },
  {
   "cell_type": "code",
   "execution_count": 41,
   "metadata": {},
   "outputs": [
    {
     "name": "stdout",
     "output_type": "stream",
     "text": [
      "{(1,): 1}\n",
      "{(1,): 1, (0,): 0}\n",
      "{(1,): 1, (0,): 0, (2,): 1}\n",
      "{(1,): 1, (0,): 0, (2,): 1}\n",
      "{(1,): 1, (0,): 0, (2,): 1, (3,): 2}\n",
      "{(1,): 1, (0,): 0, (2,): 1, (3,): 2}\n",
      "{(1,): 1, (0,): 0, (2,): 1, (3,): 2, (4,): 3}\n",
      "{(1,): 1, (0,): 0, (2,): 1, (3,): 2, (4,): 3}\n",
      "{(1,): 1, (0,): 0, (2,): 1, (3,): 2, (4,): 3, (5,): 5}\n",
      "{(1,): 1, (0,): 0, (2,): 1, (3,): 2, (4,): 3, (5,): 5}\n",
      "{(1,): 1, (0,): 0, (2,): 1, (3,): 2, (4,): 3, (5,): 5, (6,): 8}\n",
      "{(1,): 1, (0,): 0, (2,): 1, (3,): 2, (4,): 3, (5,): 5, (6,): 8}\n",
      "{(1,): 1, (0,): 0, (2,): 1, (3,): 2, (4,): 3, (5,): 5, (6,): 8, (7,): 13}\n",
      "{(1,): 1, (0,): 0, (2,): 1, (3,): 2, (4,): 3, (5,): 5, (6,): 8, (7,): 13}\n",
      "{(1,): 1, (0,): 0, (2,): 1, (3,): 2, (4,): 3, (5,): 5, (6,): 8, (7,): 13, (8,): 21}\n",
      "{(1,): 1, (0,): 0, (2,): 1, (3,): 2, (4,): 3, (5,): 5, (6,): 8, (7,): 13, (8,): 21}\n",
      "{(1,): 1, (0,): 0, (2,): 1, (3,): 2, (4,): 3, (5,): 5, (6,): 8, (7,): 13, (8,): 21, (9,): 34}\n"
     ]
    },
    {
     "data": {
      "text/plain": [
       "34"
      ]
     },
     "execution_count": 41,
     "metadata": {},
     "output_type": "execute_result"
    }
   ],
   "source": [
    "def memoize(afunction):\n",
    "    cache = {}\n",
    "    def wrapper(*args):\n",
    "        if args not in cache:\n",
    "            cache[args] = afunction(*args)\n",
    "        print(cache)\n",
    "        return cache[args]\n",
    "    return wrapper\n",
    "\n",
    "@memoize\n",
    "def fibonacci(n):\n",
    "    if n < 2:\n",
    "        return n\n",
    "    else:\n",
    "        return fibonacci(n-1) + fibonacci(n-2)\n",
    "    \n",
    "fibonacci(9)"
   ]
  },
  {
   "cell_type": "code",
   "execution_count": 42,
   "metadata": {},
   "outputs": [
    {
     "name": "stdout",
     "output_type": "stream",
     "text": [
      "{(1,): 1, (0,): 0, (2,): 1, (3,): 2, (4,): 3, (5,): 5, (6,): 8, (7,): 13, (8,): 21, (9,): 34}\n"
     ]
    },
    {
     "data": {
      "text/plain": [
       "3"
      ]
     },
     "execution_count": 42,
     "metadata": {},
     "output_type": "execute_result"
    }
   ],
   "source": [
    "fibonacci(4)"
   ]
  },
  {
   "cell_type": "code",
   "execution_count": 43,
   "metadata": {},
   "outputs": [
    {
     "name": "stdout",
     "output_type": "stream",
     "text": [
      "{(1,): 1, (0,): 0, (2,): 1, (3,): 2, (4,): 3, (5,): 5, (6,): 8, (7,): 13, (8,): 21, (9,): 34}\n"
     ]
    },
    {
     "data": {
      "text/plain": [
       "1"
      ]
     },
     "execution_count": 43,
     "metadata": {},
     "output_type": "execute_result"
    }
   ],
   "source": [
    "fibonacci(2)"
   ]
  },
  {
   "cell_type": "code",
   "execution_count": 44,
   "metadata": {},
   "outputs": [
    {
     "name": "stdout",
     "output_type": "stream",
     "text": [
      "{(1,): 1, (0,): 0, (2,): 1, (3,): 2, (4,): 3, (5,): 5, (6,): 8, (7,): 13, (8,): 21, (9,): 34}\n",
      "{(1,): 1, (0,): 0, (2,): 1, (3,): 2, (4,): 3, (5,): 5, (6,): 8, (7,): 13, (8,): 21, (9,): 34}\n",
      "{(1,): 1, (0,): 0, (2,): 1, (3,): 2, (4,): 3, (5,): 5, (6,): 8, (7,): 13, (8,): 21, (9,): 34, (10,): 55}\n",
      "{(1,): 1, (0,): 0, (2,): 1, (3,): 2, (4,): 3, (5,): 5, (6,): 8, (7,): 13, (8,): 21, (9,): 34, (10,): 55}\n",
      "{(1,): 1, (0,): 0, (2,): 1, (3,): 2, (4,): 3, (5,): 5, (6,): 8, (7,): 13, (8,): 21, (9,): 34, (10,): 55, (11,): 89}\n",
      "{(1,): 1, (0,): 0, (2,): 1, (3,): 2, (4,): 3, (5,): 5, (6,): 8, (7,): 13, (8,): 21, (9,): 34, (10,): 55, (11,): 89}\n",
      "{(1,): 1, (0,): 0, (2,): 1, (3,): 2, (4,): 3, (5,): 5, (6,): 8, (7,): 13, (8,): 21, (9,): 34, (10,): 55, (11,): 89, (12,): 144}\n",
      "{(1,): 1, (0,): 0, (2,): 1, (3,): 2, (4,): 3, (5,): 5, (6,): 8, (7,): 13, (8,): 21, (9,): 34, (10,): 55, (11,): 89, (12,): 144}\n",
      "{(1,): 1, (0,): 0, (2,): 1, (3,): 2, (4,): 3, (5,): 5, (6,): 8, (7,): 13, (8,): 21, (9,): 34, (10,): 55, (11,): 89, (12,): 144, (13,): 233}\n",
      "{(1,): 1, (0,): 0, (2,): 1, (3,): 2, (4,): 3, (5,): 5, (6,): 8, (7,): 13, (8,): 21, (9,): 34, (10,): 55, (11,): 89, (12,): 144, (13,): 233}\n",
      "{(1,): 1, (0,): 0, (2,): 1, (3,): 2, (4,): 3, (5,): 5, (6,): 8, (7,): 13, (8,): 21, (9,): 34, (10,): 55, (11,): 89, (12,): 144, (13,): 233, (14,): 377}\n",
      "{(1,): 1, (0,): 0, (2,): 1, (3,): 2, (4,): 3, (5,): 5, (6,): 8, (7,): 13, (8,): 21, (9,): 34, (10,): 55, (11,): 89, (12,): 144, (13,): 233, (14,): 377}\n",
      "{(1,): 1, (0,): 0, (2,): 1, (3,): 2, (4,): 3, (5,): 5, (6,): 8, (7,): 13, (8,): 21, (9,): 34, (10,): 55, (11,): 89, (12,): 144, (13,): 233, (14,): 377, (15,): 610}\n"
     ]
    },
    {
     "data": {
      "text/plain": [
       "610"
      ]
     },
     "execution_count": 44,
     "metadata": {},
     "output_type": "execute_result"
    }
   ],
   "source": [
    "fibonacci(15)"
   ]
  },
  {
   "cell_type": "code",
   "execution_count": null,
   "metadata": {},
   "outputs": [],
   "source": []
  }
 ],
 "metadata": {
  "kernelspec": {
   "display_name": "jcrosas-Python_meetings",
   "language": "python",
   "name": "python3"
  },
  "language_info": {
   "codemirror_mode": {
    "name": "ipython",
    "version": 3
   },
   "file_extension": ".py",
   "mimetype": "text/x-python",
   "name": "python",
   "nbconvert_exporter": "python",
   "pygments_lexer": "ipython3",
   "version": "3.9.18"
  }
 },
 "nbformat": 4,
 "nbformat_minor": 2
}

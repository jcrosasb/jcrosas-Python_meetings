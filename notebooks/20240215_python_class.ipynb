{
 "cells": [
  {
   "cell_type": "markdown",
   "metadata": {},
   "source": [
    "## Methods and Attributes of a List\n",
    "\n",
    "To check them , we may use `__dir__()`\n",
    "\n",
    "Remember, a list is:\n",
    "\n",
    "1. ***Ordered***\n",
    "2. ***Mutable***\n",
    "\n",
    "```\n",
    "numbers = [1, 2, 3]\n",
    "\n",
    "for method in numbers.__dir__():\n",
    "    print(method)\n",
    "```"
   ]
  },
  {
   "cell_type": "markdown",
   "metadata": {},
   "source": [
    "Aparte from the Dunder (Magic) methods, we have these for lists:\n",
    "\n",
    "* clear\n",
    "* copy\n",
    "* append\n",
    "* insert\n",
    "* extend\n",
    "* pop\n",
    "* remove\n",
    "* index\n",
    "* count\n",
    "* reverse\n",
    "* sort"
   ]
  },
  {
   "cell_type": "markdown",
   "metadata": {},
   "source": [
    "## Extend()\n",
    "\n",
    "It is used to extend the list by appending elements from an iterable (such as another list or any iterable object) to the end of the current list."
   ]
  },
  {
   "cell_type": "code",
   "execution_count": 13,
   "metadata": {},
   "outputs": [
    {
     "name": "stdout",
     "output_type": "stream",
     "text": [
      "fruits = ['apple', 'banana', 'cherry', 'orange', 'pineapple']\n",
      "The ID of fruits before extend() is: 140294018158912\n",
      "\n",
      "fruits after extend() = ['apple', 'banana', 'cherry', 'orange', 'pineapple', 'lettuce', 'peas', 'onions', 'spinach']\n",
      "The ID of fruits after extend() is: 140294018158912\n"
     ]
    }
   ],
   "source": [
    "fruits = [\"apple\", \"banana\", \"cherry\", \"orange\", \"pineapple\"]\n",
    "veggies = ['lettuce', 'peas', 'onions', 'spinach']\n",
    "\n",
    "print(f'fruits = {fruits}')\n",
    "print(f'The ID of fruits before extend() is: {id(fruits)}\\n')\n",
    "\n",
    "fruits.extend(veggies)  # This will append all elements from 'veggies' \n",
    "\n",
    "print(f'fruits after extend() = {fruits}')\n",
    "print(f'The ID of fruits after extend() is: {id(fruits)}')"
   ]
  },
  {
   "cell_type": "markdown",
   "metadata": {},
   "source": [
    "Note that `extend()` always receives an ***iterable***"
   ]
  },
  {
   "cell_type": "code",
   "execution_count": 14,
   "metadata": {},
   "outputs": [
    {
     "name": "stdout",
     "output_type": "stream",
     "text": [
      "['apple', 'banana', 'cherry', 'orange', 'pineapple', 'w', 'a', 't', 'e', 'r', 'm', 'e', 'l', 'o', 'n']\n",
      "\n",
      "You can't extend() '1' to the list becasee 'int', 'float', etc are not iterable\n"
     ]
    }
   ],
   "source": [
    "fruits = [\"apple\", \"banana\", \"cherry\", \"orange\", \"pineapple\"]\n",
    "\n",
    "fruits.extend('watermelon')  # Add a single element that is iterable, like a string, it will add the elements of that iterable\n",
    "print(fruits)\n",
    "\n",
    "try:\n",
    "    fruits.extend(1)\n",
    "except TypeError:\n",
    "    print(\"\\nYou can't extend() '1' to the list becasee 'int', 'float', etc are not iterable\")\n"
   ]
  },
  {
   "cell_type": "markdown",
   "metadata": {},
   "source": [
    "##### Difference between extend() and \"+\"\n",
    "The `+` operator on lists concatenates them, but creating a new object"
   ]
  },
  {
   "cell_type": "code",
   "execution_count": 7,
   "metadata": {},
   "outputs": [
    {
     "name": "stdout",
     "output_type": "stream",
     "text": [
      "fruits = ['apple', 'banana', 'cherry', 'orange', 'pineapple']\n",
      "The ID of fruits before \"+\" is: 140294004397056\n",
      "\n",
      "fruits = ['apple', 'banana', 'cherry', 'orange', 'pineapple', 'lettuce', 'peas', 'onions', 'spinach']\n",
      "The ID of fruits after \"+\" is: 140294004428416\n",
      "\n"
     ]
    }
   ],
   "source": [
    "fruits = [\"apple\", \"banana\", \"cherry\", \"orange\", \"pineapple\"]\n",
    "veggies = ['lettuce', 'peas', 'onions', 'spinach']\n",
    "\n",
    "print(f'fruits = {fruits}')\n",
    "print(f'The ID of fruits before \"+\" is: {id(fruits)}\\n')\n",
    "\n",
    "fruits = fruits + veggies # This will create a new list called 'fruits'\n",
    "\n",
    "print(f'fruits = {fruits}')\n",
    "print(f'The ID of fruits after \"+\" is: {id(fruits)}\\n')\n",
    "\n"
   ]
  },
  {
   "cell_type": "markdown",
   "metadata": {},
   "source": [
    "## index()\n",
    "\n",
    "Used to find the index of the first occurrence of a specified value in a list. It returns the index of the specified element if it is found in the list. Its syntax is:\n",
    "\n",
    "`list.index(value, start, end)`\n",
    "\n",
    "where:\n",
    "\n",
    "* `value`: The value for which you want to find the index.\n",
    "* `start` (optional): The index in the list where the search starts. If not specified, the search starts from the beginning of the list.\n",
    "* `end` (optional): The index in the list where the search ends. If not specified, the search ends at the end of the list."
   ]
  },
  {
   "cell_type": "code",
   "execution_count": 20,
   "metadata": {},
   "outputs": [
    {
     "name": "stdout",
     "output_type": "stream",
     "text": [
      "The index of element 'cherry' is 2\n"
     ]
    }
   ],
   "source": [
    "fruits = [\"apple\", \"banana\", \"cherry\", \"orange\", \"pineapple\", 'watermelon', 'papaya', 'banana']\n",
    "\n",
    "print(f\"The index of element 'cherry' is {fruits.index('cherry')}\")"
   ]
  },
  {
   "cell_type": "markdown",
   "metadata": {},
   "source": [
    "## count()\n",
    "\n",
    "Used to count the number of occurrences of a specified element in a list."
   ]
  },
  {
   "cell_type": "code",
   "execution_count": 24,
   "metadata": {},
   "outputs": [
    {
     "name": "stdout",
     "output_type": "stream",
     "text": [
      "Count using a loop: 13\n",
      "\n",
      "Count using a built-in \"count()\" function: 13\n"
     ]
    }
   ],
   "source": [
    "ones_zeroes = [1,0,0,0,1,1,0,1,0,0,1,0,1,0,0,1,1,1,1,0,0,1, 1,1, 0,0, 1]\n",
    "\n",
    "count_zeroes = 0\n",
    "for number in ones_zeroes:\n",
    "    if number == 0:\n",
    "        count_zeroes += 1\n",
    "print(f'Count using a loop: {count_zeroes}\\n')\n",
    "\n",
    "print(f'Count using a built-in \"count()\" function: {ones_zeroes.count(0)}')"
   ]
  },
  {
   "cell_type": "markdown",
   "metadata": {},
   "source": [
    "***NOTE:*** when possible, use built-in methods. Although the algorithm may be the same, there may be a big difference in efficency, potentially"
   ]
  },
  {
   "cell_type": "markdown",
   "metadata": {},
   "source": [
    "## sort()\n",
    "\n",
    "Used to sort the elements of a list in place.\n",
    "\n",
    "`list.sort(key=None, reverse=False)`\n",
    "\n",
    "where:\n",
    "\n",
    "* `key`: (optional) a function that specifies the sorting criteria. If provided, the elements of the list are sorted based on the result of applying the key function to each element.\n",
    "* `reverse`: (optional) a boolean value indicating whether the list should be sorted in descending order (True) or ascending order (False). By default, it's False, indicating ascending order"
   ]
  },
  {
   "cell_type": "code",
   "execution_count": 27,
   "metadata": {},
   "outputs": [
    {
     "name": "stdout",
     "output_type": "stream",
     "text": [
      "The original \"numbers\" list: [1, 0, 17, 3, 4, 2, 6, 7, 8, 9, 10, -1, 2, 56, -20]\n",
      "\n",
      "The sorted \"numbers\" list: [-20, -1, 0, 1, 2, 2, 3, 4, 6, 7, 8, 9, 10, 17, 56]\n",
      "\n",
      "The reversely sorted \"numbers\" list: [56, 17, 10, 9, 8, 7, 6, 4, 3, 2, 2, 1, 0, -1, -20]\n",
      "\n"
     ]
    }
   ],
   "source": [
    "numbers = [1,0,17,3,4,2,6,7,8,9,10, -1, 2,56,-20]\n",
    "\n",
    "print(f'The original \"numbers\" list: {numbers}\\n')\n",
    "\n",
    "numbers.sort()\n",
    "print(f'The sorted \"numbers\" list: {numbers}\\n')\n",
    "\n",
    "numbers = [1,0,17,3,4,2,6,7,8,9,10, -1, 2,56,-20]  # Just to go back to original list\n",
    "numbers.sort(reverse=True)\n",
    "print(f'The reversely sorted \"numbers\" list: {numbers}\\n')\n",
    "\n"
   ]
  },
  {
   "cell_type": "markdown",
   "metadata": {},
   "source": [
    "Alternatively, you can used function `sorted()` to sort the list but as a different object (i.e makes a copy of the original list)"
   ]
  },
  {
   "cell_type": "code",
   "execution_count": 33,
   "metadata": {},
   "outputs": [
    {
     "name": "stdout",
     "output_type": "stream",
     "text": [
      "The ID of \"numbers\": 140294009617920\n",
      "\n",
      "The sorted \"numbers list: [-20, -1, 0, 1, 2, 2, 3, 4, 6, 7, 8, 9, 10, 17, 56]\"\n",
      "\n",
      "The ID of \"sorted_numbers\": 140294004486784\n"
     ]
    }
   ],
   "source": [
    "numbers = [1,0,17,3,4,2,6,7,8,9,10, -1, 2,56,-20]\n",
    "\n",
    "print(f'The ID of \"numbers\": {id(numbers)}\\n')\n",
    "\n",
    "sorted_numbers = sorted(numbers)\n",
    "print(f'The sorted \"numbers list: {sorted_numbers}\"\\n')\n",
    "\n",
    "print(f'The ID of \"sorted_numbers\": {id(sorted_numbers)}')"
   ]
  },
  {
   "cell_type": "code",
   "execution_count": 29,
   "metadata": {},
   "outputs": [
    {
     "name": "stdout",
     "output_type": "stream",
     "text": [
      "('Charlie', 75)\n",
      "('David', 80)\n",
      "('Alice', 85)\n",
      "('Bob', 90)\n"
     ]
    }
   ],
   "source": [
    "# List of tuples representing students with their names and corresponding scores\n",
    "students = [(\"Alice\", 85), \n",
    "            (\"Bob\", 90), \n",
    "            (\"Charlie\", 75), \n",
    "            (\"David\", 80)]\n",
    "\n",
    "# Define a function to extract the score from a student tuple\n",
    "def get_score(student):\n",
    "    return student[1]\n",
    "\n",
    "# Sort the list of students based on their scores (in ascending order) using the get_score function\n",
    "students.sort(key=get_score)\n",
    "\n",
    "# Print the sorted list of students\n",
    "for student in students:\n",
    "    print(student)"
   ]
  },
  {
   "cell_type": "code",
   "execution_count": 37,
   "metadata": {},
   "outputs": [
    {
     "name": "stdout",
     "output_type": "stream",
     "text": [
      "('lettuce', 'vegetable')\n",
      "('pickles', 'vegetable')\n",
      "('zuccini', 'vegetable')\n",
      "('apple', 'fruit')\n",
      "('orange', 'fruit')\n",
      "('tomatoe', 'fruit')\n"
     ]
    }
   ],
   "source": [
    "fruits_and_vegetables = [('orange', 'fruit'), \n",
    "                         ('pickles', 'vegetable'), \n",
    "                         ('apple', 'fruit'), \n",
    "                         ('zuccini', 'vegetable'), \n",
    "                         ('lettuce', 'vegetable'), \n",
    "                         ('tomatoe', 'fruit')]\n",
    "\n",
    "def categories(item):\n",
    "    return item[1] \n",
    "\n",
    "fruits_and_vegetables.sort()\n",
    "fruits_and_vegetables.sort(reverse=True, key=categories)\n",
    "\n",
    "for item in fruits_and_vegetables:\n",
    "    print(item)"
   ]
  },
  {
   "cell_type": "markdown",
   "metadata": {},
   "source": [
    "## reverse()\n",
    "\n",
    "Used to reverse the elements of a list in place."
   ]
  },
  {
   "cell_type": "code",
   "execution_count": 52,
   "metadata": {},
   "outputs": [
    {
     "name": "stdout",
     "output_type": "stream",
     "text": [
      "numbers = [1, 0, 17, 3, 4, 2, 6, 7, 8, 9, 10, -1, 2, 56, -20]\n",
      "\n",
      "The numbers reversed manually: [-20, 56, 2, -1, 10, 9, 8, 7, 6, 2, 4, 3, 17, 0, 1]\n",
      "The numbers reversed using \"reverse()\": [-20, 56, 2, -1, 10, 9, 8, 7, 6, 2, 4, 3, 17, 0, 1]\n",
      "The numbers reversed using slicing: [-20, 56, 2, -1, 10, 9, 8, 7, 6, 2, 4, 3, 17, 0, 1]\n"
     ]
    }
   ],
   "source": [
    "numbers = [1,0,17,3,4,2,6,7,8,9,10, -1, 2,56,-20]\n",
    "print(f'numbers = {numbers}\\n')\n",
    "\n",
    "# To reverse manually\n",
    "i, j = 0, len(numbers) - 1\n",
    "while i != j and i < j:\n",
    "    #tmp = numbers[i]\n",
    "    #numbers[i] = numbers[j]\n",
    "    #numbers[j] = tmp\n",
    "    numbers[i], numbers[j] = numbers[j], numbers[i]\n",
    "    i += 1\n",
    "    j -= 1\n",
    "print(f'The numbers reversed manually: {numbers}')  \n",
    "\n",
    "numbers = [1,0,17,3,4,2,6,7,8,9,10, -1, 2,56,-20]\n",
    "numbers.reverse()\n",
    "print(f'The numbers reversed using \"reverse()\": {numbers}')  \n",
    "\n",
    "numbers = [1,0,17,3,4,2,6,7,8,9,10, -1, 2,56,-20]\n",
    "numbers = numbers[::-1]\n",
    "print(f'The numbers reversed using slicing: {numbers}')"
   ]
  },
  {
   "cell_type": "markdown",
   "metadata": {},
   "source": [
    "## Methods and Attributes of a Tuple\n",
    "\n",
    "To check them , we may use `__dir__()`\n",
    "\n",
    "Remember, a tuple is:\n",
    "\n",
    "1. ***Ordered***\n",
    "2. ***Inmutable***\n",
    "\n",
    "```\n",
    "numbers = (1, 2, 3)\n",
    "\n",
    "for method in numbers.__dir__():\n",
    "    print(method)\n",
    "```"
   ]
  },
  {
   "cell_type": "markdown",
   "metadata": {},
   "source": [
    "Aparte from the Dunder (Magic) methods, we have these for lists:\n",
    "\n",
    "* count\n",
    "* index\n"
   ]
  },
  {
   "cell_type": "code",
   "execution_count": 58,
   "metadata": {},
   "outputs": [
    {
     "name": "stdout",
     "output_type": "stream",
     "text": [
      "The tuple \"people\" = (['Juan', 'Rosas', 39, ['UABC', 'UofT']], ['Luis', 'Rosas', 36, ['UABC']], ['Maria Elena', 'Bonilla', 70, ['UAG']], ['Carlos', 'Rosas', 75, ['UAG']])\n",
      "\n",
      "Person3 is in index 2\n"
     ]
    }
   ],
   "source": [
    "person1 = ['Juan', 'Rosas', 39, ['UABC', 'UofT']]\n",
    "person2 = ['Luis', 'Rosas', 36, ['UABC']]\n",
    "person3 = ['Maria Elena', 'Bonilla', 70, ['UAG']]\n",
    "person4 = ['Carlos', 'Rosas', 75, ['UAG']]\n",
    "\n",
    "people = (person1, person2, person3, person4)  # This is a tuple made up of lists\n",
    "print(f'The tuple \"people\" = {people}')\n",
    "\n",
    "# You can get the index of a given element using index()\n",
    "print(f'\\nPerson3 is in index {people.index(person3)}')  "
   ]
  },
  {
   "cell_type": "markdown",
   "metadata": {},
   "source": [
    "##### UNPACKING IN TUPLES :\n",
    "Just as in lists"
   ]
  },
  {
   "cell_type": "code",
   "execution_count": 62,
   "metadata": {},
   "outputs": [
    {
     "name": "stdout",
     "output_type": "stream",
     "text": [
      "p1 = ['Juan', 'Rosas', 39, ['UABC', 'UofT']]\n",
      "middle = [['Luis', 'Rosas', 36, ['UABC']], ['Maria Elena', 'Bonilla', 70, ['UAG']]] (note it is a list)\n",
      "p4 = ['Carlos', 'Rosas', 75, ['UAG']]\n",
      "\n",
      "middle as a tuple: (['Luis', 'Rosas', 36, ['UABC']], ['Maria Elena', 'Bonilla', 70, ['UAG']])\n"
     ]
    }
   ],
   "source": [
    "p1, *middle, p4 = people\n",
    "\n",
    "print(f'p1 = {p1}')\n",
    "print(f'middle = {middle} (note it is a list)')  # Note: unpacking with wild cards (*) always gives a list\n",
    "print(f'p4 = {p4}\\n')\n",
    "\n",
    "middle = tuple(middle)\n",
    "print(f'middle as a tuple: {middle}')\n"
   ]
  },
  {
   "cell_type": "markdown",
   "metadata": {},
   "source": [
    "## `__add__` method for tuples\n",
    "\n",
    "Serves to concatenate two tuples. It creates a new object in the process, same as in lists"
   ]
  },
  {
   "cell_type": "code",
   "execution_count": 72,
   "metadata": {},
   "outputs": [
    {
     "name": "stdout",
     "output_type": "stream",
     "text": [
      "tuple numbers: (1, 2, 3, 4, 5),  ID = 140294019111648\n",
      "tuple (numbers + number): (1, 2, 3, 4, 5, 6), ID = 140294018836320\n"
     ]
    }
   ],
   "source": [
    "numbers = (1,2,3,4,5)\n",
    "number = (6,)  # NOTE: when creating a tuple with only one element, need to add a comma\n",
    "\n",
    "numbers_2 = numbers + number\n",
    "\n",
    "print(f'tuple numbers: {numbers},  ID = {id(numbers)}')\n",
    "print(f'tuple (numbers + number): {numbers_2}, ID = {id(numbers_2)}')"
   ]
  },
  {
   "cell_type": "markdown",
   "metadata": {},
   "source": [
    "## Can you modify a tuple?\n",
    "Short answer: NO, IT IS INMUTABLE\n",
    "\n",
    "But....you can modify objects inside the tuple that are mutable (like lists)"
   ]
  },
  {
   "cell_type": "code",
   "execution_count": 86,
   "metadata": {},
   "outputs": [
    {
     "name": "stdout",
     "output_type": "stream",
     "text": [
      "The tuple \"people\" = (['Juan', 'Rosas', 39, ['UABC', 'UofT']], ['Luis', 'Rosas', 36, ['UABC']], ['Maria Elena', 'Bonilla', 70, ['UAG']], ['Carlos', 'Rosas', 75, ['UAG']])\n",
      "\n",
      "The new tuple \"people\" = (['Juan', 'Rosas', 39, ['UABC', 'UofT']], ['Luis', 'Rosas', 36, ['UABC']], ['Maria Elena', 'Bonilla', 70, ['UAG']], ['Carlos', 'Rosas', 75, ['UAG']], ['Jose', 'perez', 15, ['UNAM']]),\n",
      "with ID = 140294018469216\n"
     ]
    }
   ],
   "source": [
    "person1 = ['Juan', 'Rosas', 39, ['UABC', 'UofT']]\n",
    "person2 = ['Luis', 'Rosas', 36, ['UABC']]\n",
    "person3 = ['Maria Elena', 'Bonilla', 70, ['UAG']]\n",
    "person4 = ['Carlos', 'Rosas', 75, ['UAG']]\n",
    "\n",
    "person5 = (['Jose', 'perez', 15, ['UNAM']], )  # Need to convert it to tuple to concatenate \n",
    "\n",
    "people = (person1, person2, person3, person4)  # This is a tuple made up of lists\n",
    "print(f'The tuple \"people\" = {people}\\n')\n",
    "\n",
    "people = people + person5  # Here I created a new tuple \n",
    "print(f'The new tuple \"people\" = {people},\\nwith ID = {id(people)}')\n"
   ]
  },
  {
   "cell_type": "markdown",
   "metadata": {},
   "source": [
    "Now suppose I want to change the age of one person"
   ]
  },
  {
   "cell_type": "code",
   "execution_count": 81,
   "metadata": {},
   "outputs": [
    {
     "name": "stdout",
     "output_type": "stream",
     "text": [
      "\"people\" = (['Juan', 'Rosas', 39, ['UABC', 'UofT']], ['Luis', 'Rosas', 100, ['UABC']], ['Maria Elena', 'Bonilla', 70, ['UAG']], ['Carlos', 'Rosas', 75, ['UAG']], ['Jose', 'perez', 15, ['UNAM']]),\n",
      "with ID = 140294019086032\n"
     ]
    }
   ],
   "source": [
    "people[1][2] = 100  # Change age of Luis from 36 to 100\n",
    "\n",
    "print(f'\"people\" = {people},\\nwith ID = {id(people)}')"
   ]
  },
  {
   "cell_type": "markdown",
   "metadata": {},
   "source": [
    "<u>***IMPORTANT:***</u> tuples are immutable, which means that once they are created, their contents cannot be modified. However, this immutability applies only to the tuple itself, not to the objects that the tuple contains. If a tuple contains mutable objects, such as lists, dictionaries, or other mutable types, you can modify the contents of those mutable objects, even though the tuple itself remains immutable."
   ]
  },
  {
   "cell_type": "code",
   "execution_count": 89,
   "metadata": {},
   "outputs": [
    {
     "name": "stdout",
     "output_type": "stream",
     "text": [
      "The age of person1 = person1[2] = 200\n",
      "The new of person1 = person1[2] = 200\n",
      "\n",
      "This changed will be shown in the tuple\n",
      "\"people\" = (['Juan', 'Rosas', 200, ['UABC', 'UofT']], ['Luis', 'Rosas', 36, ['UABC']], ['Maria Elena', 'Bonilla', 70, ['UAG']], ['Carlos', 'Rosas', 75, ['UAG']], ['Jose', 'perez', 15, ['UNAM']])\n"
     ]
    }
   ],
   "source": [
    "print(f'The age of person1 = person1[2] = {person1[2]}')\n",
    "person1[2] = 200  # Change the age of Juan to 200, but now modyfying the object inside the tuple\n",
    "print(f'The new of person1 = person1[2] = {person1[2]}')\n",
    "\n",
    "\n",
    "# Will this change be reflected in the tuple people?......\n",
    "print('\\nThis changed will be shown in the tuple')\n",
    "print(f'\"people\" = {people}')"
   ]
  },
  {
   "cell_type": "code",
   "execution_count": null,
   "metadata": {},
   "outputs": [],
   "source": []
  }
 ],
 "metadata": {
  "kernelspec": {
   "display_name": "jcrosas-Python_meetings",
   "language": "python",
   "name": "python3"
  },
  "language_info": {
   "codemirror_mode": {
    "name": "ipython",
    "version": 3
   },
   "file_extension": ".py",
   "mimetype": "text/x-python",
   "name": "python",
   "nbconvert_exporter": "python",
   "pygments_lexer": "ipython3",
   "version": "3.9.18"
  }
 },
 "nbformat": 4,
 "nbformat_minor": 2
}

{
 "cells": [
  {
   "cell_type": "markdown",
   "metadata": {},
   "source": [
    "## iter()\n",
    "\n",
    "It is used to convert an ***iterable*** to an ***iterator***\n",
    "\n",
    "* ***iterable***: an iterable is any object in Python which can be looped over using a loop.\n",
    "\n",
    "* ***iterator***: an iterator is an object that contains a countable number of values. Also, it is an object that can be iterated upon, meaning that you can traverse through all the values. Technically, in Python, an iterator is an object which implements the iterator protocol, which consist of the methods ```__iter__()``` and ```__next__()```.\n",
    "\n",
    "Lists, tuples, dictionaries, and sets are all iterable objects. They are iterable containers which you can get an iterator from.\n",
    "\n",
    "The `iter()` method has the following syntax\n",
    "```\n",
    "    iter(obj, sentinel)\n",
    "```\n",
    "where:\n",
    "\n",
    "* `obj` is the object that will be converted to an iterator\n",
    "\n",
    "* `sentinel` is the value used to represent end of sequence"
   ]
  },
  {
   "cell_type": "code",
   "execution_count": 5,
   "metadata": {},
   "outputs": [
    {
     "name": "stdout",
     "output_type": "stream",
     "text": [
      "The tuple of fruits is: ('apple', 'banana', 'cherry', 'orange', 'pineapple')\n",
      "\n",
      "apple\n",
      "banana\n",
      "cherry\n",
      "orange\n",
      "pineapple\n"
     ]
    }
   ],
   "source": [
    "fruits = (\"apple\", \"banana\", \"cherry\", \"orange\", \"pineapple\")\n",
    "\n",
    "# Create iterator\n",
    "fruits_iterator = iter(fruits)\n",
    "\n",
    "print(f'The tuple of fruits is: {fruits}\\n')\n",
    "print(next(fruits_iterator))\n",
    "print(next(fruits_iterator))\n",
    "print(next(fruits_iterator))\n",
    "print(next(fruits_iterator))\n",
    "print(next(fruits_iterator))\n"
   ]
  },
  {
   "cell_type": "markdown",
   "metadata": {},
   "source": [
    "A string is also an iterable that can be turned to an iterator"
   ]
  },
  {
   "cell_type": "code",
   "execution_count": 9,
   "metadata": {},
   "outputs": [
    {
     "name": "stdout",
     "output_type": "stream",
     "text": [
      "The string is: abcde\n",
      "\n",
      "a\n",
      "b\n",
      "c\n",
      "d\n",
      "e\n"
     ]
    }
   ],
   "source": [
    "string1 = 'abcde'\n",
    "\n",
    "# Create iterator \n",
    "string1_iterator = iter(string1)\n",
    "\n",
    "print(f'The string is: {string1}\\n')\n",
    "print(next(string1_iterator))\n",
    "print(next(string1_iterator))\n",
    "print(next(string1_iterator))\n",
    "print(next(string1_iterator))\n",
    "print(next(string1_iterator))"
   ]
  },
  {
   "cell_type": "markdown",
   "metadata": {},
   "source": [
    "You may also loop through an iterator"
   ]
  },
  {
   "cell_type": "code",
   "execution_count": 15,
   "metadata": {},
   "outputs": [
    {
     "name": "stdout",
     "output_type": "stream",
     "text": [
      "apple\n",
      "banana\n",
      "cherry\n",
      "orange\n",
      "pineapple\n"
     ]
    }
   ],
   "source": [
    "fruits = (\"apple\", \"banana\", \"cherry\", \"orange\", \"pineapple\")\n",
    "\n",
    "# Create iterator\n",
    "fruits_iterator = iter(fruits)\n",
    "\n",
    "for fruit in fruits_iterator:\n",
    "    print(fruit)\n"
   ]
  },
  {
   "cell_type": "code",
   "execution_count": 31,
   "metadata": {},
   "outputs": [
    {
     "name": "stdout",
     "output_type": "stream",
     "text": [
      "apple\n",
      "banana\n",
      "cherry\n",
      "orange\n",
      "pineapple\n"
     ]
    }
   ],
   "source": [
    "# Alternatively, iterate using the __next__() method\n",
    "my_iterator = iter(fruits)\n",
    "try:\n",
    "    while True:\n",
    "        item = next(my_iterator)\n",
    "        print(item)\n",
    "except StopIteration:\n",
    "    pass"
   ]
  },
  {
   "cell_type": "code",
   "execution_count": 34,
   "metadata": {},
   "outputs": [
    {
     "name": "stdout",
     "output_type": "stream",
     "text": [
      "The tuple of fruits is: ('apple', 'banana', 'cherry', 'orange', 'pineapple')\n",
      "\n",
      "apple\n",
      "banana\n",
      "cherry\n",
      "orange\n",
      "pineapple\n",
      "\n",
      "You will gte an error if you try to iterate further\n"
     ]
    }
   ],
   "source": [
    "fruits = (\"apple\", \"banana\", \"cherry\", \"orange\", \"pineapple\")\n",
    "\n",
    "# Create iterator\n",
    "fruits_iterator = iter(fruits)\n",
    "\n",
    "print(f'The tuple of fruits is: {fruits}\\n')\n",
    "print(next(fruits_iterator))\n",
    "print(next(fruits_iterator))\n",
    "print(next(fruits_iterator))\n",
    "print(next(fruits_iterator))\n",
    "print(next(fruits_iterator))\n",
    "\n",
    "try:\n",
    "    print(next(fruits_iterator))  # Additonal 'next'....won't work\n",
    "except StopIteration:\n",
    "    print('\\nYou will gte an error if you try to iterate further')"
   ]
  },
  {
   "cell_type": "markdown",
   "metadata": {},
   "source": [
    "##### What is the Walrus Operator?\n",
    "\n",
    "It allows you to assign a value to a variable as part of an expression. No need to assign the value to the expression before"
   ]
  },
  {
   "cell_type": "code",
   "execution_count": 1,
   "metadata": {},
   "outputs": [
    {
     "name": "stdout",
     "output_type": "stream",
     "text": [
      "5\n",
      "4\n"
     ]
    }
   ],
   "source": [
    "# Assigning a value to a variable and then using it\n",
    "x = 5\n",
    "if x > 3:\n",
    "    print(x)\n",
    "\n",
    "# Using the walrus operator to assign a value to a variable within an expression\n",
    "if (x := 4) > 3:\n",
    "    print(x)"
   ]
  },
  {
   "cell_type": "code",
   "execution_count": 13,
   "metadata": {},
   "outputs": [
    {
     "name": "stdout",
     "output_type": "stream",
     "text": [
      "orange fruit\n",
      "apple fruit\n",
      "tomatoe fruit\n",
      "lettuce vegetable\n"
     ]
    }
   ],
   "source": [
    "fruits_and_vegetables = [('orange', 'fruit'), \n",
    "                         ('apple', 'fruit'), \n",
    "                         ('tomatoe', 'fruit'), \n",
    "                         ('lettuce', 'vegetable'), \n",
    "                         ('pickles', 'vegetable'), \n",
    "                         ('zuccini', 'vegetable')]\n",
    "\n",
    "i = iter(fruits_and_vegetables)\n",
    "while item := next(i):  # Here you are assigning next(i) to the variable 'item' using the walrus operator\n",
    "    name, type = item\n",
    "    if name == 'pickles':\n",
    "        break\n",
    "    print(name, type)"
   ]
  },
  {
   "cell_type": "code",
   "execution_count": 11,
   "metadata": {},
   "outputs": [
    {
     "name": "stdout",
     "output_type": "stream",
     "text": [
      "orange fruit\n",
      "apple fruit\n",
      "tomatoe fruit\n",
      "lettuce vegetable\n"
     ]
    }
   ],
   "source": [
    "i = iter(fruits_and_vegetables)\n",
    "name, type = next(i)\n",
    "while name != 'pickles':\n",
    "    print(name, type)\n",
    "    name, type = next(i, None)"
   ]
  },
  {
   "cell_type": "markdown",
   "metadata": {},
   "source": [
    "You can also add a second argument to `next`, is a default value to return if the iterator is exhausted."
   ]
  },
  {
   "cell_type": "code",
   "execution_count": 22,
   "metadata": {},
   "outputs": [
    {
     "name": "stdout",
     "output_type": "stream",
     "text": [
      "The tuple of fruits is: ('apple', 'banana', 'cherry', 'orange', 'pineapple')\n",
      "\n",
      "apple\n",
      "banana\n",
      "cherry\n",
      "orange\n",
      "pineapple\n",
      "no more values\n"
     ]
    }
   ],
   "source": [
    "fruits = (\"apple\", \"banana\", \"cherry\", \"orange\", \"pineapple\")\n",
    "\n",
    "# Create iterator\n",
    "fruits_iterator = iter(fruits)\n",
    "\n",
    "print(f'The tuple of fruits is: {fruits}\\n')\n",
    "print(next(fruits_iterator, 'no more values'))\n",
    "print(next(fruits_iterator, 'no more values'))\n",
    "print(next(fruits_iterator, 'no more values'))\n",
    "print(next(fruits_iterator, 'no more values'))\n",
    "print(next(fruits_iterator, 'no more values'))\n",
    "\n",
    "# If end is reached, print second argument\n",
    "print(next(fruits_iterator, 'no more values'))"
   ]
  },
  {
   "cell_type": "markdown",
   "metadata": {},
   "source": [
    "You can also use it to stop iteration:"
   ]
  },
  {
   "cell_type": "code",
   "execution_count": 24,
   "metadata": {},
   "outputs": [
    {
     "name": "stdout",
     "output_type": "stream",
     "text": [
      "1\n",
      "2\n",
      "3\n",
      "4\n",
      "5\n"
     ]
    }
   ],
   "source": [
    "numbers = [1,2,3,4,5]\n",
    "numbers_iterator = iter(numbers)\n",
    "\n",
    "while True:\n",
    "    item = next(numbers_iterator, None)  # None is used as the default value to indicate the end of iteration\n",
    "    if item is None:  # If the default value is returned, indicating the end of iteration\n",
    "        break  # Exit the loop\n",
    "    print(item)"
   ]
  },
  {
   "cell_type": "markdown",
   "metadata": {},
   "source": [
    "Or also:"
   ]
  },
  {
   "cell_type": "code",
   "execution_count": 25,
   "metadata": {},
   "outputs": [
    {
     "name": "stdout",
     "output_type": "stream",
     "text": [
      "apple\n",
      "banana\n",
      "cherry\n",
      "orange\n",
      "pineapple\n"
     ]
    }
   ],
   "source": [
    "fruits = (\"apple\", \"banana\", \"cherry\", \"orange\", \"pineapple\")\n",
    "\n",
    "# Create iterator\n",
    "fruits_iterator = iter(fruits)\n",
    "\n",
    "next_fruit = next(fruits_iterator)\n",
    "while  next_fruit:\n",
    "    print(next_fruit)\n",
    "    next_fruit = next(fruits_iterator, False)"
   ]
  },
  {
   "cell_type": "markdown",
   "metadata": {},
   "source": [
    "Another way to write the same in a more concise manner using the **walrus operator**"
   ]
  },
  {
   "cell_type": "code",
   "execution_count": 26,
   "metadata": {},
   "outputs": [
    {
     "name": "stdout",
     "output_type": "stream",
     "text": [
      "apple\n",
      "banana\n",
      "cherry\n",
      "orange\n",
      "pineapple\n"
     ]
    }
   ],
   "source": [
    "fruits = (\"apple\", \"banana\", \"cherry\", \"orange\", \"pineapple\")\n",
    "\n",
    "# Create iterator\n",
    "fruits_iterator = iter(fruits)\n",
    "\n",
    "while  item := next(fruits_iterator, False):\n",
    "    print(item)"
   ]
  },
  {
   "cell_type": "markdown",
   "metadata": {},
   "source": [
    "If I wanted it to stop when it reaches 'orange', you can do this (WARNING: Notice the expression in the while with the walrus operator is in parenthesis):"
   ]
  },
  {
   "cell_type": "code",
   "execution_count": 27,
   "metadata": {},
   "outputs": [
    {
     "name": "stdout",
     "output_type": "stream",
     "text": [
      "apple\n",
      "banana\n",
      "cherry\n"
     ]
    }
   ],
   "source": [
    "fruits = (\"apple\", \"banana\", \"cherry\", \"orange\", \"pineapple\")\n",
    "\n",
    "# Create iterator\n",
    "fruits_iterator = iter(fruits)\n",
    "\n",
    "while  (item := next(fruits_iterator, False)) != 'orange':\n",
    "    print(item)"
   ]
  },
  {
   "cell_type": "markdown",
   "metadata": {},
   "source": [
    "## Dunder Methods\n",
    "Also known as magic methods or special methods. Dunder methods provide a way to define how objects behave in various contexts, such as arithmetic operations, comparisons, and iteration. These methods are automatically invoked by the Python interpreter in response to certain operations on objects of a class. The double underscores flag these methods as core to some Python features. They help avoid name collisions with your own methods and attributes.\n",
    "\n",
    "From https://docs.python.org/3/glossary.html#term-special-method: \"A method that is called implicitly by Python to execute a certain operation on a type, such as addition. Such methods have names starting and ending with double underscores.\""
   ]
  },
  {
   "cell_type": "markdown",
   "metadata": {},
   "source": [
    "## Unpacking"
   ]
  },
  {
   "cell_type": "code",
   "execution_count": 34,
   "metadata": {},
   "outputs": [],
   "source": [
    "# person# = [Name, Last Name, Age, University]\n",
    "person1 = ['Juan', 'Rosas', 39, ['UABC', 'UofT']]\n",
    "person2 = ['Luis', 'Rosas', 36, ['UABC']]\n",
    "person3 = ['Maria Elena', 'Bonilla', 70, ['UAG']]\n",
    "person4 = ['Carlos', 'Rosas', 75, ['UAG']]\n",
    "\n",
    "persons = [person1, person2, person3, person4]\n",
    "\n",
    "for person in persons:\n",
    "    name, last_name, age, university = person  # Unpacking\n",
    "\n",
    "# if only want the age, use underscores for other variables\n",
    "for person in persons:\n",
    "    _, _, age, _ = person  # Unpacking\n",
    "\n",
    "# If you only want the name, use *\n",
    "for person in persons:\n",
    "    name, *_others = person  # Unpacking\n"
   ]
  },
  {
   "cell_type": "code",
   "execution_count": null,
   "metadata": {},
   "outputs": [],
   "source": []
  }
 ],
 "metadata": {
  "kernelspec": {
   "display_name": "jcrosas-Python_meetings",
   "language": "python",
   "name": "python3"
  },
  "language_info": {
   "codemirror_mode": {
    "name": "ipython",
    "version": 3
   },
   "file_extension": ".py",
   "mimetype": "text/x-python",
   "name": "python",
   "nbconvert_exporter": "python",
   "pygments_lexer": "ipython3",
   "version": "3.9.18"
  }
 },
 "nbformat": 4,
 "nbformat_minor": 2
}

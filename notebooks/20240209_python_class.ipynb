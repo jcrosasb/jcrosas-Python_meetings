{
 "cells": [
  {
   "cell_type": "markdown",
   "metadata": {},
   "source": [
    "## Create a virtual environment using 'venv'"
   ]
  },
  {
   "cell_type": "markdown",
   "metadata": {},
   "source": [
    "1. Create the Virtual Environment:\n",
    "\n",
    "    `>> python3 -m venv <env_name>`\n",
    "\n",
    "2. Activate the Virtual Environment\n",
    "\n",
    "    `>> source <env_name>/bin/activate`\n",
    "\n",
    "3. Install Packages (Optional):\n",
    "\n",
    "    `>> pip install <package_name>`\n",
    "\n",
    "4. Deactivate the Virtual Environment\n",
    "\n",
    "    `>> deactivate`"
   ]
  },
  {
   "cell_type": "markdown",
   "metadata": {},
   "source": [
    "##### NOTE ON THE NAMING OF THE ENVIRONMENT\n",
    "\n",
    "Naming a virtual environment directory as ***.venv*** is a common convention in Python projects. Here's why it's commonly used:\n",
    "\n",
    "1. Hidden Directory: Directories and files in Unix-based systems (such as Linux and macOS) that start with a dot (.) are treated as hidden directories or files by default. This means they are not  displayed when listing directory contents with commands like ls unless the -a flag is used. Naming the virtual environment directory as .venv makes it hidden by default, keeping the project directory clean and reducing clutter.\n",
    "\n",
    "2. Convention: Using .venv as the name for the virtual environment directory has become a widely recognized convention in the Python community. Many developers are familiar with this convention, making it easy to understand and follow in Python projects.\n",
    "\n",
    "3. Clarity: The .venv name clearly indicates that the directory contains a virtual environment. This can be helpful when navigating the project directory structure, especially in projects with multiple virtual environments or complex setups.\n",
    "\n",
    "3. Consistency: Consistency in naming conventions across different projects and environments can make it easier for developers to switch between projects and understand the structure of unfamiliar     projects.\n",
    "\n",
    "While using .venv is a common convention, you are free to choose any name for your virtual environment directory. However, following established conventions can make your project more accessible to other developers and contribute to a more consistent and organized project structure."
   ]
  },
  {
   "cell_type": "markdown",
   "metadata": {},
   "source": [
    "##### INSTALL NEW PACKAGES IN VIRTUAL ENVIRONMENT\n",
    "\n",
    "To installs new packages in the virtual env, first you activate the enviroment:\n",
    "\n",
    "`>> source <env_name>/bin/activate`\n",
    "\n",
    "then do:\n",
    "\n",
    "`>> pip install <package>`\n",
    "\n",
    "You can also install from a `reequierements.txt` file. The file cna have something like:\n",
    "\n",
    "```\n",
    "pandas==1.3.3\n",
    "numpy==1.21.2\n",
    "```\n",
    "\n",
    "Then you cna run it as:\n",
    "\n",
    "`>> pip install -r requirements.txt`\n",
    "\n",
    "To check what packages have been installed, do:\n",
    "\n",
    "`>> pip list`"
   ]
  },
  {
   "cell_type": "markdown",
   "metadata": {},
   "source": [
    "<u>***What is the -m flag?***</u>\n",
    "\n",
    "In Python, the -m option is a command-line switch that allows you to run a module as a script. It stands for \"module\" and is used with the python command to execute a module directly from the command line.\n",
    "\n",
    "It adds the current working directory to sys.path and enables relative imports."
   ]
  },
  {
   "cell_type": "markdown",
   "metadata": {},
   "source": [
    "<u>***Definitions***</u>\n",
    "\n",
    "* ***Script***: Python file meant to be run with the command line interface.\n",
    "\n",
    "* ***Module***: Python file meant to be imported.\n",
    "\n",
    "* ***Package***: directory containing modules/packages."
   ]
  },
  {
   "cell_type": "markdown",
   "metadata": {},
   "source": [
    "## How to import local modules with Python\n",
    "\n",
    "Suppose you have the following proyect structure:\n",
    "\n",
    "```\n",
    "project\n",
    "├── e.py\n",
    "└── src\n",
    "    ├── a\n",
    "    │   └── b.py\n",
    "    └── c\n",
    "        └── d.py\n",
    "```\n",
    "\n",
    "and then suppose you want to run ```d.py``` from ```b.py``` (i.e. `b.py` contains ```import src.c.d```):\n",
    "\n",
    "```>>python3 src/a/b.py```"
   ]
  },
  {
   "cell_type": "markdown",
   "metadata": {},
   "source": [
    "1. <u>***Add root to sys.path:***</u>\n",
    "\n",
    "    ```\n",
    "    from pathlib import Path\n",
    "    import sys\n",
    "    path_root = Path(__file__).parents[2]\n",
    "    sys.path.append(str(path_root))\n",
    "    print(sys.path)\n",
    "                    \n",
    "    import src.c.d \n",
    "    ```\n",
    "\n",
    "2. <u>***Run as a module:***</u>\n",
    "   \n",
    "   You have to use relative imports:\n",
    "\n",
    "   ```\n",
    "   from ..c import d\n",
    "   ```\n",
    "\n",
    "   Then you can run the file as a module:\n",
    "\n",
    "   ```\n",
    "   >>python -m src.a.b\n",
    "   ```\n",
    "\n",
    "3. <u>***modify PYTHONPATH***</u>"
   ]
  },
  {
   "cell_type": "markdown",
   "metadata": {},
   "source": [
    "## What is `__init__.py`?\n",
    "\n",
    "It is a special Python file that serves two main purposes:\n",
    "\n",
    "1. ***Package Initialization***:\n",
    "\n",
    "    When a directory contains an __init__.py file, Python treats it as a Python package. The __init__.py file is executed when the package is imported, and it can contain Python code to initialize the package's contents, set up package-level variables, or perform any other initialization tasks.\n",
    "\n",
    "2. ***Namespace Package Indicator***:\n",
    "\n",
    "    The presence of an __init__.py file in a directory indicates to Python that the directory is a package. This allows other Python modules and packages to import from it using dot notation. In this case, `__init__.py` can be an empty file, containing no code at all. In this case, it serves as a marker to Python that the directory is a package, but it doesn't perform any initialization tasks."
   ]
  },
  {
   "cell_type": "markdown",
   "metadata": {},
   "source": []
  }
 ],
 "metadata": {
  "language_info": {
   "name": "python"
  }
 },
 "nbformat": 4,
 "nbformat_minor": 2
}

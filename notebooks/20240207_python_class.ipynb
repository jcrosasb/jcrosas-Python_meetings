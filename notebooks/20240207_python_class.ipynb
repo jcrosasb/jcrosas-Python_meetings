{
 "cells": [
  {
   "cell_type": "markdown",
   "metadata": {},
   "source": [
    "## Review of a noop function"
   ]
  },
  {
   "cell_type": "code",
   "execution_count": 10,
   "metadata": {},
   "outputs": [],
   "source": [
    "def noop(_):\n",
    "    pass\n",
    "\n",
    "# Remember, a variable that is meant to never be used is usually denoted by '_'"
   ]
  },
  {
   "cell_type": "code",
   "execution_count": 16,
   "metadata": {},
   "outputs": [],
   "source": [
    "def fn_printing(value):\n",
    "    print(2*value)"
   ]
  },
  {
   "cell_type": "code",
   "execution_count": 12,
   "metadata": {},
   "outputs": [],
   "source": [
    "def take_array(array, predicate=noop):\n",
    "    for element in array:\n",
    "        predicate(element)"
   ]
  },
  {
   "cell_type": "code",
   "execution_count": 13,
   "metadata": {},
   "outputs": [],
   "source": [
    "array = [1,2,3]\n",
    "take_array(array)"
   ]
  },
  {
   "cell_type": "markdown",
   "metadata": {},
   "source": [
    "The noop is set as the default function; if nothing is given, then noop. In this case, it will do nothing. If we give it something else, it will execute that something else"
   ]
  },
  {
   "cell_type": "code",
   "execution_count": 17,
   "metadata": {},
   "outputs": [
    {
     "name": "stdout",
     "output_type": "stream",
     "text": [
      "2\n",
      "4\n",
      "6\n"
     ]
    }
   ],
   "source": [
    "take_array(array,predicate=fn_printing)"
   ]
  },
  {
   "cell_type": "markdown",
   "metadata": {},
   "source": [
    "* ***CALLBACK***: a function that is given as an argument to another function\n",
    "* ***HIGHER-ORDER FUNCTION***: a function that that takes another function as an argument or returns another function\n",
    "* ***PREDICATE FUNCTION***: a function that returns TRUE or FALSE based on some condition (also a callback most times?)"
   ]
  },
  {
   "cell_type": "markdown",
   "metadata": {},
   "source": [
    "## Operations\n",
    "PEMDAS\n",
    "* Parenthesis\n",
    "* Exponent\n",
    "* Multiplication\n",
    "* Division\n",
    "* Addition\n",
    "* Substraction\n",
    "\n",
    "Some of these opratores could also be applied to datatypes that are not integers of floats. Also there is ***operator overload*** to define these operators to some other object."
   ]
  },
  {
   "cell_type": "code",
   "execution_count": 18,
   "metadata": {},
   "outputs": [
    {
     "name": "stdout",
     "output_type": "stream",
     "text": [
      "33\n",
      "<class 'str'>\n",
      "33333333333333333333\n"
     ]
    }
   ],
   "source": [
    "a = '3'\n",
    "b = '3'\n",
    "print(a+b)\n",
    "print(type(a+b))\n",
    "print((a+b)*10)"
   ]
  },
  {
   "cell_type": "code",
   "execution_count": 19,
   "metadata": {},
   "outputs": [
    {
     "name": "stdout",
     "output_type": "stream",
     "text": [
      "True\n"
     ]
    }
   ],
   "source": [
    "# Operation overload\n",
    "class Vector:\n",
    "    def __init__(self, x, y):\n",
    "        self.x = x\n",
    "        self.y = y\n",
    "\n",
    "    # Overloading the addition operator (+)\n",
    "    def __add__(self, other):\n",
    "        return Vector(self.x + other.x, self.y + other.y)\n",
    "\n",
    "    # Overloading the multiplication operator (*)\n",
    "    def __mul__(self, scalar):\n",
    "        return Vector(self.x * scalar, self.y * scalar)\n",
    "\n",
    "    # Overloading the equality operator (==)\n",
    "    def __eq__(self, other):\n",
    "        return self.x == other.x and self.y == other.y\n",
    "\n",
    "# Creating instances of the Vector class\n",
    "v1 = Vector(2, 3)\n",
    "v2 = Vector(4, 5)\n",
    "\n",
    "# Using overloaded operators\n",
    "v3 = v1 + v2  # Calls __add__ method\n",
    "v4 = v1 * 2   # Calls __mul__ method\n",
    "\n",
    "# Using overloaded comparison operator\n",
    "print(v1 == Vector(2, 3))  # True"
   ]
  },
  {
   "cell_type": "markdown",
   "metadata": {},
   "source": [
    "A bit more on operations...."
   ]
  },
  {
   "cell_type": "code",
   "execution_count": 31,
   "metadata": {},
   "outputs": [
    {
     "name": "stdout",
     "output_type": "stream",
     "text": [
      "1\n",
      "2\n",
      "\n",
      "2\n",
      "3\n",
      "2\n",
      "3\n",
      "2\n",
      "3\n",
      "2\n",
      "3\n",
      "2\n",
      "3\n",
      "\n",
      "7\n",
      "10\n",
      "7\n",
      "10\n",
      "7\n",
      "10\n",
      "7\n",
      "10\n",
      "7\n",
      "10\n"
     ]
    }
   ],
   "source": [
    "x = 1\n",
    "print(x)\n",
    "x += 1  # addition assigment\n",
    "print(x)\n",
    "# We want x to iterate between the values 2 and 3\n",
    "print()\n",
    "x = 3\n",
    "for _ in range(10):\n",
    "    x = 5 - x  # cannot be expressed as susbtraction assigment (-=)\n",
    "    print(x)\n",
    "print()\n",
    "x = 10\n",
    "for _ in range(10):\n",
    "    x = 17 - x  # cannot be expressed as susbtraction assigment (-=)\n",
    "    print(x)"
   ]
  },
  {
   "cell_type": "markdown",
   "metadata": {},
   "source": [
    "## Hexadecimal notation\n",
    "Hexadecimal provides a more compact representation of binary data compared to binary or decimal notation. Since each hexadecimal digit corresponds to four binary digits (bits), it is commonly used to represent memory addresses, byte values, and other binary data in a more readable format."
   ]
  },
  {
   "cell_type": "code",
   "execution_count": 22,
   "metadata": {},
   "outputs": [
    {
     "name": "stdout",
     "output_type": "stream",
     "text": [
      "255\n",
      "16\n"
     ]
    }
   ],
   "source": [
    "print(0xff)  # 255\n",
    "print(0X10)  # 16"
   ]
  },
  {
   "cell_type": "markdown",
   "metadata": {},
   "source": [
    "## Logical operators\n",
    "\n",
    "* True table for OR:\n",
    "```\n",
    "Input 1 | Input 2 | Output\n",
    "--------|---------|-------\n",
    " False  |  False  | False\n",
    " False  |  True   | True\n",
    " True   |  False  | True\n",
    " True   |  True   | True\n",
    " ```\n",
    "\n",
    "* True table for AND:\n",
    "```\n",
    "| Input 1 | Input 2 | Output |\n",
    "|---------|---------|--------|\n",
    "|  False  |  False  |  False |\n",
    "|  False  |  True   |  False |\n",
    "|   True  |  False  |  False |\n",
    "|   True  |   True  |   True |\n",
    "```"
   ]
  },
  {
   "cell_type": "code",
   "execution_count": 33,
   "metadata": {},
   "outputs": [
    {
     "name": "stdout",
     "output_type": "stream",
     "text": [
      "True\n",
      "False\n"
     ]
    }
   ],
   "source": [
    "print(1==1 or 2==1)  # This is True\n",
    "print(1==3 or 2==1)  # This is False"
   ]
  },
  {
   "cell_type": "code",
   "execution_count": 34,
   "metadata": {},
   "outputs": [
    {
     "name": "stdout",
     "output_type": "stream",
     "text": [
      "True\n",
      "False\n"
     ]
    }
   ],
   "source": [
    "print(1==1 and 2==2)  # This is True\n",
    "print(1==1 and 2==1)  # This is False"
   ]
  },
  {
   "cell_type": "code",
   "execution_count": 37,
   "metadata": {},
   "outputs": [
    {
     "name": "stdout",
     "output_type": "stream",
     "text": [
      "True\n",
      "True\n",
      "True\n",
      "True\n",
      "False\n",
      "False\n"
     ]
    }
   ],
   "source": [
    "print(1==1 and 2==2)  # This is True\n",
    "print(1==1 or 2==1)  # This is True\n",
    "\n",
    "print(1==1 and 2==2)  # This is True\n",
    "print(1==1 or 2==1)  # This is True\n",
    "\n",
    "print(not (1==1 and 2==2))  # This is False (its called a 'nand')\n",
    "print(not (1==1 or 2==1)) # This is False (its called a 'nor')"
   ]
  },
  {
   "cell_type": "markdown",
   "metadata": {},
   "source": [
    "## Relational operators\n",
    "\n",
    "For strings, relational operators follow a lexicographic order"
   ]
  },
  {
   "cell_type": "code",
   "execution_count": 43,
   "metadata": {},
   "outputs": [
    {
     "name": "stdout",
     "output_type": "stream",
     "text": [
      "True\n",
      "True\n"
     ]
    }
   ],
   "source": [
    "print('cat' < 'house')  # This is True\n",
    "print('xat' < 'house')  # This is False"
   ]
  },
  {
   "cell_type": "markdown",
   "metadata": {},
   "source": [
    "***'cat' comes before 'house' because 'c' comes before 'h' in the alphabet***"
   ]
  },
  {
   "cell_type": "markdown",
   "metadata": {},
   "source": [
    "## Equalities"
   ]
  },
  {
   "cell_type": "code",
   "execution_count": 44,
   "metadata": {},
   "outputs": [
    {
     "name": "stdout",
     "output_type": "stream",
     "text": [
      "True\n",
      "False\n"
     ]
    }
   ],
   "source": [
    "# For lists\n",
    "list1 = [1,2]\n",
    "list2 = [1,2]\n",
    "\n",
    "print(list1==list2)  # This is True\n",
    "print(list1 is list2)  # This is False"
   ]
  },
  {
   "cell_type": "markdown",
   "metadata": {},
   "source": [
    "`print(list1==list2)  # This is True`\n",
    "\n",
    "The default implementation of the __eq__ method for lists checks whether the two lists have the same elements in the same order. If the elements of both lists are equal and appear in the same order, the lists are considered equal, and __eq__ returns True. Otherwise, it returns False.\n",
    "\n",
    "`print(list1 is list2)  # This is False`\n",
    "\n",
    "Even though list1 and list2 contain the same elements [1, 2], they are two distinct list objects created in memory, and therefore their identities (memory addresses) are different\n",
    "\n",
    "The == operator is used for equality comparison. It compares the values of two objects to determine if they are equal. If the values are equal, the expression evaluates to True; otherwise, it evaluates to False. The == operator is implemented by the __eq__ method. When you use the == operator to compare two objects, Python internally calls the __eq__ method of the left-hand side object, passing the right-hand side object as an argument."
   ]
  },
  {
   "cell_type": "code",
   "execution_count": 51,
   "metadata": {},
   "outputs": [
    {
     "name": "stdout",
     "output_type": "stream",
     "text": [
      "True \n",
      "\n",
      "True \n",
      "\n",
      "False\n"
     ]
    }
   ],
   "source": [
    "list1 = [1,2,{'a':1, 'b':2}]\n",
    "list2 = [1,2,{'a':1, 'b':2}]\n",
    "print(list1==list2,'\\n')\n",
    "\n",
    "list1 = [1,2,{'a':1, 'b':2}]\n",
    "list2 = [1,2,{'b':2, 'a':1}]\n",
    "print(list1==list2,'\\n')\n",
    "\n",
    "list1 = [1,2,{'a':1, 'b':2}]\n",
    "list2 = [1,2,{'b':3, 'a':1}]\n",
    "print(list1==list2)"
   ]
  },
  {
   "cell_type": "markdown",
   "metadata": {},
   "source": [
    "In Python, dictionaries compare as equal (==) if they have the same key-value pairs, regardless of the order in which the key-value pairs were defined. This behavior is consistent with the fact that dictionaries are unordered collections."
   ]
  },
  {
   "cell_type": "code",
   "execution_count": 60,
   "metadata": {},
   "outputs": [
    {
     "name": "stdout",
     "output_type": "stream",
     "text": [
      "False \n",
      "\n",
      "True \n",
      "\n",
      "True \n",
      "\n",
      "False\n"
     ]
    }
   ],
   "source": [
    "a = -6\n",
    "b = -6\n",
    "print(a is b,'\\n')\n",
    "\n",
    "a = -5\n",
    "b = -5\n",
    "print(a is b,'\\n')\n",
    "\n",
    "a = 256\n",
    "b = 256\n",
    "print(a is b,'\\n')\n",
    "\n",
    "a = 257\n",
    "b = 257\n",
    "print(a is b)"
   ]
  },
  {
   "cell_type": "markdown",
   "metadata": {},
   "source": [
    "In Python, small integers between -5 and 256 are cached and reused, which means that they are stored in memory and reused whenever the same value is assigned to a variable. This optimization is done for performance reasons and memory efficiency.\n",
    "\n",
    "When both a and b are assigned the integer value 100, which falls within the range of cached integers (-5 to 256). Since 100 is cached, Python reuses the same object in memory for both a and b, so a is b evaluates to True."
   ]
  }
 ],
 "metadata": {
  "kernelspec": {
   "display_name": "jcrosas-Python_meetings",
   "language": "python",
   "name": "python3"
  },
  "language_info": {
   "codemirror_mode": {
    "name": "ipython",
    "version": 3
   },
   "file_extension": ".py",
   "mimetype": "text/x-python",
   "name": "python",
   "nbconvert_exporter": "python",
   "pygments_lexer": "ipython3",
   "version": "3.9.18"
  }
 },
 "nbformat": 4,
 "nbformat_minor": 2
}

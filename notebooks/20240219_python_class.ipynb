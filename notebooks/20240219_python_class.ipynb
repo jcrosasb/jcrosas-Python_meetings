{
 "cells": [
  {
   "cell_type": "markdown",
   "metadata": {},
   "source": [
    "## Methods of Dictionaries\n",
    "* get\n",
    "* setdefault\n",
    "* pop\n",
    "* popitem\n",
    "* keys\n",
    "* items\n",
    "* values\n",
    "* update\n",
    "* fromkeys\n",
    "* clear\n",
    "* copy"
   ]
  },
  {
   "cell_type": "markdown",
   "metadata": {},
   "source": [
    "##### Method `get()`\n",
    "\n",
    "Retrieves the value associated with a specified key. It allows you to retrieve a value from a dictionary without raising a KeyError if the key does not exist. \n",
    "On the contrary, if you attempt to get the value by key and the key does not exists, you will key a 'KeyError'"
   ]
  },
  {
   "cell_type": "code",
   "execution_count": 21,
   "metadata": {},
   "outputs": [
    {
     "name": "stdout",
     "output_type": "stream",
     "text": [
      "The dictionary person1 is:\n",
      "first_name: Juan\n",
      "last_name: Rosas\n",
      "age: 39\n",
      "city: Tijuana\n",
      "school: {'undergraduate': 'UABC', 'graduate': 'UofT'}\n",
      "married: True\n",
      "\n",
      "GET VALUES BY ACCESING KEY:\n",
      "The last name is Rosas\n",
      "Attempting to access a value for which the key does not exists throws a \"keyError\"\n",
      "\n",
      "GET VALUES BY USING THE METHOD \"GET()\":\n",
      "The last name is Rosas\n",
      "The height is None\n"
     ]
    }
   ],
   "source": [
    "person1 = {\"first_name\": 'Juan',\n",
    "           \"last_name\": 'Rosas', \n",
    "           \"age\": 39, \n",
    "           \"city\": 'Tijuana',\n",
    "           \"school\": {\"undergraduate\": 'UABC', \n",
    "                      \"graduate\": 'UofT'},\n",
    "           \"married\": True}\n",
    "\n",
    "print('The dictionary person1 is:')\n",
    "for key, value in person1.items():\n",
    "    print(f'{key}: {value}')\n",
    "\n",
    "print('\\nGET VALUES BY ACCESING KEY:')\n",
    "print(f'The last name is {person1[\"last_name\"]}')\n",
    "try:\n",
    "    print(f'The height is {person1[\"height\"]}\\n')\n",
    "except KeyError:\n",
    "    print('Attempting to access a value for which the key does not exists throws a \"keyError\"')\n",
    "\n",
    "print('\\nGET VALUES BY USING THE METHOD \"GET()\":')\n",
    "print(f'The last name is {person1.get(\"last_name\")}')\n",
    "print(f'The height is {person1.get(\"height\")}')\n"
   ]
  },
  {
   "cell_type": "markdown",
   "metadata": {},
   "source": [
    "##### Method `setdefault()`\n",
    "\n",
    "Returns the value associated with a specified key. However, if the key is not found in the dictionary, setdefault() inserts the key with a specified default value and returns that value.\n",
    "\n",
    "`value = dictionary.setdefault(key, default_value)`"
   ]
  },
  {
   "cell_type": "code",
   "execution_count": 28,
   "metadata": {},
   "outputs": [
    {
     "name": "stdout",
     "output_type": "stream",
     "text": [
      "The key \"age\" exists. Its value is 39\n",
      "\n",
      "\n",
      "The key \"height\" does not exists. \n",
      "You can return a default value in that case instead of None or a Key error: 1.8\n"
     ]
    }
   ],
   "source": [
    "person1 = {\"first_name\": 'Juan',\n",
    "           \"last_name\": 'Rosas', \n",
    "           \"age\": 39, \n",
    "           \"city\": 'Tijuana',\n",
    "           \"school\": {\"undergraduate\": 'UABC', \n",
    "                      \"graduate\": 'UofT'},\n",
    "           \"married\": True}\n",
    "\n",
    "print(f'The key \"age\" exists. Its value is {person1.setdefault(\"age\")}\\n')\n",
    "\n",
    "print(f'\\nThe key \"height\" does not exists. \\nYou can return a default value in that case instead of None or a Key error: {person1.setdefault(\"heighe\", 1.80)}')"
   ]
  },
  {
   "cell_type": "markdown",
   "metadata": {},
   "source": [
    "##### Method `pop()`\n",
    "Removes and returns the value associated with a specified key. It takes the key as an argument and removes the key-value pair from the dictionary.\n",
    "\n",
    "`value = dictionary.pop(key, default_value)`\n",
    "\n",
    "where:\n",
    "* `key` is the key you want to remove from the dictionary.\n",
    "* `default_value` (optional) is the value to return if the key is not found in the dictionary. If not specified, a KeyError is raised when the key is not found."
   ]
  },
  {
   "cell_type": "code",
   "execution_count": 31,
   "metadata": {},
   "outputs": [
    {
     "name": "stdout",
     "output_type": "stream",
     "text": [
      "The key \"age\", with value = 39, has been removed from dictionary\n",
      "\n",
      "The dictionary person1 without \"age\" is now:\n",
      "first_name: Juan\n",
      "last_name: Rosas\n",
      "city: Tijuana\n",
      "school: {'undergraduate': 'UABC', 'graduate': 'UofT'}\n",
      "married: True\n",
      "\n",
      "If key not present, we can assign another default value:\n",
      "height = 1.8\n"
     ]
    }
   ],
   "source": [
    "person1 = {\"first_name\": 'Juan',\n",
    "           \"last_name\": 'Rosas', \n",
    "           \"age\": 39, \n",
    "           \"city\": 'Tijuana',\n",
    "           \"school\": {\"undergraduate\": 'UABC', \n",
    "                      \"graduate\": 'UofT'},\n",
    "           \"married\": True}\n",
    "\n",
    "# I want to remove the age from person1\n",
    "age = person1.pop(\"age\")\n",
    "\n",
    "print(f'The key \"age\", with value = {age}, has been removed from dictionary')\n",
    "print('\\nThe dictionary person1 without \"age\" is now:')\n",
    "for key, value in person1.items():\n",
    "    print(f'{key}: {value}')\n",
    "\n",
    "\n",
    "print(f'\\nIf key not present, we can assign another default value:\\n'\n",
    "      f'height = {person1.pop(\"height\", 1.8)}')"
   ]
  },
  {
   "cell_type": "markdown",
   "metadata": {},
   "source": [
    "##### Method `popitem()`\n",
    "\n",
    "Removes and returns an arbitrary key-value pair from the dictionary as a tuple. The key-value pair that is removed is not necessarily the last one inserted into the dictionary, as dictionaries are unordered.\n",
    "\n",
    "`key_value_pair = dictionary.popitem()`"
   ]
  },
  {
   "cell_type": "code",
   "execution_count": 1,
   "metadata": {},
   "outputs": [
    {
     "name": "stdout",
     "output_type": "stream",
     "text": [
      "the removed pair is ('married', True)\n",
      "\n",
      "The dictionary person1 without ('married', True) is now:\n",
      "first_name: Juan\n",
      "last_name: Rosas\n",
      "age: 39\n",
      "city: Tijuana\n",
      "school: {'undergraduate': 'UABC', 'graduate': 'UofT'}\n"
     ]
    }
   ],
   "source": [
    "person1 = {\"first_name\": 'Juan',\n",
    "           \"last_name\": 'Rosas', \n",
    "           \"age\": 39, \n",
    "           \"city\": 'Tijuana',\n",
    "           \"school\": {\"undergraduate\": 'UABC', \n",
    "                      \"graduate\": 'UofT'},\n",
    "           \"married\": True}\n",
    "\n",
    "key_value_pair = person1.popitem()\n",
    "print(f'the removed pair is {key_value_pair}')\n",
    "\n",
    "print(f'\\nThe dictionary person1 without {key_value_pair} is now:')\n",
    "for key, value in person1.items():\n",
    "    print(f'{key}: {value}')"
   ]
  },
  {
   "cell_type": "code",
   "execution_count": 7,
   "metadata": {},
   "outputs": [
    {
     "name": "stdout",
     "output_type": "stream",
     "text": [
      "The keys of the dictionaries are: dict_keys(['first_name', 'last_name', 'age', 'city', 'school', 'married']).\n",
      "\n",
      "As a list, they are:\n",
      "first_name\n",
      "last_name\n",
      "age\n",
      "city\n",
      "school\n",
      "married\n"
     ]
    }
   ],
   "source": [
    "person1 = {\"first_name\": 'Juan',\n",
    "           \"last_name\": 'Rosas', \n",
    "           \"age\": 39, \n",
    "           \"city\": 'Tijuana',\n",
    "           \"school\": {\"undergraduate\": 'UABC', \n",
    "                      \"graduate\": 'UofT'},\n",
    "           \"married\": True}\n",
    "\n",
    "print(f'The keys of the dictionaries are: {person1.keys()}.\\n\\nAs a list, they are:')\n",
    "for key in list(person1.keys()):\n",
    "    print(key)\n",
    "\n"
   ]
  },
  {
   "cell_type": "markdown",
   "metadata": {},
   "source": [
    "##### Method `items()`:\n",
    "Returns an iterable (type \"dict_items\") object that displays a list of tuples containing the key-value pairs of the dictionary."
   ]
  },
  {
   "cell_type": "code",
   "execution_count": 16,
   "metadata": {},
   "outputs": [
    {
     "name": "stdout",
     "output_type": "stream",
     "text": [
      "The dict_items are:\n",
      "dict_items([('first_name', 'Juan'), ('last_name', 'Rosas'), ('age', 39), ('city', 'Tijuana'), ('school', {'undergraduate': 'UABC', 'graduate': 'UofT'}), ('married', True)])\n",
      "\n",
      "You may also iterate over \"dict_items\" object:\n",
      "first_name: Juan\n",
      "last_name: Rosas\n",
      "age: 39\n",
      "city: Tijuana\n",
      "school: {'undergraduate': 'UABC', 'graduate': 'UofT'}\n",
      "married: True\n"
     ]
    }
   ],
   "source": [
    "person1 = {\"first_name\": 'Juan',\n",
    "           \"last_name\": 'Rosas', \n",
    "           \"age\": 39, \n",
    "           \"city\": 'Tijuana',\n",
    "           \"school\": {\"undergraduate\": 'UABC', \n",
    "                      \"graduate\": 'UofT'},\n",
    "           \"married\": True}\n",
    "\n",
    "print('The dict_items are:')\n",
    "print(person1.items())\n",
    "\n",
    "print('\\nYou may also iterate over \"dict_items\" object:')\n",
    "for key, value in person1.items():\n",
    "    print(f'{key}: {value}')"
   ]
  },
  {
   "cell_type": "markdown",
   "metadata": {},
   "source": [
    "##### Method `values()`\n",
    "\n",
    "Returns an iterable \"dict_values\" object that displays a list of all the values in the dictionary."
   ]
  },
  {
   "cell_type": "code",
   "execution_count": 19,
   "metadata": {},
   "outputs": [
    {
     "name": "stdout",
     "output_type": "stream",
     "text": [
      "The dict_values are:\n",
      "dict_values(['Juan', 'Rosas', 39, 'Tijuana', {'undergraduate': 'UABC', 'graduate': 'UofT'}, True])\n",
      "Juan\n",
      "Rosas\n",
      "39\n",
      "Tijuana\n",
      "{'undergraduate': 'UABC', 'graduate': 'UofT'}\n",
      "True\n"
     ]
    }
   ],
   "source": [
    "print('The dict_values are:')\n",
    "print(person1.values())\n",
    "\n",
    "for value in person1.values():\n",
    "    print(value)"
   ]
  },
  {
   "cell_type": "markdown",
   "metadata": {},
   "source": [
    "##### Method `update()`:\n",
    "Updates the dictionary with the key-value pairs from another dictionary or an iterable of key-value pairs (such as a list of tuples)."
   ]
  },
  {
   "cell_type": "code",
   "execution_count": 21,
   "metadata": {},
   "outputs": [
    {
     "name": "stdout",
     "output_type": "stream",
     "text": [
      "The dictionary person1 is:\n",
      "first_name: Juan\n",
      "last_name: Rosas\n",
      "age: 39\n",
      "city: Tijuana\n",
      "school: {'undergraduate': 'UABC', 'graduate': 'UofT'}\n",
      "married: True\n",
      "height: 1.8\n",
      "\n",
      "The dictionary person1 is:\n",
      "first_name: Juan\n",
      "last_name: Rosas\n",
      "age: 39\n",
      "city: Tijuana\n",
      "school: {'undergraduate': 'UABC', 'graduate': 'UofT'}\n",
      "married: True\n",
      "height: 1.8\n",
      "birth_date: 05-04-1984\n",
      "favorite_sport: baseball\n"
     ]
    }
   ],
   "source": [
    "# You may use 'update()' to add one key-value to a dictionary\n",
    "person1 = {\"first_name\": 'Juan',\n",
    "           \"last_name\": 'Rosas', \n",
    "           \"age\": 39, \n",
    "           \"city\": 'Tijuana',\n",
    "           \"school\": {\"undergraduate\": 'UABC', \n",
    "                      \"graduate\": 'UofT'},\n",
    "           \"married\": True}\n",
    "\n",
    "# Add height\n",
    "person1.update({\"height\": 1.8})\n",
    "\n",
    "print('The dictionary person1 is:')\n",
    "for key, value in person1.items():\n",
    "    print(f'{key}: {value}')\n",
    "\n",
    "# You may also add a complete new dictironary\n",
    "person1_extra = {\"birth_date\": '05-04-1984',\n",
    "                \"favorite_sport\": 'baseball' }\n",
    "\n",
    "person1.update(person1_extra)\n",
    "print('\\nThe dictionary person1 is:')\n",
    "for key, value in person1.items():\n",
    "    print(f'{key}: {value}')"
   ]
  },
  {
   "cell_type": "markdown",
   "metadata": {},
   "source": [
    "##### Method `fromkeys()`:\n",
    "Returns a new dictionary with the specified keys and a default value for all keys. The syntax is:\n",
    "\n",
    "`new_dict = dict.fromkeys(keys, default_value)`\n",
    "\n",
    "* `keys` is an iterable (such as a list or tuple) containing the keys for the new dictionary.\n",
    "* `default_value` is the default value assigned to all keys in the new dictionary."
   ]
  },
  {
   "cell_type": "code",
   "execution_count": 24,
   "metadata": {},
   "outputs": [
    {
     "name": "stdout",
     "output_type": "stream",
     "text": [
      "{'a': [], 'b': [], 'c': []}\n"
     ]
    }
   ],
   "source": [
    "keys = ['a', 'b', 'c']\n",
    "default_value = []\n",
    "\n",
    "# Create a new dictionary using fromkeys()\n",
    "new_dict = dict.fromkeys(keys, default_value)\n",
    "\n",
    "print(new_dict)"
   ]
  },
  {
   "cell_type": "markdown",
   "metadata": {},
   "source": [
    "### Combine two dicts with same keys"
   ]
  },
  {
   "cell_type": "code",
   "execution_count": 31,
   "metadata": {},
   "outputs": [
    {
     "name": "stdout",
     "output_type": "stream",
     "text": [
      "The dictionary \"people\" is:\n",
      "first_name: ['Juan', 'Luis']\n",
      "last_name: ['Rosas', 'Rosas']\n",
      "age: [39, 36]\n",
      "city: ['Tijuana', 'Toronto']\n",
      "school: [{'undergraduate': 'UABC', 'graduate': 'UofT'}, {'undergraduate': 'UABC', 'graduate': 'UdeS'}]\n",
      "married: [True]\n"
     ]
    }
   ],
   "source": [
    "def merge_dictionaries(*dictionaries):\n",
    "    merged_dict = {}\n",
    "    for dictionary in dictionaries:\n",
    "        for key in dictionary:\n",
    "            merged_dict.setdefault(key, []).append(dictionary[key])\n",
    "    return merged_dict\n",
    "\n",
    "\n",
    "person1 = {\"first_name\": 'Juan',\n",
    "           \"last_name\": 'Rosas', \n",
    "           \"age\": 39, \n",
    "           \"city\": 'Tijuana',\n",
    "           \"school\": {\"undergraduate\": 'UABC', \n",
    "                      \"graduate\": 'UofT'},\n",
    "           \"married\": True}\n",
    "\n",
    "person2 = {\"first_name\": 'Luis', \n",
    "           \"last_name\": 'Rosas', \n",
    "           \"age\": 36, \n",
    "           \"city\": 'Toronto',\n",
    "           \"school\": {\"undergraduate\": 'UABC',\n",
    "                      \"graduate\": 'UdeS'}}\n",
    "\n",
    "# Create a new dictionary with same keys\n",
    "people = merge_dictionaries(person1, person2)\n",
    "\n",
    "print('The dictionary \"people\" is:')\n",
    "for key, value in people.items():\n",
    "    print(f'{key}: {value}')"
   ]
  },
  {
   "cell_type": "code",
   "execution_count": 30,
   "metadata": {},
   "outputs": [
    {
     "name": "stdout",
     "output_type": "stream",
     "text": [
      "The dictionary \"people\" is:\n",
      "first_name: ['Juan', 'Luis']\n",
      "last_name: ['Rosas', 'Rosas']\n",
      "age: [39, 36]\n",
      "city: ['Tijuana', 'Toronto']\n",
      "school: [{'undergraduate': 'UABC', 'graduate': 'UofT'}, {'undergraduate': 'UABC', 'graduate': 'UdeS'}]\n",
      "married: [True]\n",
      "asdasd: []\n"
     ]
    }
   ],
   "source": [
    "people.setdefault('asdasd', [])\n",
    "print('The dictionary \"people\" is:')\n",
    "for key, value in people.items():\n",
    "    print(f'{key}: {value}')"
   ]
  },
  {
   "cell_type": "code",
   "execution_count": null,
   "metadata": {},
   "outputs": [],
   "source": []
  }
 ],
 "metadata": {
  "kernelspec": {
   "display_name": "jcrosas-Python_meetings",
   "language": "python",
   "name": "python3"
  },
  "language_info": {
   "codemirror_mode": {
    "name": "ipython",
    "version": 3
   },
   "file_extension": ".py",
   "mimetype": "text/x-python",
   "name": "python",
   "nbconvert_exporter": "python",
   "pygments_lexer": "ipython3",
   "version": "3.9.18"
  }
 },
 "nbformat": 4,
 "nbformat_minor": 2
}

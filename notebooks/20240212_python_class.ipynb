{
 "cells": [
  {
   "cell_type": "markdown",
   "metadata": {},
   "source": [
    "## Lists\n",
    "\n",
    "Lists in Python are ordered, mutable (modifiable), and can contain elements of different data types, including other lists"
   ]
  },
  {
   "cell_type": "code",
   "execution_count": 43,
   "metadata": {},
   "outputs": [
    {
     "name": "stdout",
     "output_type": "stream",
     "text": [
      "7\n",
      "11\n",
      "10\n",
      "10\n"
     ]
    }
   ],
   "source": [
    "list1 = [0,1,2,3,4,5,6,7,8,9,10]\n",
    "\n",
    "# Print an element in a given index (7)\n",
    "print(list1[7])\n",
    "\n",
    "# Length of list\n",
    "print(len(list1))  \n",
    "\n",
    "# Print the last element\n",
    "print(list1[len(list1) - 1]) \n",
    "print(list1[-1])"
   ]
  },
  {
   "cell_type": "markdown",
   "metadata": {},
   "source": [
    "In Python, using a negative index with a list accesses elements from the end of the list rather than the beginning. When you use a negative index with a list, Python starts counting from the last element, with -1 representing the last element, -2 representing the second-to-last element, and so on.\n",
    "\n",
    "* list1[-1] would return the last element of the list\n",
    "\n",
    "* list1[-2] would return the second-to-last element of the list\n",
    "\n",
    "* list1[-3] would return the third-to-last element of the list"
   ]
  },
  {
   "cell_type": "code",
   "execution_count": 44,
   "metadata": {},
   "outputs": [
    {
     "name": "stdout",
     "output_type": "stream",
     "text": [
      "Last element --> list1[-1] = 8\n",
      "Second-to-last element --> list1[-2] = -63\n",
      "Third-to-last element --> list1[-3] = 12\n"
     ]
    }
   ],
   "source": [
    "list1 = [12,45,12,7,87,45,-1,12,-63,8]\n",
    "\n",
    "print(f'Last element --> list1[-1] = {list1[-1]}')\n",
    "print(f'Second-to-last element --> list1[-2] = {list1[-2]}')\n",
    "print(f'Third-to-last element --> list1[-3] = {list1[-3]}')"
   ]
  },
  {
   "cell_type": "markdown",
   "metadata": {},
   "source": [
    "## LIST AND STRING SLICING\n",
    "\n",
    "List slicing is a feature in Python that allows you to access a portion of a list (or any sequence-like object) by specifying a range of indices. It provides a concise and powerful way to extract subsets of a list without modifying the original list. The syntax for list slicing is:\n",
    "\n",
    "`list[start:stop:step]`\n",
    "\n",
    "* `start`: starting index of slice (inclusive). If not provided, default is set to 0\n",
    "* `stop`: stopping index of slice (exclusive). If not provided, default is set to length of list\n",
    "* `step`: (optional) increment between indices. If not provided, default is set to 1. For backward slicing, need to specify negative step"
   ]
  },
  {
   "cell_type": "code",
   "execution_count": 45,
   "metadata": {},
   "outputs": [
    {
     "name": "stdout",
     "output_type": "stream",
     "text": [
      "The original list is [12, 45, 13, 7, 87, 45, -1, 9, -63, 8]\n",
      "\n",
      "From index = 2 to 5 ---> [13, 7, 87]\n",
      "From index = 1 to 7 ---> [45, 13, 7, 87, 45, -1]\n",
      "From index = 3 to the end ---> [7, 87, 45, -1, 9, -63, 8]\n",
      "From index = 0 to 6 ---> [12, 45, 13, 7, 87, 45]\n",
      "From index = 0 to the end ---> [12, 45, 13, 7, 87, 45, -1, 9, -63, 8]\n",
      "\n",
      "Slicing with increments\n",
      "From index = 0 to 6, every 2nd element ---> [12, 13, 87]\n",
      "From index = 0 to the end, every 2nd element ---> [12, 13, 87, -1, -63]\n",
      "From index = 1 to the end, every 3rd element ---> [45, 87, 9]\n",
      "\n",
      "Slicing backwards (You need to specify negative step)\n",
      "From the end to 4th-to-last ---> [8, -63, 9]\n",
      "From the 2nd-to-last to 4th-to-last ---> [-63, 9]\n",
      "From the end to 6th-to-last in steps of 2 ---> [8, 9, 45]\n",
      "From the end to index=0 ---> [8, -63, 9, -1, 45, 87, 7, 13, 45, 12]\n"
     ]
    }
   ],
   "source": [
    "list1 = [12,45,13,7,87,45,-1,9,-63,8]\n",
    "print(f'The original list is {list1}\\n')\n",
    "\n",
    "# Regular slicing\n",
    "print(f'From index = 2 to 5 ---> {list1[2:5]}')\n",
    "print(f'From index = 1 to 7 ---> {list1[1:7]}')\n",
    "print(f'From index = 3 to the end ---> {list1[3:]}')\n",
    "print(f'From index = 0 to 6 ---> {list1[:6]}')\n",
    "print(f'From index = 0 to the end ---> {list1[:]}')\n",
    "\n",
    "# Slicing with increment\n",
    "print('\\nSlicing with increments')\n",
    "print(f'From index = 0 to 6, every 2nd element ---> {list1[:6:2]}')\n",
    "print(f'From index = 0 to the end, every 2nd element ---> {list1[::2]}')\n",
    "print(f'From index = 1 to the end, every 3rd element ---> {list1[1::3]}')\n",
    "\n",
    "# Slicing backwards\n",
    "print('\\nSlicing backwards (You need to specify negative step)')\n",
    "print(f'From the end to 4th-to-last ---> {list1[:-4:-1]}')\n",
    "print(f'From the 2nd-to-last to 4th-to-last ---> {list1[-2:-4:-1]}')\n",
    "print(f'From the end to 6th-to-last in steps of 2 ---> {list1[:-6:-2]}')\n",
    "print(f'From the end to index=0 ---> {list1[::-1]}')\n",
    "\n"
   ]
  },
  {
   "cell_type": "markdown",
   "metadata": {},
   "source": [
    "Slicing can also be done in strings\n"
   ]
  },
  {
   "cell_type": "code",
   "execution_count": 46,
   "metadata": {},
   "outputs": [
    {
     "name": "stdout",
     "output_type": "stream",
     "text": [
      "The string is abcdefghij\n",
      "\n",
      "From 2nd to 5th char ---> cde\n",
      "\n",
      "Slicing with increments\n",
      "From first to six char, every 2nd element ---> ace\n",
      "\n",
      "Slicing backwards (You need to specify negative step)\n",
      "From the end to 4th-to-last char---> jih\n"
     ]
    }
   ],
   "source": [
    "string = 'abcdefghij'\n",
    "\n",
    "print(f'The string is {string}\\n')\n",
    "\n",
    "# Regular slicing\n",
    "print(f'From 2nd to 5th char ---> {string[2:5]}')\n",
    "\n",
    "# Slicing with increment\n",
    "print('\\nSlicing with increments')\n",
    "print(f'From first to six char, every 2nd element ---> {string[:6:2]}')\n",
    "\n",
    "# Slicing backwards\n",
    "print('\\nSlicing backwards (You need to specify negative step)')\n",
    "print(f'From the end to 4th-to-last char---> {string[:-4:-1]}')"
   ]
  },
  {
   "cell_type": "markdown",
   "metadata": {},
   "source": [
    "<u>***QUESTION***</u>: Does slicing modify the original list of string?...\n",
    "\n",
    "<u>***ANSWER***</u>: No, it creates a ***shallow copy***"
   ]
  },
  {
   "cell_type": "code",
   "execution_count": 47,
   "metadata": {},
   "outputs": [
    {
     "name": "stdout",
     "output_type": "stream",
     "text": [
      "The original list is [12, 45, 13, 7, 87, 45, -1, 9, -63, 8]\n",
      "The original string is abcdefghij\n"
     ]
    }
   ],
   "source": [
    "# The original list and string is still conserved\n",
    "print(f'The original list is {list1}')\n",
    "print(f'The original string is {string}')"
   ]
  },
  {
   "cell_type": "markdown",
   "metadata": {},
   "source": [
    "<u>***What is a shallow copy?***</u>\n",
    "\n",
    "A shallow copy is a type of copy operation in programming that creates a new object, but it does not create copies of the objects contained within the original object. Instead, it creates references to the same objects. In other words, a shallow copy duplicates the structure of the original object, but the new object shares the same references to the internal objects as the original object."
   ]
  },
  {
   "cell_type": "code",
   "execution_count": 49,
   "metadata": {},
   "outputs": [
    {
     "name": "stdout",
     "output_type": "stream",
     "text": [
      "[10, 1, [20], 3, 4, 5, 6, 7, 8, 9, 10, 11]\n",
      "[0, 1, [20], 3, 4, 5, 6, 7, 8, 9, 10, 11]\n"
     ]
    }
   ],
   "source": [
    "original_list = [0,1,[2],3,4,5,6,7,8,9,10,11]\n",
    "\n",
    "shallow_copy =original_list[:]  # Shallow copy using slicing\n",
    "\n",
    "# Modifying the first element of the original list\n",
    "original_list[0] = 10\n",
    "\n",
    "# Modifying the second element of the original list\n",
    "original_list[2][0] *= 10\n",
    "\n",
    "print(original_list)  \n",
    "print(shallow_copy)   "
   ]
  },
  {
   "cell_type": "markdown",
   "metadata": {},
   "source": [
    "Note that:\n",
    "\n",
    "* First element of the original_list can be modified without changing the first element of the shallow_copy. Elements like this one are called 'first-level elements'. The term \"first-level elements\" typically refers to the elements that are directly contained within a data structure, without considering any nested elements.\n",
    "\n",
    "* The second element of the original_list, however, is a list. When modified, the change also shows in the shallow_copy. The reason for this is that shallow copies creates a new object, but does not create copies of nested objects. Therefore, changes to nested objects within the original object are reflected in the shallow copy, and vice versa. "
   ]
  },
  {
   "cell_type": "markdown",
   "metadata": {},
   "source": [
    "To check if a given element is in a list, use the 'in' operator"
   ]
  },
  {
   "cell_type": "code",
   "execution_count": 63,
   "metadata": {},
   "outputs": [
    {
     "name": "stdout",
     "output_type": "stream",
     "text": [
      "The list is [12, 45, 13, 7, 87, 45, -1, 9, -63, 8]\n",
      "The string is 'abcdefghij'\n",
      "\n",
      "Is -63 in the list? ---> True\n",
      "Is 5 in the list? ---> False\n",
      "\n",
      "Is \"xyz\" in string2? ---> False\n",
      "Is x in string2? ---> True\n",
      "Is y in string2? ---> True\n",
      "Is z in string2? ---> True\n",
      "\n",
      "Dynamic stepping (2 and 3) on a list --> begj\n"
     ]
    }
   ],
   "source": [
    "# Check is a given element is in a list\n",
    "print(f'The list is {list1}')\n",
    "print(f\"The string is '{string}'\\n\")\n",
    "\n",
    "print(f'Is -63 in the list? --->', -63 in list1)\n",
    "print(f'Is 5 in the list? --->', 5 in list1)\n",
    "\n",
    "string2 = 'xabcdyefghijz'\n",
    "print(f'\\nIs \"xyz\" in string2? --->', 'xyz' in string2)\n",
    "\n",
    "for char in 'xyz':\n",
    "    print(f'Is {char} in string2? --->', char in string2)\n",
    "\n",
    "# Dynamic steping, alternating between 2 and 3\n",
    "i = 1\n",
    "x=2\n",
    "substring = ''\n",
    "while i < len(string):\n",
    "    substring += string[i]\n",
    "    x = 5 - x\n",
    "    i += x\n",
    "print(f'\\nDynamic stepping (2 and 3) on a list --> {substring}')"
   ]
  },
  {
   "cell_type": "markdown",
   "metadata": {},
   "source": [
    "To check if a string has any digits, we may use `isdigit()`\n",
    "\n",
    "Internally, `isdigit()` iterates through each character in the string and checks whether it belongs to the category of Unicode characters classified as digits. Unicode is a character encoding standard that assigns a unique numeric value to each character, including digits, letters, and special symbols."
   ]
  },
  {
   "cell_type": "code",
   "execution_count": 65,
   "metadata": {},
   "outputs": [
    {
     "name": "stdout",
     "output_type": "stream",
     "text": [
      "Does \"asjdnasd2lakjnsdn\" has digits? ---> True\n",
      "Does \"asjdnasdlakjnsdn\" has digits? ---> False\n"
     ]
    }
   ],
   "source": [
    "def has_digits(string):\n",
    "    for char in string:\n",
    "        if char.isdigit():\n",
    "            return True\n",
    "    return False\n",
    "\n",
    "string3 = 'asjdnasd2lakjnsdn'\n",
    "print(f'Does \"{string3}\" has digits? ---> {has_digits(string3)}')\n",
    "\n",
    "string4 = 'asjdnasdlakjnsdn'\n",
    "print(f'Does \"{string4}\" has digits? ---> {has_digits(string4)}')\n"
   ]
  },
  {
   "cell_type": "markdown",
   "metadata": {},
   "source": [
    "## 'If' statement\n",
    "\n",
    "Used for conditional execution. It selects exactly one of the suites by evaluating the expressions one by one until one is found to be true; then that suite is executed (and no other part of the if statement is executed or evaluated). If all expressions are false, the suite of the else clause, if present, is executed.\n",
    "\n",
    "<u>***What evaluates to 'True' or 'False' in an 'If' statement?***</u>\n",
    "\n",
    "From [https://docs.python.org/3/library/stdtypes.html#truth-value-testing](https://docs.python.org/3/library/stdtypes.html#truth-value-testing):\n",
    "\n",
    "<u>\"By default, an object is considered true unless its class defines either a __bool__() method that returns False or a __len__() method that returns zero, when called with the object. Here are most of the built-in objects considered false:\n",
    "\n",
    "* constants defined to be false: None and False\n",
    "\n",
    "* zero of any numeric type: 0, 0.0, 0j, Decimal(0), Fraction(0, 1)\n",
    "\n",
    "* empty sequences and collections: '', (), [], {}, set(), range(0)\"</u>\n",
    "\n",
    "The following values are considered falsy in Python:\n",
    "\n",
    "* False (the Boolean value False)\n",
    "* None (the absence of a value)\n",
    "* 0 (integer zero)\n",
    "* 0.0 (float zero)\n",
    "* '' (empty string)\n",
    "* [] (empty list)\n",
    "* {} (empty dictionary)\n",
    "* () (empty tuple)\n",
    "* set() (empty set)\n",
    "\n",
    "When any of these values are encountered in a boolean context, they are treated as equivalent to False."
   ]
  },
  {
   "cell_type": "code",
   "execution_count": 83,
   "metadata": {},
   "outputs": [
    {
     "name": "stdout",
     "output_type": "stream",
     "text": [
      "Examples of values to be considered \"truthy\":\n",
      "1 is considered to be True\n",
      "-1 is considered to be True\n",
      "8.2 is considered to be True\n",
      "[1, 2] is considered to be True\n",
      "(1, 2) is considered to be True\n",
      "{4, 5} is considered to be True\n",
      "{'a': 1} is considered to be True\n",
      "\n",
      "Examples of values to be considered \"falsy\":\n",
      "0 is considered to be False\n",
      "0.0 is considered to be False\n",
      "[] is considered to be False\n",
      "() is considered to be False\n",
      "{} is considered to be False\n",
      "set() is considered to be False\n",
      " is considered to be False\n"
     ]
    }
   ],
   "source": [
    "truthy = [1,-1,8.2, [1,2], (1,2), {5,4}, {'a':1}]\n",
    "falsy = [0, 0.0,[],(),{},set(),'']\n",
    "\n",
    "print('Examples of values to be considered \"truthy\":')\n",
    "for x in truthy:\n",
    "    if x:\n",
    "        print(f'{x} is considered to be True')\n",
    "    else:\n",
    "        print(f'{x} is considered to be False')\n",
    "\n",
    "print('\\nExamples of values to be considered \"falsy\":')\n",
    "for x in falsy:\n",
    "    if x:\n",
    "        print(f'{x} is considered to be True')\n",
    "    else:\n",
    "        print(f'{x} is considered to be False')"
   ]
  },
  {
   "cell_type": "code",
   "execution_count": null,
   "metadata": {},
   "outputs": [],
   "source": []
  }
 ],
 "metadata": {
  "kernelspec": {
   "display_name": "jcrosas-Python_meetings",
   "language": "python",
   "name": "python3"
  },
  "language_info": {
   "codemirror_mode": {
    "name": "ipython",
    "version": 3
   },
   "file_extension": ".py",
   "mimetype": "text/x-python",
   "name": "python",
   "nbconvert_exporter": "python",
   "pygments_lexer": "ipython3",
   "version": "3.9.18"
  }
 },
 "nbformat": 4,
 "nbformat_minor": 2
}

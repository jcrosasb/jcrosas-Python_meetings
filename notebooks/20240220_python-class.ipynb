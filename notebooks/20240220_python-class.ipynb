{
 "cells": [
  {
   "cell_type": "markdown",
   "metadata": {},
   "source": [
    "## Recurssion\n",
    "Recursion is a programming technique where a function calls itself directly or indirectly in order to solve a problem. In other words, a recursive function is a function that calls itself within its definition.\n",
    "\n",
    "## Iterations\n",
    "Repeatedly executing a set of instructions or operations. It is a process of repeating a sequence of steps or actions multiple times until a specific condition is met or until a specified number of iterations is reached\n",
    "\n",
    "A good description of the advantages and disadvantages between recurssion and iteration can be found in https://www.geeksforgeeks.org/difference-between-recursion-and-iteration/"
   ]
  },
  {
   "cell_type": "markdown",
   "metadata": {},
   "source": [
    "##"
   ]
  },
  {
   "cell_type": "code",
   "execution_count": 6,
   "metadata": {},
   "outputs": [
    {
     "name": "stdout",
     "output_type": "stream",
     "text": [
      "Recursive time: 0.0004290809999929479 seconds\n",
      "Iterative time: 6.983299999774317e-05 seconds\n"
     ]
    }
   ],
   "source": [
    "import timeit\n",
    "\n",
    "def recursive_factorial(n):\n",
    "    if n == 0:\n",
    "        return 1\n",
    "    return n * recursive_factorial(n-1)\n",
    "\n",
    "def iterative_factorial(n):\n",
    "    factorial = 1\n",
    "    for i in range(1,n+1):\n",
    "        factorial *= i\n",
    "    return factorial\n",
    "\n",
    "# Measure the execution time of the function\n",
    "time_rec = timeit.timeit(lambda: recursive_factorial(500), number=1)\n",
    "time_iter = timeit.timeit(lambda: iterative_factorial(500), number=1)\n",
    "\n",
    "# Print the execution time\n",
    "print(f'Recursive time: {time_rec} seconds\\n'\n",
    "      f'Iterative time: {time_iter} seconds')"
   ]
  },
  {
   "cell_type": "code",
   "execution_count": 8,
   "metadata": {},
   "outputs": [
    {
     "name": "stdout",
     "output_type": "stream",
     "text": [
      "Apple\n",
      "Banana\n",
      "Lemon\n",
      "Orange\n",
      "Pineapple\n",
      "Cherry\n"
     ]
    }
   ],
   "source": [
    "fruits = ['apple', 'banana', 'lemon', 'orange', 'pineapple', 'cherry']\n",
    "\n",
    "# print(fruits[0])\n",
    "# print(fruits[1])\n",
    "# print(fruits[2])\n",
    "# print(fruits[3])\n",
    "# print(fruits[4])\n",
    "# print(fruits[5])\n",
    "\n",
    "for fruit in fruits:\n",
    "    print(fruit.capitalize())"
   ]
  },
  {
   "cell_type": "markdown",
   "metadata": {},
   "source": [
    "* ***Iterable:***   \n",
    "Is any object capable of returning its elements one at a time. Iterables are objects that can be looped over or iterated upon using a loop or comprehension. Examples of iterables include lists, tuples, strings, dictionaries, sets, and more. To be considered an iterable, an object must implement the __iter__() method, which returns an iterator object. An iterator is responsible for producing the elements of the iterable one at a time, and it implements the __next__() method, which returns the next element in the sequence.\n",
    "\n",
    "* ***Iterator:***  \n",
    "Object that allows iteration through elements of a collection (iterate) one at a time. Iterators are used to traverse sequences of data, such as lists, tuples, dictionaries, and more, in a sequential manner. \n",
    "Iterators provide two main methods:\n",
    "\n",
    "    1. `__iter__()` method: This method returns the iterator object itself. It is called when the iterator is initialized or when the iter() function is called on the iterator.\n",
    "\n",
    "    2. `__next__()` method: This method returns the next element in the sequence. It is called repeatedly to fetch successive elements from the iterator until the end of the sequence is reached. When there are no more elements to return, it raises a StopIteration exception."
   ]
  },
  {
   "cell_type": "code",
   "execution_count": 14,
   "metadata": {},
   "outputs": [],
   "source": [
    "def initialize(data):\n",
    "    global index\n",
    "    index = 0\n",
    "    return data, index\n",
    "\n",
    "def itera(data):\n",
    "    '''The method is responsible for returning an iterator object'''\n",
    "    return data\n",
    "\n",
    "def nexte(data):\n",
    "    global index \n",
    "    index += 1\n",
    "    if index <= len(data):\n",
    "        return data[index-1]\n",
    "    else:\n",
    "        pass"
   ]
  },
  {
   "cell_type": "code",
   "execution_count": 17,
   "metadata": {},
   "outputs": [
    {
     "name": "stdout",
     "output_type": "stream",
     "text": [
      "([1, 2, 3, 4, 5], 0)\n",
      "1\n",
      "2\n",
      "3\n"
     ]
    }
   ],
   "source": [
    "numbers = [1,2,3,4,5]\n",
    "\n",
    "print(initialize(numbers))\n",
    "\n",
    "print(nexte(numbers))\n",
    "print(nexte(numbers))\n",
    "print(nexte(numbers))"
   ]
  },
  {
   "cell_type": "code",
   "execution_count": 1,
   "metadata": {},
   "outputs": [
    {
     "name": "stdout",
     "output_type": "stream",
     "text": [
      "1\n",
      "1\n",
      "13\n",
      "3\n",
      "1\n",
      "5\n",
      "21\n",
      "Reached the end of the iterator\n"
     ]
    }
   ],
   "source": [
    "import math\n",
    "class ArrayNumber:\n",
    "    ''' Class ArrayNumber serves to create array-like objects made up of numbers.'''\n",
    "    def __init__(self, data):\n",
    "        '''Initialize a new instance of Array Object\n",
    "            Attributes:\n",
    "                data: numbers to be included in ArrayNumber object'''\n",
    "        self.data = data\n",
    "        self.index = 0\n",
    "\n",
    "\n",
    "    def __iter__(self):\n",
    "        return self\n",
    "\n",
    "    def _lazy_caterer_number(self, number):\n",
    "        return (number**2 + number + 2) // 2\n",
    "    \n",
    "    def _triangle_number(self, number):\n",
    "        return (number**2 + number) // 2\n",
    "    \n",
    "    def _fibonacci_number(self, number):\n",
    "        return round((1/math.sqrt(5))*((1+math.sqrt(5))/2)**number - (1/math.sqrt(5))*((1-math.sqrt(5))/2)**number)\n",
    "\n",
    "    def __next__(self):\n",
    "        '''Method to return the next element in the ArrayNumber object'''\n",
    "        if self.index < len(self.data):\n",
    "            item = self.data[self.index]\n",
    "            self.index += 1\n",
    "            return self._fibonacci_number(item)\n",
    "        else:\n",
    "            raise StopIteration\n",
    "\n",
    "\n",
    "\n",
    "array = ArrayNumber([1, 2, 7, 4, 1, 5, 8])\n",
    "\n",
    "iterator = iter(array)\n",
    "        \n",
    "try:\n",
    "    while True:\n",
    "        item = next(array)\n",
    "        print(item)\n",
    "except StopIteration:\n",
    "    print(\"Reached the end of the iterator\")\n"
   ]
  },
  {
   "cell_type": "code",
   "execution_count": null,
   "metadata": {},
   "outputs": [],
   "source": []
  }
 ],
 "metadata": {
  "kernelspec": {
   "display_name": "jcrosas-Python_meetings",
   "language": "python",
   "name": "python3"
  },
  "language_info": {
   "codemirror_mode": {
    "name": "ipython",
    "version": 3
   },
   "file_extension": ".py",
   "mimetype": "text/x-python",
   "name": "python",
   "nbconvert_exporter": "python",
   "pygments_lexer": "ipython3",
   "version": "3.9.18"
  }
 },
 "nbformat": 4,
 "nbformat_minor": 2
}
